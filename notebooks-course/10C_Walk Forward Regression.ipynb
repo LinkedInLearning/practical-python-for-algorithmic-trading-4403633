{
  "cells": [
    {
      "attachments": {},
      "cell_type": "markdown",
      "id": "6403faa6-221a-4cc5-a836-21cc4e95a4db",
      "metadata": {},
      "source": [
        "# Challenge: Walk Forward on Other Datasets"
      ]
    },
    {
      "attachments": {},
      "cell_type": "markdown",
      "id": "0f64d832-603d-44ed-a748-444f1a4fe675",
      "metadata": {},
      "source": [
        "## Download data from `yfinance`"
      ]
    },
    {
      "cell_type": "code",
      "execution_count": 2,
      "id": "61ef7629-6940-4064-ab78-829856c6ba01",
      "metadata": {},
      "outputs": [
        {
          "name": "stdout",
          "output_type": "stream",
          "text": [
            "[*********************100%***********************]  1 of 1 completed\n"
          ]
        },
        {
          "data": {
            "text/html": [
              "<div>\n",
              "<style scoped>\n",
              "    .dataframe tbody tr th:only-of-type {\n",
              "        vertical-align: middle;\n",
              "    }\n",
              "\n",
              "    .dataframe tbody tr th {\n",
              "        vertical-align: top;\n",
              "    }\n",
              "\n",
              "    .dataframe thead th {\n",
              "        text-align: right;\n",
              "    }\n",
              "</style>\n",
              "<table border=\"1\" class=\"dataframe\">\n",
              "  <thead>\n",
              "    <tr style=\"text-align: right;\">\n",
              "      <th></th>\n",
              "      <th>Open</th>\n",
              "      <th>High</th>\n",
              "      <th>Low</th>\n",
              "      <th>Close</th>\n",
              "      <th>Adj Close</th>\n",
              "      <th>Volume</th>\n",
              "    </tr>\n",
              "    <tr>\n",
              "      <th>Date</th>\n",
              "      <th></th>\n",
              "      <th></th>\n",
              "      <th></th>\n",
              "      <th></th>\n",
              "      <th></th>\n",
              "      <th></th>\n",
              "    </tr>\n",
              "  </thead>\n",
              "  <tbody>\n",
              "    <tr>\n",
              "      <th>1980-12-12</th>\n",
              "      <td>0.128348</td>\n",
              "      <td>0.128906</td>\n",
              "      <td>0.128348</td>\n",
              "      <td>0.128348</td>\n",
              "      <td>0.099584</td>\n",
              "      <td>469033600</td>\n",
              "    </tr>\n",
              "    <tr>\n",
              "      <th>1980-12-15</th>\n",
              "      <td>0.122210</td>\n",
              "      <td>0.122210</td>\n",
              "      <td>0.121652</td>\n",
              "      <td>0.121652</td>\n",
              "      <td>0.094388</td>\n",
              "      <td>175884800</td>\n",
              "    </tr>\n",
              "    <tr>\n",
              "      <th>...</th>\n",
              "      <td>...</td>\n",
              "      <td>...</td>\n",
              "      <td>...</td>\n",
              "      <td>...</td>\n",
              "      <td>...</td>\n",
              "      <td>...</td>\n",
              "    </tr>\n",
              "    <tr>\n",
              "      <th>2023-05-15</th>\n",
              "      <td>173.160004</td>\n",
              "      <td>173.210007</td>\n",
              "      <td>171.470001</td>\n",
              "      <td>172.070007</td>\n",
              "      <td>172.070007</td>\n",
              "      <td>37266700</td>\n",
              "    </tr>\n",
              "    <tr>\n",
              "      <th>2023-05-16</th>\n",
              "      <td>171.990005</td>\n",
              "      <td>173.139999</td>\n",
              "      <td>171.800003</td>\n",
              "      <td>172.070007</td>\n",
              "      <td>172.070007</td>\n",
              "      <td>42071100</td>\n",
              "    </tr>\n",
              "  </tbody>\n",
              "</table>\n",
              "<p>10696 rows × 6 columns</p>\n",
              "</div>"
            ],
            "text/plain": [
              "                  Open        High         Low       Close   Adj Close  \\\n",
              "Date                                                                     \n",
              "1980-12-12    0.128348    0.128906    0.128348    0.128348    0.099584   \n",
              "1980-12-15    0.122210    0.122210    0.121652    0.121652    0.094388   \n",
              "...                ...         ...         ...         ...         ...   \n",
              "2023-05-15  173.160004  173.210007  171.470001  172.070007  172.070007   \n",
              "2023-05-16  171.990005  173.139999  171.800003  172.070007  172.070007   \n",
              "\n",
              "               Volume  \n",
              "Date                   \n",
              "1980-12-12  469033600  \n",
              "1980-12-15  175884800  \n",
              "...               ...  \n",
              "2023-05-15   37266700  \n",
              "2023-05-16   42071100  \n",
              "\n",
              "[10696 rows x 6 columns]"
            ]
          },
          "execution_count": 2,
          "metadata": {},
          "output_type": "execute_result"
        }
      ],
      "source": [
        "import yfinance as yf\n",
        "\n",
        "ticker = 'AAPL'\n",
        "df = yf.download(ticker, multi_level_index=False, auto_adjust=False)\n",
        "df"
      ]
    },
    {
      "attachments": {},
      "cell_type": "markdown",
      "id": "723e350a-e1d9-4489-be1d-cfb15dd500a1",
      "metadata": {},
      "source": [
        "## Preprocess the data"
      ]
    },
    {
      "attachments": {},
      "cell_type": "markdown",
      "id": "767768ca-56e5-45e4-8bb5-3d7c9fcd7a76",
      "metadata": {},
      "source": [
        "### Filter the date range"
      ]
    },
    {
      "cell_type": "code",
      "execution_count": 3,
      "id": "1013b0a9-1c09-4993-9caa-ac54e220db9c",
      "metadata": {},
      "outputs": [],
      "source": [
        "df = df.loc['2018-01-01':].copy()"
      ]
    },
    {
      "attachments": {},
      "cell_type": "markdown",
      "id": "6bd2c18d-976d-4408-b167-2b39bb5f56ce",
      "metadata": {},
      "source": [
        "### Create the target variable\n",
        "\n",
        "#### Percentage change\n",
        "\n",
        "- Percentage change on `Adj Close` for tomorrow"
      ]
    },
    {
      "cell_type": "code",
      "execution_count": 4,
      "id": "9722486d-7552-45ae-ac50-0d11658fb1b9",
      "metadata": {},
      "outputs": [],
      "source": [
        "df['change_tomorrow'] = df['Adj Close'].pct_change(-1)\n",
        "df.change_tomorrow = df.change_tomorrow * -1\n",
        "df.change_tomorrow = df.change_tomorrow * 100"
      ]
    },
    {
      "attachments": {},
      "cell_type": "markdown",
      "id": "7e99ef6d-4972-4eab-9984-370cbb7690c0",
      "metadata": {},
      "source": [
        "#### Remove rows with any missing data"
      ]
    },
    {
      "cell_type": "code",
      "execution_count": 5,
      "id": "2569c738-17c1-4b1f-a8a4-f24cbcef6dc2",
      "metadata": {},
      "outputs": [
        {
          "data": {
            "text/html": [
              "<div>\n",
              "<style scoped>\n",
              "    .dataframe tbody tr th:only-of-type {\n",
              "        vertical-align: middle;\n",
              "    }\n",
              "\n",
              "    .dataframe tbody tr th {\n",
              "        vertical-align: top;\n",
              "    }\n",
              "\n",
              "    .dataframe thead th {\n",
              "        text-align: right;\n",
              "    }\n",
              "</style>\n",
              "<table border=\"1\" class=\"dataframe\">\n",
              "  <thead>\n",
              "    <tr style=\"text-align: right;\">\n",
              "      <th></th>\n",
              "      <th>Open</th>\n",
              "      <th>High</th>\n",
              "      <th>Low</th>\n",
              "      <th>Close</th>\n",
              "      <th>Adj Close</th>\n",
              "      <th>Volume</th>\n",
              "      <th>change_tomorrow</th>\n",
              "    </tr>\n",
              "    <tr>\n",
              "      <th>Date</th>\n",
              "      <th></th>\n",
              "      <th></th>\n",
              "      <th></th>\n",
              "      <th></th>\n",
              "      <th></th>\n",
              "      <th></th>\n",
              "      <th></th>\n",
              "    </tr>\n",
              "  </thead>\n",
              "  <tbody>\n",
              "    <tr>\n",
              "      <th>2018-01-02</th>\n",
              "      <td>42.540001</td>\n",
              "      <td>43.075001</td>\n",
              "      <td>42.314999</td>\n",
              "      <td>43.064999</td>\n",
              "      <td>40.831585</td>\n",
              "      <td>102223600</td>\n",
              "      <td>-0.017417</td>\n",
              "    </tr>\n",
              "    <tr>\n",
              "      <th>2018-01-03</th>\n",
              "      <td>43.132500</td>\n",
              "      <td>43.637501</td>\n",
              "      <td>42.990002</td>\n",
              "      <td>43.057499</td>\n",
              "      <td>40.824474</td>\n",
              "      <td>118071600</td>\n",
              "      <td>0.462368</td>\n",
              "    </tr>\n",
              "    <tr>\n",
              "      <th>...</th>\n",
              "      <td>...</td>\n",
              "      <td>...</td>\n",
              "      <td>...</td>\n",
              "      <td>...</td>\n",
              "      <td>...</td>\n",
              "      <td>...</td>\n",
              "      <td>...</td>\n",
              "    </tr>\n",
              "    <tr>\n",
              "      <th>2023-05-12</th>\n",
              "      <td>173.619995</td>\n",
              "      <td>174.059998</td>\n",
              "      <td>171.000000</td>\n",
              "      <td>172.570007</td>\n",
              "      <td>172.570007</td>\n",
              "      <td>45497800</td>\n",
              "      <td>-0.290579</td>\n",
              "    </tr>\n",
              "    <tr>\n",
              "      <th>2023-05-15</th>\n",
              "      <td>173.160004</td>\n",
              "      <td>173.210007</td>\n",
              "      <td>171.470001</td>\n",
              "      <td>172.070007</td>\n",
              "      <td>172.070007</td>\n",
              "      <td>37266700</td>\n",
              "      <td>-0.000000</td>\n",
              "    </tr>\n",
              "  </tbody>\n",
              "</table>\n",
              "<p>1351 rows × 7 columns</p>\n",
              "</div>"
            ],
            "text/plain": [
              "                  Open        High         Low       Close   Adj Close  \\\n",
              "Date                                                                     \n",
              "2018-01-02   42.540001   43.075001   42.314999   43.064999   40.831585   \n",
              "2018-01-03   43.132500   43.637501   42.990002   43.057499   40.824474   \n",
              "...                ...         ...         ...         ...         ...   \n",
              "2023-05-12  173.619995  174.059998  171.000000  172.570007  172.570007   \n",
              "2023-05-15  173.160004  173.210007  171.470001  172.070007  172.070007   \n",
              "\n",
              "               Volume  change_tomorrow  \n",
              "Date                                    \n",
              "2018-01-02  102223600        -0.017417  \n",
              "2018-01-03  118071600         0.462368  \n",
              "...               ...              ...  \n",
              "2023-05-12   45497800        -0.290579  \n",
              "2023-05-15   37266700        -0.000000  \n",
              "\n",
              "[1351 rows x 7 columns]"
            ]
          },
          "execution_count": 5,
          "metadata": {},
          "output_type": "execute_result"
        }
      ],
      "source": [
        "df = df.dropna().copy()\n",
        "df"
      ]
    },
    {
      "attachments": {},
      "cell_type": "markdown",
      "id": "655d6108-af74-4292-a4b4-493616cbe23e",
      "metadata": {},
      "source": [
        "## Machine Learning modelling"
      ]
    },
    {
      "attachments": {},
      "cell_type": "markdown",
      "id": "9fce80a7-9450-4b03-ad2b-606740fc43e8",
      "metadata": {},
      "source": [
        "### Separate the data\n",
        "\n",
        "1. Target: which variable do you want to predict?\n",
        "2. Explanatory: which variables will you use to calculate the prediction?"
      ]
    },
    {
      "cell_type": "code",
      "execution_count": 6,
      "id": "ef3796a9-334d-48b2-b516-0c1e9122dbbc",
      "metadata": {},
      "outputs": [],
      "source": [
        "y = df.change_tomorrow\n",
        "X = df[['Open','High','Low','Close','Volume']]"
      ]
    },
    {
      "attachments": {},
      "cell_type": "markdown",
      "id": "4166d62a-ce20-4983-a6e1-a21104257369",
      "metadata": {},
      "source": [
        "### Time Series Split"
      ]
    },
    {
      "cell_type": "code",
      "execution_count": 8,
      "id": "2adea422-25dd-4b9e-9bc9-18655eededab",
      "metadata": {},
      "outputs": [],
      "source": [
        "from sklearn.model_selection import TimeSeriesSplit"
      ]
    },
    {
      "cell_type": "code",
      "execution_count": null,
      "id": "0e21de34",
      "metadata": {},
      "outputs": [],
      "source": [
        "ts = TimeSeriesSplit"
      ]
    },
    {
      "attachments": {},
      "cell_type": "markdown",
      "id": "9bd32790-1b1f-450b-bd30-3438ab26e8f3",
      "metadata": {},
      "source": [
        "### Compute and evaluate model in a for loop\n",
        "\n",
        "1. Separate the data in train and test\n",
        "2. Compute the model on the train set\n",
        "3. Evaluate the model (mse) on the test set\n",
        "4. Append the errors (mse) in an empty list"
      ]
    },
    {
      "cell_type": "code",
      "execution_count": 9,
      "id": "59b64085",
      "metadata": {},
      "outputs": [],
      "source": [
        "from sklearn.ensemble import RandomForestRegressor"
      ]
    },
    {
      "cell_type": "code",
      "execution_count": 11,
      "id": "5f94397c",
      "metadata": {},
      "outputs": [
        {
          "data": {
            "text/html": [
              "<style>#sk-container-id-1 {color: black;background-color: white;}#sk-container-id-1 pre{padding: 0;}#sk-container-id-1 div.sk-toggleable {background-color: white;}#sk-container-id-1 label.sk-toggleable__label {cursor: pointer;display: block;width: 100%;margin-bottom: 0;padding: 0.3em;box-sizing: border-box;text-align: center;}#sk-container-id-1 label.sk-toggleable__label-arrow:before {content: \"▸\";float: left;margin-right: 0.25em;color: #696969;}#sk-container-id-1 label.sk-toggleable__label-arrow:hover:before {color: black;}#sk-container-id-1 div.sk-estimator:hover label.sk-toggleable__label-arrow:before {color: black;}#sk-container-id-1 div.sk-toggleable__content {max-height: 0;max-width: 0;overflow: hidden;text-align: left;background-color: #f0f8ff;}#sk-container-id-1 div.sk-toggleable__content pre {margin: 0.2em;color: black;border-radius: 0.25em;background-color: #f0f8ff;}#sk-container-id-1 input.sk-toggleable__control:checked~div.sk-toggleable__content {max-height: 200px;max-width: 100%;overflow: auto;}#sk-container-id-1 input.sk-toggleable__control:checked~label.sk-toggleable__label-arrow:before {content: \"▾\";}#sk-container-id-1 div.sk-estimator input.sk-toggleable__control:checked~label.sk-toggleable__label {background-color: #d4ebff;}#sk-container-id-1 div.sk-label input.sk-toggleable__control:checked~label.sk-toggleable__label {background-color: #d4ebff;}#sk-container-id-1 input.sk-hidden--visually {border: 0;clip: rect(1px 1px 1px 1px);clip: rect(1px, 1px, 1px, 1px);height: 1px;margin: -1px;overflow: hidden;padding: 0;position: absolute;width: 1px;}#sk-container-id-1 div.sk-estimator {font-family: monospace;background-color: #f0f8ff;border: 1px dotted black;border-radius: 0.25em;box-sizing: border-box;margin-bottom: 0.5em;}#sk-container-id-1 div.sk-estimator:hover {background-color: #d4ebff;}#sk-container-id-1 div.sk-parallel-item::after {content: \"\";width: 100%;border-bottom: 1px solid gray;flex-grow: 1;}#sk-container-id-1 div.sk-label:hover label.sk-toggleable__label {background-color: #d4ebff;}#sk-container-id-1 div.sk-serial::before {content: \"\";position: absolute;border-left: 1px solid gray;box-sizing: border-box;top: 0;bottom: 0;left: 50%;z-index: 0;}#sk-container-id-1 div.sk-serial {display: flex;flex-direction: column;align-items: center;background-color: white;padding-right: 0.2em;padding-left: 0.2em;position: relative;}#sk-container-id-1 div.sk-item {position: relative;z-index: 1;}#sk-container-id-1 div.sk-parallel {display: flex;align-items: stretch;justify-content: center;background-color: white;position: relative;}#sk-container-id-1 div.sk-item::before, #sk-container-id-1 div.sk-parallel-item::before {content: \"\";position: absolute;border-left: 1px solid gray;box-sizing: border-box;top: 0;bottom: 0;left: 50%;z-index: -1;}#sk-container-id-1 div.sk-parallel-item {display: flex;flex-direction: column;z-index: 1;position: relative;background-color: white;}#sk-container-id-1 div.sk-parallel-item:first-child::after {align-self: flex-end;width: 50%;}#sk-container-id-1 div.sk-parallel-item:last-child::after {align-self: flex-start;width: 50%;}#sk-container-id-1 div.sk-parallel-item:only-child::after {width: 0;}#sk-container-id-1 div.sk-dashed-wrapped {border: 1px dashed gray;margin: 0 0.4em 0.5em 0.4em;box-sizing: border-box;padding-bottom: 0.4em;background-color: white;}#sk-container-id-1 div.sk-label label {font-family: monospace;font-weight: bold;display: inline-block;line-height: 1.2em;}#sk-container-id-1 div.sk-label-container {text-align: center;}#sk-container-id-1 div.sk-container {/* jupyter's `normalize.less` sets `[hidden] { display: none; }` but bootstrap.min.css set `[hidden] { display: none !important; }` so we also need the `!important` here to be able to override the default hidden behavior on the sphinx rendered scikit-learn.org. See: https://github.com/scikit-learn/scikit-learn/issues/21755 */display: inline-block !important;position: relative;}#sk-container-id-1 div.sk-text-repr-fallback {display: none;}</style><div id=\"sk-container-id-1\" class=\"sk-top-container\"><div class=\"sk-text-repr-fallback\"><pre>RandomForestRegressor()</pre><b>In a Jupyter environment, please rerun this cell to show the HTML representation or trust the notebook. <br />On GitHub, the HTML representation is unable to render, please try loading this page with nbviewer.org.</b></div><div class=\"sk-container\" hidden><div class=\"sk-item\"><div class=\"sk-estimator sk-toggleable\"><input class=\"sk-toggleable__control sk-hidden--visually\" id=\"sk-estimator-id-1\" type=\"checkbox\" checked><label for=\"sk-estimator-id-1\" class=\"sk-toggleable__label sk-toggleable__label-arrow\">RandomForestRegressor</label><div class=\"sk-toggleable__content\"><pre>RandomForestRegressor()</pre></div></div></div></div></div>"
            ],
            "text/plain": [
              "RandomForestRegressor()"
            ]
          },
          "execution_count": 11,
          "metadata": {},
          "output_type": "execute_result"
        }
      ],
      "source": [
        "list_mse = []\n",
        "\n",
        "for ...\n",
        "  model = RandomForestRegressor()\n",
        "  model.fit(X, y)\n",
        "  mse = mean_squared_error()\n",
        "  \n",
        "  list_mse.append(mse)"
      ]
    },
    {
      "cell_type": "code",
      "execution_count": 12,
      "id": "9ff7e94e",
      "metadata": {},
      "outputs": [],
      "source": [
        "from sklearn.metrics import mean_squared_error"
      ]
    },
    {
      "cell_type": "code",
      "execution_count": null,
      "id": "bfa5e2b1",
      "metadata": {},
      "outputs": [],
      "source": []
    },
    {
      "cell_type": "code",
      "execution_count": null,
      "id": "0a650952-2636-4244-bb33-0ffb2cf599b0",
      "metadata": {},
      "outputs": [],
      "source": [
        "for ..."
      ]
    },
    {
      "attachments": {},
      "cell_type": "markdown",
      "id": "4b381ac4-c140-4150-9f95-3bff60adca2b",
      "metadata": {},
      "source": [
        "## Anchored Walk Forward evaluation in backtesting"
      ]
    },
    {
      "attachments": {},
      "cell_type": "markdown",
      "id": "9233cc82",
      "metadata": {},
      "source": [
        "![](<src/10_Table_Validation Methods.png>)"
      ]
    },
    {
      "attachments": {},
      "cell_type": "markdown",
      "id": "3e9a4d80-7db7-4f64-965f-36439ffa2fee",
      "metadata": {},
      "source": [
        "### Create a new strategy"
      ]
    },
    {
      "cell_type": "code",
      "execution_count": null,
      "id": "9958edec",
      "metadata": {},
      "outputs": [],
      "source": [
        "from backtesting import Strategy"
      ]
    },
    {
      "cell_type": "code",
      "execution_count": null,
      "id": "dacf7ad0-b5d5-471e-b84e-971bc9c5aff1",
      "metadata": {},
      "outputs": [],
      "source": [
        "class Regression(Strategy):\n",
        "    ???\n",
        "    \n",
        "    def init(self):\n",
        "        ???\n",
        "            \n",
        "        X_train = ???\n",
        "        y_train = ???\n",
        "        \n",
        "        ???\n",
        "\n",
        "    def next(self):\n",
        "        explanatory_today = self.data.df.iloc[[-1], :-1]\n",
        "        forecast_tomorrow = self.model.predict(explanatory_today)[0]\n",
        "        \n",
        "        if forecast_tomorrow > self.limit_buy and self.already_bought == False:\n",
        "            self.buy()\n",
        "            self.already_bought = True\n",
        "        elif forecast_tomorrow < self.limit_sell and self.already_bought == True:\n",
        "            self.sell()\n",
        "            self.already_bought = False\n",
        "        else:\n",
        "            pass"
      ]
    },
    {
      "cell_type": "code",
      "execution_count": null,
      "id": "e53301e7",
      "metadata": {},
      "outputs": [],
      "source": [
        "class WalkForwardAnchored(Regression):\n",
        "  \n",
        "    def ???(self):\n",
        "      \n",
        "      # conditions to retrain the model\n",
        "      \n",
        "      super().next()"
      ]
    },
    {
      "attachments": {},
      "cell_type": "markdown",
      "id": "b667d2c0-a4b0-40bc-808d-b93b604f2e1b",
      "metadata": {},
      "source": [
        "### Run the backtest with optimization"
      ]
    },
    {
      "cell_type": "code",
      "execution_count": null,
      "id": "4c10fbc9-f968-4eaf-a681-b70f8ec66068",
      "metadata": {},
      "outputs": [],
      "source": [
        "import multiprocessing as mp\n",
        "mp.set_start_method('fork')"
      ]
    },
    {
      "cell_type": "code",
      "execution_count": null,
      "id": "dd460401",
      "metadata": {},
      "outputs": [],
      "source": [
        "from backtesting import Backtest\n",
        "bt = Backtest(???, ???, cash=10000, commission=.002, exclusive_orders=True)"
      ]
    },
    {
      "cell_type": "code",
      "execution_count": null,
      "id": "6d734ed2-eca6-4a2e-8354-77f838e68bcf",
      "metadata": {},
      "outputs": [],
      "source": [
        "bt.optimize(???)"
      ]
    },
    {
      "attachments": {},
      "cell_type": "markdown",
      "id": "5e4bb005-9451-4b3a-ad1f-68677aa0070a",
      "metadata": {},
      "source": [
        "## Unanchored Walk Forward"
      ]
    },
    {
      "attachments": {},
      "cell_type": "markdown",
      "id": "927ec43c",
      "metadata": {},
      "source": [
        "### Create a library of strategies"
      ]
    },
    {
      "attachments": {},
      "cell_type": "markdown",
      "id": "9f43c0ec-be9d-49e3-968e-5697a4997ac8",
      "metadata": {},
      "source": [
        "[strategies.py](strategies.py)"
      ]
    },
    {
      "attachments": {},
      "cell_type": "markdown",
      "id": "a217d7d6",
      "metadata": {},
      "source": [
        "### Create the unanchored walk forward class\n",
        "\n",
        "In the previously created library"
      ]
    },
    {
      "attachments": {},
      "cell_type": "markdown",
      "id": "2746c22f",
      "metadata": {},
      "source": [
        "![](<src/10_Table_Validation Methods.png>)"
      ]
    },
    {
      "attachments": {},
      "cell_type": "markdown",
      "id": "b73a4767",
      "metadata": {},
      "source": [
        "### Import the strategy and perform the backtest with optimization"
      ]
    },
    {
      "cell_type": "code",
      "execution_count": null,
      "id": "dbf7436c",
      "metadata": {},
      "outputs": [],
      "source": [
        "%load_ext autoreload\n",
        "%autoreload 2"
      ]
    },
    {
      "cell_type": "code",
      "execution_count": null,
      "id": "3b0396c5",
      "metadata": {},
      "outputs": [],
      "source": [
        "import ???"
      ]
    },
    {
      "cell_type": "code",
      "execution_count": null,
      "id": "8d439835-ecfb-45d3-a5c8-eb40a26b51d9",
      "metadata": {},
      "outputs": [],
      "source": [
        "bt_unanchored = Backtest(df, ???, cash=10000, commission=.002, exclusive_orders=True)\n",
        "\n",
        "bt_unanchored.optimize(???)"
      ]
    },
    {
      "attachments": {},
      "cell_type": "markdown",
      "id": "7eee71ca",
      "metadata": {},
      "source": [
        "### Interpret the strategies' performance"
      ]
    },
    {
      "cell_type": "code",
      "execution_count": null,
      "id": "16834683",
      "metadata": {},
      "outputs": [],
      "source": [
        "bt.???"
      ]
    },
    {
      "cell_type": "code",
      "execution_count": null,
      "id": "efbb0798",
      "metadata": {},
      "outputs": [],
      "source": [
        "bt_unanchored.???"
      ]
    },
    {
      "attachments": {},
      "cell_type": "markdown",
      "id": "b5ff1fe0",
      "metadata": {},
      "source": [
        "## Course Conclusion\n",
        "\n",
        "Watch video → [Next steps]()"
      ]
    }
  ],
  "metadata": {
    "kernelspec": {
      "display_name": "Python 3",
      "language": "python",
      "name": "python3"
    },
    "language_info": {
      "codemirror_mode": {
        "name": "ipython",
        "version": 3
      },
      "file_extension": ".py",
      "mimetype": "text/x-python",
      "name": "python",
      "nbconvert_exporter": "python",
      "pygments_lexer": "ipython3",
      "version": "3.10.10"
    }
  },
  "nbformat": 4,
  "nbformat_minor": 5
}