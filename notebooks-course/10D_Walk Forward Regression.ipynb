{
  "cells": [
    {
      "attachments": {},
      "cell_type": "markdown",
      "id": "6403faa6-221a-4cc5-a836-21cc4e95a4db",
      "metadata": {},
      "source": [
        "# Challenge: Walk Forward on Other Datasets"
      ]
    },
    {
      "attachments": {},
      "cell_type": "markdown",
      "id": "0f64d832-603d-44ed-a748-444f1a4fe675",
      "metadata": {},
      "source": [
        "## Download data from `yfinance`"
      ]
    },
    {
      "cell_type": "code",
      "execution_count": 1,
      "id": "61ef7629-6940-4064-ab78-829856c6ba01",
      "metadata": {},
      "outputs": [
        {
          "name": "stdout",
          "output_type": "stream",
          "text": [
            "[*********************100%***********************]  1 of 1 completed\n"
          ]
        },
        {
          "data": {
            "text/html": [
              "<div>\n",
              "<style scoped>\n",
              "    .dataframe tbody tr th:only-of-type {\n",
              "        vertical-align: middle;\n",
              "    }\n",
              "\n",
              "    .dataframe tbody tr th {\n",
              "        vertical-align: top;\n",
              "    }\n",
              "\n",
              "    .dataframe thead th {\n",
              "        text-align: right;\n",
              "    }\n",
              "</style>\n",
              "<table border=\"1\" class=\"dataframe\">\n",
              "  <thead>\n",
              "    <tr style=\"text-align: right;\">\n",
              "      <th></th>\n",
              "      <th>Open</th>\n",
              "      <th>High</th>\n",
              "      <th>Low</th>\n",
              "      <th>Close</th>\n",
              "      <th>Adj Close</th>\n",
              "      <th>Volume</th>\n",
              "    </tr>\n",
              "    <tr>\n",
              "      <th>Date</th>\n",
              "      <th></th>\n",
              "      <th></th>\n",
              "      <th></th>\n",
              "      <th></th>\n",
              "      <th></th>\n",
              "      <th></th>\n",
              "    </tr>\n",
              "  </thead>\n",
              "  <tbody>\n",
              "    <tr>\n",
              "      <th>1980-12-12</th>\n",
              "      <td>0.128348</td>\n",
              "      <td>0.128906</td>\n",
              "      <td>0.128348</td>\n",
              "      <td>0.128348</td>\n",
              "      <td>0.099584</td>\n",
              "      <td>469033600</td>\n",
              "    </tr>\n",
              "    <tr>\n",
              "      <th>1980-12-15</th>\n",
              "      <td>0.122210</td>\n",
              "      <td>0.122210</td>\n",
              "      <td>0.121652</td>\n",
              "      <td>0.121652</td>\n",
              "      <td>0.094388</td>\n",
              "      <td>175884800</td>\n",
              "    </tr>\n",
              "    <tr>\n",
              "      <th>...</th>\n",
              "      <td>...</td>\n",
              "      <td>...</td>\n",
              "      <td>...</td>\n",
              "      <td>...</td>\n",
              "      <td>...</td>\n",
              "      <td>...</td>\n",
              "    </tr>\n",
              "    <tr>\n",
              "      <th>2023-05-15</th>\n",
              "      <td>173.160004</td>\n",
              "      <td>173.210007</td>\n",
              "      <td>171.470001</td>\n",
              "      <td>172.070007</td>\n",
              "      <td>172.070007</td>\n",
              "      <td>37266700</td>\n",
              "    </tr>\n",
              "    <tr>\n",
              "      <th>2023-05-16</th>\n",
              "      <td>171.990005</td>\n",
              "      <td>173.139999</td>\n",
              "      <td>171.800003</td>\n",
              "      <td>172.070007</td>\n",
              "      <td>172.070007</td>\n",
              "      <td>42071100</td>\n",
              "    </tr>\n",
              "  </tbody>\n",
              "</table>\n",
              "<p>10696 rows × 6 columns</p>\n",
              "</div>"
            ],
            "text/plain": [
              "                  Open        High         Low       Close   Adj Close  \\\n",
              "Date                                                                     \n",
              "1980-12-12    0.128348    0.128906    0.128348    0.128348    0.099584   \n",
              "1980-12-15    0.122210    0.122210    0.121652    0.121652    0.094388   \n",
              "...                ...         ...         ...         ...         ...   \n",
              "2023-05-15  173.160004  173.210007  171.470001  172.070007  172.070007   \n",
              "2023-05-16  171.990005  173.139999  171.800003  172.070007  172.070007   \n",
              "\n",
              "               Volume  \n",
              "Date                   \n",
              "1980-12-12  469033600  \n",
              "1980-12-15  175884800  \n",
              "...               ...  \n",
              "2023-05-15   37266700  \n",
              "2023-05-16   42071100  \n",
              "\n",
              "[10696 rows x 6 columns]"
            ]
          },
          "execution_count": 1,
          "metadata": {},
          "output_type": "execute_result"
        }
      ],
      "source": [
        "import yfinance as yf\n",
        "\n",
        "ticker = 'AAPL'\n",
        "df = yf.download(ticker, multi_level_index=False, auto_adjust=False)\n",
        "df"
      ]
    },
    {
      "attachments": {},
      "cell_type": "markdown",
      "id": "723e350a-e1d9-4489-be1d-cfb15dd500a1",
      "metadata": {},
      "source": [
        "## Preprocess the data"
      ]
    },
    {
      "attachments": {},
      "cell_type": "markdown",
      "id": "767768ca-56e5-45e4-8bb5-3d7c9fcd7a76",
      "metadata": {},
      "source": [
        "### Filter the date range"
      ]
    },
    {
      "cell_type": "code",
      "execution_count": 2,
      "id": "1013b0a9-1c09-4993-9caa-ac54e220db9c",
      "metadata": {},
      "outputs": [],
      "source": [
        "df = df.loc['2018-01-01':].copy()"
      ]
    },
    {
      "attachments": {},
      "cell_type": "markdown",
      "id": "6bd2c18d-976d-4408-b167-2b39bb5f56ce",
      "metadata": {},
      "source": [
        "### Create the target variable\n",
        "\n",
        "#### Percentage change\n",
        "\n",
        "- Percentage change on `Adj Close` for tomorrow"
      ]
    },
    {
      "cell_type": "code",
      "execution_count": 3,
      "id": "9722486d-7552-45ae-ac50-0d11658fb1b9",
      "metadata": {},
      "outputs": [],
      "source": [
        "df['change_tomorrow'] = df['Adj Close'].pct_change(-1)\n",
        "df.change_tomorrow = df.change_tomorrow * -1\n",
        "df.change_tomorrow = df.change_tomorrow * 100"
      ]
    },
    {
      "attachments": {},
      "cell_type": "markdown",
      "id": "7e99ef6d-4972-4eab-9984-370cbb7690c0",
      "metadata": {},
      "source": [
        "#### Remove rows with any missing data"
      ]
    },
    {
      "cell_type": "code",
      "execution_count": 4,
      "id": "2569c738-17c1-4b1f-a8a4-f24cbcef6dc2",
      "metadata": {},
      "outputs": [
        {
          "data": {
            "text/html": [
              "<div>\n",
              "<style scoped>\n",
              "    .dataframe tbody tr th:only-of-type {\n",
              "        vertical-align: middle;\n",
              "    }\n",
              "\n",
              "    .dataframe tbody tr th {\n",
              "        vertical-align: top;\n",
              "    }\n",
              "\n",
              "    .dataframe thead th {\n",
              "        text-align: right;\n",
              "    }\n",
              "</style>\n",
              "<table border=\"1\" class=\"dataframe\">\n",
              "  <thead>\n",
              "    <tr style=\"text-align: right;\">\n",
              "      <th></th>\n",
              "      <th>Open</th>\n",
              "      <th>High</th>\n",
              "      <th>Low</th>\n",
              "      <th>Close</th>\n",
              "      <th>Adj Close</th>\n",
              "      <th>Volume</th>\n",
              "      <th>change_tomorrow</th>\n",
              "    </tr>\n",
              "    <tr>\n",
              "      <th>Date</th>\n",
              "      <th></th>\n",
              "      <th></th>\n",
              "      <th></th>\n",
              "      <th></th>\n",
              "      <th></th>\n",
              "      <th></th>\n",
              "      <th></th>\n",
              "    </tr>\n",
              "  </thead>\n",
              "  <tbody>\n",
              "    <tr>\n",
              "      <th>2018-01-02</th>\n",
              "      <td>42.540001</td>\n",
              "      <td>43.075001</td>\n",
              "      <td>42.314999</td>\n",
              "      <td>43.064999</td>\n",
              "      <td>40.831589</td>\n",
              "      <td>102223600</td>\n",
              "      <td>-0.017446</td>\n",
              "    </tr>\n",
              "    <tr>\n",
              "      <th>2018-01-03</th>\n",
              "      <td>43.132500</td>\n",
              "      <td>43.637501</td>\n",
              "      <td>42.990002</td>\n",
              "      <td>43.057499</td>\n",
              "      <td>40.824467</td>\n",
              "      <td>118071600</td>\n",
              "      <td>0.462359</td>\n",
              "    </tr>\n",
              "    <tr>\n",
              "      <th>...</th>\n",
              "      <td>...</td>\n",
              "      <td>...</td>\n",
              "      <td>...</td>\n",
              "      <td>...</td>\n",
              "      <td>...</td>\n",
              "      <td>...</td>\n",
              "      <td>...</td>\n",
              "    </tr>\n",
              "    <tr>\n",
              "      <th>2023-05-12</th>\n",
              "      <td>173.619995</td>\n",
              "      <td>174.059998</td>\n",
              "      <td>171.000000</td>\n",
              "      <td>172.570007</td>\n",
              "      <td>172.570007</td>\n",
              "      <td>45497800</td>\n",
              "      <td>-0.290579</td>\n",
              "    </tr>\n",
              "    <tr>\n",
              "      <th>2023-05-15</th>\n",
              "      <td>173.160004</td>\n",
              "      <td>173.210007</td>\n",
              "      <td>171.470001</td>\n",
              "      <td>172.070007</td>\n",
              "      <td>172.070007</td>\n",
              "      <td>37266700</td>\n",
              "      <td>-0.000000</td>\n",
              "    </tr>\n",
              "  </tbody>\n",
              "</table>\n",
              "<p>1351 rows × 7 columns</p>\n",
              "</div>"
            ],
            "text/plain": [
              "                  Open        High         Low       Close   Adj Close  \\\n",
              "Date                                                                     \n",
              "2018-01-02   42.540001   43.075001   42.314999   43.064999   40.831589   \n",
              "2018-01-03   43.132500   43.637501   42.990002   43.057499   40.824467   \n",
              "...                ...         ...         ...         ...         ...   \n",
              "2023-05-12  173.619995  174.059998  171.000000  172.570007  172.570007   \n",
              "2023-05-15  173.160004  173.210007  171.470001  172.070007  172.070007   \n",
              "\n",
              "               Volume  change_tomorrow  \n",
              "Date                                    \n",
              "2018-01-02  102223600        -0.017446  \n",
              "2018-01-03  118071600         0.462359  \n",
              "...               ...              ...  \n",
              "2023-05-12   45497800        -0.290579  \n",
              "2023-05-15   37266700        -0.000000  \n",
              "\n",
              "[1351 rows x 7 columns]"
            ]
          },
          "execution_count": 4,
          "metadata": {},
          "output_type": "execute_result"
        }
      ],
      "source": [
        "df = df.dropna().copy()\n",
        "df"
      ]
    },
    {
      "attachments": {},
      "cell_type": "markdown",
      "id": "655d6108-af74-4292-a4b4-493616cbe23e",
      "metadata": {},
      "source": [
        "## Machine Learning modelling"
      ]
    },
    {
      "attachments": {},
      "cell_type": "markdown",
      "id": "9fce80a7-9450-4b03-ad2b-606740fc43e8",
      "metadata": {},
      "source": [
        "### Separate the data\n",
        "\n",
        "1. Target: which variable do you want to predict?\n",
        "2. Explanatory: which variables will you use to calculate the prediction?"
      ]
    },
    {
      "cell_type": "code",
      "execution_count": 5,
      "id": "ef3796a9-334d-48b2-b516-0c1e9122dbbc",
      "metadata": {},
      "outputs": [],
      "source": [
        "y = df.change_tomorrow\n",
        "X = df[['Open','High','Low','Close','Volume']]"
      ]
    },
    {
      "attachments": {},
      "cell_type": "markdown",
      "id": "4166d62a-ce20-4983-a6e1-a21104257369",
      "metadata": {},
      "source": [
        "### Time Series Split"
      ]
    },
    {
      "cell_type": "code",
      "execution_count": 6,
      "id": "b4d635cd-7365-4012-a1d2-a7b119159480",
      "metadata": {},
      "outputs": [],
      "source": [
        "from sklearn.model_selection import TimeSeriesSplit\n",
        "\n",
        "ts = TimeSeriesSplit(test_size=200)"
      ]
    },
    {
      "attachments": {},
      "cell_type": "markdown",
      "id": "9bd32790-1b1f-450b-bd30-3438ab26e8f3",
      "metadata": {},
      "source": [
        "### Compute and evaluate model in a for loop\n",
        "\n",
        "1. Separate the data in train and test\n",
        "2. Compute the model on the train set\n",
        "3. Evaluate the model (mse) on the test set\n",
        "4. Append the errors (mse) in an empty list"
      ]
    },
    {
      "cell_type": "code",
      "execution_count": 7,
      "id": "a0a51896-6936-4348-b944-b8a2c26f5936",
      "metadata": {},
      "outputs": [],
      "source": [
        "from sklearn.ensemble import RandomForestRegressor\n",
        "from sklearn.metrics import mean_squared_error\n",
        "\n",
        "model_dt = RandomForestRegressor(max_depth=15, random_state=42)\n",
        "\n",
        "error_mse_list = []\n",
        "\n",
        "for index_train, index_test in ts.split(df):\n",
        "    X_train, y_train = X.iloc[index_train], y.iloc[index_train]\n",
        "    X_test, y_test = X.iloc[index_test], y.iloc[index_test]\n",
        "    \n",
        "    model_dt.fit(X_train, y_train)\n",
        "    \n",
        "    y_pred = model_dt.predict(X_test)\n",
        "    error_mse = mean_squared_error(y_test, y_pred)\n",
        "    \n",
        "    error_mse_list.append(error_mse)"
      ]
    },
    {
      "cell_type": "code",
      "execution_count": 8,
      "id": "88785ce0-51d2-43cb-85a1-2ca988833973",
      "metadata": {},
      "outputs": [
        {
          "data": {
            "text/plain": [
              "[5.108167031625211,\n",
              " 9.230690515683133,\n",
              " 11.644622183700466,\n",
              " 4.867255254647329,\n",
              " 3.9569396399781684]"
            ]
          },
          "execution_count": 8,
          "metadata": {},
          "output_type": "execute_result"
        }
      ],
      "source": [
        "error_mse_list"
      ]
    },
    {
      "attachments": {},
      "cell_type": "markdown",
      "id": "4b381ac4-c140-4150-9f95-3bff60adca2b",
      "metadata": {},
      "source": [
        "## Anchored Walk Forward evaluation in backtesting"
      ]
    },
    {
      "attachments": {},
      "cell_type": "markdown",
      "id": "9233cc82",
      "metadata": {},
      "source": [
        "![](<src/10_Table_Validation Methods.png>)"
      ]
    },
    {
      "attachments": {},
      "cell_type": "markdown",
      "id": "3e9a4d80-7db7-4f64-965f-36439ffa2fee",
      "metadata": {},
      "source": [
        "### Create a new strategy"
      ]
    },
    {
      "cell_type": "code",
      "execution_count": 9,
      "id": "be4c0515",
      "metadata": {},
      "outputs": [],
      "source": [
        "from backtesting import Backtest, Strategy"
      ]
    },
    {
      "cell_type": "code",
      "execution_count": 10,
      "id": "6ee2f5e0",
      "metadata": {},
      "outputs": [],
      "source": [
        "class Regression(Strategy):\n",
        "    limit_buy = 1\n",
        "    limit_sell = -5\n",
        "    \n",
        "    n_train = 600\n",
        "    coef_retrain = 200\n",
        "    \n",
        "    def init(self):\n",
        "        self.model = RandomForestRegressor(max_depth=15, random_state=42)\n",
        "        self.already_bought = False\n",
        "        \n",
        "        X_train = self.data.df.iloc[:self.n_train, :-1]\n",
        "        y_train = self.data.df.iloc[:self.n_train, -1]\n",
        "        \n",
        "        self.model.fit(X=X_train, y=y_train)\n",
        "\n",
        "    def next(self):\n",
        "        explanatory_today = self.data.df.iloc[[-1], :-1]\n",
        "        forecast_tomorrow = self.model.predict(explanatory_today)[0]\n",
        "        \n",
        "        if forecast_tomorrow > self.limit_buy and self.already_bought == False:\n",
        "            self.buy()\n",
        "            self.already_bought = True\n",
        "        elif forecast_tomorrow < self.limit_sell and self.already_bought == True:\n",
        "            self.sell()\n",
        "            self.already_bought = False\n",
        "        else:\n",
        "            pass"
      ]
    },
    {
      "cell_type": "code",
      "execution_count": 11,
      "id": "00c0068b",
      "metadata": {},
      "outputs": [],
      "source": [
        "class WalkForwardAnchored(Regression):\n",
        "    def next(self):\n",
        "        \n",
        "        # we don't take any action and move on to the following day\n",
        "        if len(self.data) < self.n_train:\n",
        "            return\n",
        "        \n",
        "        # we retrain the model each 200 days\n",
        "        if len(self.data) % self.coef_retrain == 0:\n",
        "            X_train = self.data.df.iloc[:, :-1]\n",
        "            y_train = self.data.df.iloc[:, -1]\n",
        "\n",
        "            self.model.fit(X_train, y_train)\n",
        "\n",
        "            super().next()\n",
        "            \n",
        "        else:\n",
        "            \n",
        "            super().next()"
      ]
    },
    {
      "attachments": {},
      "cell_type": "markdown",
      "id": "188ed7e3-02c7-48c5-8606-e5b151a0942c",
      "metadata": {},
      "source": [
        "### Run the backtest with optimization"
      ]
    },
    {
      "cell_type": "code",
      "execution_count": 12,
      "id": "dd460401",
      "metadata": {},
      "outputs": [],
      "source": [
        "from backtesting import Backtest\n",
        "bt = Backtest(df, WalkForwardAnchored, cash=10000, commission=.002, exclusive_orders=True)"
      ]
    },
    {
      "cell_type": "code",
      "execution_count": null,
      "id": "4c10fbc9-f968-4eaf-a681-b70f8ec66068",
      "metadata": {},
      "outputs": [],
      "source": [
        "import multiprocessing as mp\n",
        "mp.set_start_method('fork')"
      ]
    },
    {
      "cell_type": "code",
      "execution_count": 14,
      "id": "0eab0e5e-bc9d-4cfd-ae54-c4d788235a3b",
      "metadata": {},
      "outputs": [
        {
          "data": {
            "text/html": [
              "<div>\n",
              "<style scoped>\n",
              "    .dataframe tbody tr th:only-of-type {\n",
              "        vertical-align: middle;\n",
              "    }\n",
              "\n",
              "    .dataframe tbody tr th {\n",
              "        vertical-align: top;\n",
              "    }\n",
              "\n",
              "    .dataframe thead th {\n",
              "        text-align: right;\n",
              "    }\n",
              "</style>\n",
              "<table border=\"1\" class=\"dataframe\">\n",
              "  <thead>\n",
              "    <tr style=\"text-align: right;\">\n",
              "      <th></th>\n",
              "      <th>limit_buy</th>\n",
              "      <th>limit_sell</th>\n",
              "      <th>Return [%]</th>\n",
              "    </tr>\n",
              "  </thead>\n",
              "  <tbody>\n",
              "    <tr>\n",
              "      <th>0</th>\n",
              "      <td>0</td>\n",
              "      <td>-6</td>\n",
              "      <td>108.568730</td>\n",
              "    </tr>\n",
              "    <tr>\n",
              "      <th>1</th>\n",
              "      <td>0</td>\n",
              "      <td>-3</td>\n",
              "      <td>99.818273</td>\n",
              "    </tr>\n",
              "    <tr>\n",
              "      <th>...</th>\n",
              "      <td>...</td>\n",
              "      <td>...</td>\n",
              "      <td>...</td>\n",
              "    </tr>\n",
              "    <tr>\n",
              "      <th>2</th>\n",
              "      <td>0</td>\n",
              "      <td>-2</td>\n",
              "      <td>-22.922753</td>\n",
              "    </tr>\n",
              "    <tr>\n",
              "      <th>6</th>\n",
              "      <td>1</td>\n",
              "      <td>-1</td>\n",
              "      <td>-23.589944</td>\n",
              "    </tr>\n",
              "  </tbody>\n",
              "</table>\n",
              "<p>22 rows × 3 columns</p>\n",
              "</div>"
            ],
            "text/plain": [
              "    limit_buy  limit_sell  Return [%]\n",
              "0           0          -6  108.568730\n",
              "1           0          -3   99.818273\n",
              "..        ...         ...         ...\n",
              "2           0          -2  -22.922753\n",
              "6           1          -1  -23.589944\n",
              "\n",
              "[22 rows x 3 columns]"
            ]
          },
          "execution_count": 14,
          "metadata": {},
          "output_type": "execute_result"
        }
      ],
      "source": [
        "stats_skopt, heatmap, optimize_result = bt.optimize(\n",
        "    limit_buy = range(0, 6), limit_sell = range(-6, 0),\n",
        "    maximize='Return [%]',\n",
        "    max_tries=500,\n",
        "    random_state=42,\n",
        "    return_heatmap=True,\n",
        "    return_optimization=True,\n",
        "    method='skopt'\n",
        "    )\n",
        "\n",
        "dff = heatmap.reset_index()\n",
        "dff = dff.sort_values('Return [%]', ascending=False)\n",
        "dff"
      ]
    },
    {
      "attachments": {},
      "cell_type": "markdown",
      "id": "5e4bb005-9451-4b3a-ad1f-68677aa0070a",
      "metadata": {},
      "source": [
        "## Unanchored Walk Forward"
      ]
    },
    {
      "attachments": {},
      "cell_type": "markdown",
      "id": "927ec43c",
      "metadata": {},
      "source": [
        "### Create a library of strategies"
      ]
    },
    {
      "attachments": {},
      "cell_type": "markdown",
      "id": "9f43c0ec-be9d-49e3-968e-5697a4997ac8",
      "metadata": {},
      "source": [
        "[strategies.py](strategies.py)"
      ]
    },
    {
      "attachments": {},
      "cell_type": "markdown",
      "id": "a217d7d6",
      "metadata": {},
      "source": [
        "### Create the unanchored walk forward class\n",
        "\n",
        "In the previously created library"
      ]
    },
    {
      "attachments": {},
      "cell_type": "markdown",
      "id": "2746c22f",
      "metadata": {},
      "source": [
        "![](<src/10_Table_Validation Methods.png>)"
      ]
    },
    {
      "attachments": {},
      "cell_type": "markdown",
      "id": "240f43f8-c48b-425f-9b3f-0473e4923c34",
      "metadata": {},
      "source": [
        "### Import the strategy and perform the backtest with optimization"
      ]
    },
    {
      "cell_type": "code",
      "execution_count": 21,
      "id": "dbf7436c",
      "metadata": {},
      "outputs": [],
      "source": [
        "%load_ext autoreload\n",
        "%autoreload 2"
      ]
    },
    {
      "cell_type": "code",
      "execution_count": 24,
      "id": "3b0396c5",
      "metadata": {},
      "outputs": [],
      "source": [
        "import strategies"
      ]
    },
    {
      "cell_type": "code",
      "execution_count": 25,
      "id": "39fe79ef",
      "metadata": {},
      "outputs": [
        {
          "data": {
            "text/plain": [
              "strategies.WalkForwardUnanchored"
            ]
          },
          "execution_count": 25,
          "metadata": {},
          "output_type": "execute_result"
        }
      ],
      "source": [
        "strategies.WalkForwardUnanchored"
      ]
    },
    {
      "cell_type": "code",
      "execution_count": 26,
      "id": "8d439835-ecfb-45d3-a5c8-eb40a26b51d9",
      "metadata": {},
      "outputs": [
        {
          "data": {
            "text/html": [
              "<div>\n",
              "<style scoped>\n",
              "    .dataframe tbody tr th:only-of-type {\n",
              "        vertical-align: middle;\n",
              "    }\n",
              "\n",
              "    .dataframe tbody tr th {\n",
              "        vertical-align: top;\n",
              "    }\n",
              "\n",
              "    .dataframe thead th {\n",
              "        text-align: right;\n",
              "    }\n",
              "</style>\n",
              "<table border=\"1\" class=\"dataframe\">\n",
              "  <thead>\n",
              "    <tr style=\"text-align: right;\">\n",
              "      <th></th>\n",
              "      <th>limit_buy</th>\n",
              "      <th>limit_sell</th>\n",
              "      <th>Return [%]</th>\n",
              "    </tr>\n",
              "  </thead>\n",
              "  <tbody>\n",
              "    <tr>\n",
              "      <th>0</th>\n",
              "      <td>0</td>\n",
              "      <td>-6</td>\n",
              "      <td>106.324051</td>\n",
              "    </tr>\n",
              "    <tr>\n",
              "      <th>4</th>\n",
              "      <td>1</td>\n",
              "      <td>-6</td>\n",
              "      <td>106.324051</td>\n",
              "    </tr>\n",
              "    <tr>\n",
              "      <th>5</th>\n",
              "      <td>1</td>\n",
              "      <td>-5</td>\n",
              "      <td>83.998857</td>\n",
              "    </tr>\n",
              "    <tr>\n",
              "      <th>1</th>\n",
              "      <td>0</td>\n",
              "      <td>-5</td>\n",
              "      <td>76.952137</td>\n",
              "    </tr>\n",
              "    <tr>\n",
              "      <th>9</th>\n",
              "      <td>2</td>\n",
              "      <td>-6</td>\n",
              "      <td>59.677444</td>\n",
              "    </tr>\n",
              "    <tr>\n",
              "      <th>23</th>\n",
              "      <td>5</td>\n",
              "      <td>-5</td>\n",
              "      <td>18.879328</td>\n",
              "    </tr>\n",
              "    <tr>\n",
              "      <th>18</th>\n",
              "      <td>4</td>\n",
              "      <td>-6</td>\n",
              "      <td>18.067427</td>\n",
              "    </tr>\n",
              "    <tr>\n",
              "      <th>15</th>\n",
              "      <td>3</td>\n",
              "      <td>-4</td>\n",
              "      <td>13.795739</td>\n",
              "    </tr>\n",
              "    <tr>\n",
              "      <th>6</th>\n",
              "      <td>1</td>\n",
              "      <td>-4</td>\n",
              "      <td>13.435896</td>\n",
              "    </tr>\n",
              "    <tr>\n",
              "      <th>14</th>\n",
              "      <td>3</td>\n",
              "      <td>-5</td>\n",
              "      <td>11.242048</td>\n",
              "    </tr>\n",
              "    <tr>\n",
              "      <th>10</th>\n",
              "      <td>2</td>\n",
              "      <td>-5</td>\n",
              "      <td>7.876621</td>\n",
              "    </tr>\n",
              "    <tr>\n",
              "      <th>3</th>\n",
              "      <td>0</td>\n",
              "      <td>-2</td>\n",
              "      <td>4.638156</td>\n",
              "    </tr>\n",
              "    <tr>\n",
              "      <th>2</th>\n",
              "      <td>0</td>\n",
              "      <td>-3</td>\n",
              "      <td>-3.594806</td>\n",
              "    </tr>\n",
              "    <tr>\n",
              "      <th>16</th>\n",
              "      <td>3</td>\n",
              "      <td>-3</td>\n",
              "      <td>-12.735692</td>\n",
              "    </tr>\n",
              "    <tr>\n",
              "      <th>19</th>\n",
              "      <td>4</td>\n",
              "      <td>-5</td>\n",
              "      <td>-14.843176</td>\n",
              "    </tr>\n",
              "    <tr>\n",
              "      <th>17</th>\n",
              "      <td>3</td>\n",
              "      <td>-2</td>\n",
              "      <td>-15.600734</td>\n",
              "    </tr>\n",
              "    <tr>\n",
              "      <th>7</th>\n",
              "      <td>1</td>\n",
              "      <td>-3</td>\n",
              "      <td>-20.032816</td>\n",
              "    </tr>\n",
              "    <tr>\n",
              "      <th>11</th>\n",
              "      <td>2</td>\n",
              "      <td>-4</td>\n",
              "      <td>-25.966284</td>\n",
              "    </tr>\n",
              "    <tr>\n",
              "      <th>8</th>\n",
              "      <td>1</td>\n",
              "      <td>-1</td>\n",
              "      <td>-33.736437</td>\n",
              "    </tr>\n",
              "    <tr>\n",
              "      <th>12</th>\n",
              "      <td>2</td>\n",
              "      <td>-3</td>\n",
              "      <td>-38.591873</td>\n",
              "    </tr>\n",
              "    <tr>\n",
              "      <th>13</th>\n",
              "      <td>2</td>\n",
              "      <td>-1</td>\n",
              "      <td>-42.737705</td>\n",
              "    </tr>\n",
              "    <tr>\n",
              "      <th>24</th>\n",
              "      <td>5</td>\n",
              "      <td>-4</td>\n",
              "      <td>-46.453270</td>\n",
              "    </tr>\n",
              "    <tr>\n",
              "      <th>22</th>\n",
              "      <td>4</td>\n",
              "      <td>-1</td>\n",
              "      <td>-49.133004</td>\n",
              "    </tr>\n",
              "    <tr>\n",
              "      <th>20</th>\n",
              "      <td>4</td>\n",
              "      <td>-3</td>\n",
              "      <td>-51.166164</td>\n",
              "    </tr>\n",
              "    <tr>\n",
              "      <th>21</th>\n",
              "      <td>4</td>\n",
              "      <td>-2</td>\n",
              "      <td>-51.166164</td>\n",
              "    </tr>\n",
              "  </tbody>\n",
              "</table>\n",
              "</div>"
            ],
            "text/plain": [
              "    limit_buy  limit_sell  Return [%]\n",
              "0           0          -6  106.324051\n",
              "4           1          -6  106.324051\n",
              "5           1          -5   83.998857\n",
              "1           0          -5   76.952137\n",
              "9           2          -6   59.677444\n",
              "23          5          -5   18.879328\n",
              "18          4          -6   18.067427\n",
              "15          3          -4   13.795739\n",
              "6           1          -4   13.435896\n",
              "14          3          -5   11.242048\n",
              "10          2          -5    7.876621\n",
              "3           0          -2    4.638156\n",
              "2           0          -3   -3.594806\n",
              "16          3          -3  -12.735692\n",
              "19          4          -5  -14.843176\n",
              "17          3          -2  -15.600734\n",
              "7           1          -3  -20.032816\n",
              "11          2          -4  -25.966284\n",
              "8           1          -1  -33.736437\n",
              "12          2          -3  -38.591873\n",
              "13          2          -1  -42.737705\n",
              "24          5          -4  -46.453270\n",
              "22          4          -1  -49.133004\n",
              "20          4          -3  -51.166164\n",
              "21          4          -2  -51.166164"
            ]
          },
          "execution_count": 26,
          "metadata": {},
          "output_type": "execute_result"
        }
      ],
      "source": [
        "bt_unanchored = Backtest(df, strategies.WalkForwardUnanchored, cash=10000, commission=.002, exclusive_orders=True)\n",
        "\n",
        "stats_skopt, heatmap, optimize_result = bt_unanchored.optimize(\n",
        "    limit_buy = range(0, 6), limit_sell = range(-6, 0),\n",
        "    maximize='Return [%]',\n",
        "    max_tries=500,\n",
        "    random_state=42,\n",
        "    return_heatmap=True,\n",
        "    return_optimization=True,\n",
        "    method='skopt'\n",
        "    )\n",
        "\n",
        "dff = heatmap.reset_index()\n",
        "dff = dff.sort_values('Return [%]', ascending=False)\n",
        "dff"
      ]
    },
    {
      "attachments": {},
      "cell_type": "markdown",
      "id": "7eee71ca",
      "metadata": {},
      "source": [
        "### Interpret the strategies' performance"
      ]
    },
    {
      "cell_type": "code",
      "execution_count": null,
      "id": "16834683",
      "metadata": {},
      "outputs": [],
      "source": [
        "bt.plot(filename='reports_backtesting/walk_forward_anchored.html', open_browser=False)"
      ]
    },
    {
      "cell_type": "code",
      "execution_count": null,
      "id": "efbb0798",
      "metadata": {},
      "outputs": [],
      "source": [
        "bt_unanchored.plot(filename='reports_backtesting/walk_forward_unanchored.html')"
      ]
    },
    {
      "attachments": {},
      "cell_type": "markdown",
      "id": "3dc8ee14",
      "metadata": {},
      "source": [
        "## Course Conclusion\n",
        "\n",
        "Watch video → [Next steps]()"
      ]
    }
  ],
  "metadata": {
    "kernelspec": {
      "display_name": "Python 3",
      "language": "python",
      "name": "python3"
    },
    "language_info": {
      "codemirror_mode": {
        "name": "ipython",
        "version": 3
      },
      "file_extension": ".py",
      "mimetype": "text/x-python",
      "name": "python",
      "nbconvert_exporter": "python",
      "pygments_lexer": "ipython3",
      "version": "3.10.10"
    }
  },
  "nbformat": 4,
  "nbformat_minor": 5
}