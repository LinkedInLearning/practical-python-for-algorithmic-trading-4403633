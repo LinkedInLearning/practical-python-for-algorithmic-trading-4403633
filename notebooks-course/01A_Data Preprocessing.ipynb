{
  "cells": [
    {
      "attachments": {},
      "cell_type": "markdown",
      "id": "77c2423c-3021-4dd3-b694-ab5851e7eacc",
      "metadata": {},
      "source": [
        "# Data Preprocessing"
      ]
    },
    {
      "attachments": {},
      "cell_type": "markdown",
      "id": "3d3ee75d-48b4-41a7-9763-7071b4637947",
      "metadata": {},
      "source": [
        "## Download & export data tables"
      ]
    },
    {
      "attachments": {},
      "cell_type": "markdown",
      "id": "4822cef5-421a-4235-b822-16187585b343",
      "metadata": {},
      "source": [
        "### Download Microsoft OHLCV with `yfinance` library"
      ]
    },
    {
      "attachments": {},
      "cell_type": "markdown",
      "id": "d34f3f90",
      "metadata": {},
      "source": [
        "**Search for the ticker code**\n",
        "\n",
        "YFinance: https://finance.yahoo.com/\n",
        "\n",
        "- [ ] Microsoft: ???"
      ]
    },
    {
      "cell_type": "code",
      "execution_count": null,
      "id": "a42ca1cf",
      "metadata": {},
      "outputs": [
        {
          "name": "stdout",
          "output_type": "stream",
          "text": [
            "[*********************100%***********************]  1 of 1 completed\n"
          ]
        },
        {
          "data": {
            "text/html": [
              "<div>\n",
              "<style scoped>\n",
              "    .dataframe tbody tr th:only-of-type {\n",
              "        vertical-align: middle;\n",
              "    }\n",
              "\n",
              "    .dataframe tbody tr th {\n",
              "        vertical-align: top;\n",
              "    }\n",
              "\n",
              "    .dataframe thead th {\n",
              "        text-align: right;\n",
              "    }\n",
              "</style>\n",
              "<table border=\"1\" class=\"dataframe\">\n",
              "  <thead>\n",
              "    <tr style=\"text-align: right;\">\n",
              "      <th></th>\n",
              "      <th>Open</th>\n",
              "      <th>High</th>\n",
              "      <th>Low</th>\n",
              "      <th>Close</th>\n",
              "      <th>Adj Close</th>\n",
              "      <th>Volume</th>\n",
              "    </tr>\n",
              "    <tr>\n",
              "      <th>Date</th>\n",
              "      <th></th>\n",
              "      <th></th>\n",
              "      <th></th>\n",
              "      <th></th>\n",
              "      <th></th>\n",
              "      <th></th>\n",
              "    </tr>\n",
              "  </thead>\n",
              "  <tbody>\n",
              "    <tr>\n",
              "      <th>1986-03-13</th>\n",
              "      <td>0.088542</td>\n",
              "      <td>0.101563</td>\n",
              "      <td>0.088542</td>\n",
              "      <td>0.097222</td>\n",
              "      <td>0.060657</td>\n",
              "      <td>1031788800</td>\n",
              "    </tr>\n",
              "    <tr>\n",
              "      <th>1986-03-14</th>\n",
              "      <td>0.097222</td>\n",
              "      <td>0.102431</td>\n",
              "      <td>0.097222</td>\n",
              "      <td>0.100694</td>\n",
              "      <td>0.062823</td>\n",
              "      <td>308160000</td>\n",
              "    </tr>\n",
              "    <tr>\n",
              "      <th>...</th>\n",
              "      <td>...</td>\n",
              "      <td>...</td>\n",
              "      <td>...</td>\n",
              "      <td>...</td>\n",
              "      <td>...</td>\n",
              "      <td>...</td>\n",
              "    </tr>\n",
              "    <tr>\n",
              "      <th>2023-05-10</th>\n",
              "      <td>308.619995</td>\n",
              "      <td>313.000000</td>\n",
              "      <td>307.670013</td>\n",
              "      <td>312.309998</td>\n",
              "      <td>312.309998</td>\n",
              "      <td>30078000</td>\n",
              "    </tr>\n",
              "    <tr>\n",
              "      <th>2023-05-11</th>\n",
              "      <td>310.100006</td>\n",
              "      <td>311.119995</td>\n",
              "      <td>306.260010</td>\n",
              "      <td>310.109985</td>\n",
              "      <td>310.109985</td>\n",
              "      <td>31663200</td>\n",
              "    </tr>\n",
              "  </tbody>\n",
              "</table>\n",
              "<p>9367 rows × 6 columns</p>\n",
              "</div>"
            ],
            "text/plain": [
              "                  Open        High         Low       Close   Adj Close  \\\n",
              "Date                                                                     \n",
              "1986-03-13    0.088542    0.101563    0.088542    0.097222    0.060657   \n",
              "1986-03-14    0.097222    0.102431    0.097222    0.100694    0.062823   \n",
              "...                ...         ...         ...         ...         ...   \n",
              "2023-05-10  308.619995  313.000000  307.670013  312.309998  312.309998   \n",
              "2023-05-11  310.100006  311.119995  306.260010  310.109985  310.109985   \n",
              "\n",
              "                Volume  \n",
              "Date                    \n",
              "1986-03-13  1031788800  \n",
              "1986-03-14   308160000  \n",
              "...                ...  \n",
              "2023-05-10    30078000  \n",
              "2023-05-11    31663200  \n",
              "\n",
              "[9367 rows x 6 columns]"
            ]
          },
          "metadata": {},
          "output_type": "display_data"
        }
      ],
      "source": [
        "???"
      ]
    },
    {
      "attachments": {},
      "cell_type": "markdown",
      "id": "7d765173-3def-41b6-9a2f-3b5c9e1dc974",
      "metadata": {},
      "source": [
        "### Download any ticker"
      ]
    },
    {
      "attachments": {},
      "cell_type": "markdown",
      "id": "e8939293-f380-4613-b382-c7326b1f6175",
      "metadata": {},
      "source": [
        "- [x] Microsoft: MSFT\n",
        "- [ ] Bitcoin: ???"
      ]
    },
    {
      "cell_type": "code",
      "execution_count": null,
      "id": "267848a7-f793-4f14-9dc1-5e599b83baf6",
      "metadata": {},
      "outputs": [],
      "source": [
        "ticker = '???'\n",
        "df_BTC = yf.download(ticker, multi_level_index=False, auto_adjust=False)\n",
        "df_BTC"
      ]
    },
    {
      "attachments": {},
      "cell_type": "markdown",
      "id": "2a998ed9-3eef-4709-a943-758e168c0906",
      "metadata": {},
      "source": [
        "## Visualize the data with plotly\n",
        "\n",
        "https://plotly.com/python/candlestick-charts/"
      ]
    },
    {
      "cell_type": "code",
      "execution_count": null,
      "id": "0fe59d86-90af-4d35-b5eb-3cd79fc6fc68",
      "metadata": {},
      "outputs": [],
      "source": []
    },
    {
      "cell_type": "code",
      "execution_count": null,
      "id": "c84c1eb6-e6b7-452b-a726-02eab0dfedfc",
      "metadata": {},
      "outputs": [],
      "source": [
        "df = df_BTC\n",
        "\n",
        "go.Figure(data=[go.Candlestick(\n",
        "    x=df.index,\n",
        "    open=df['Open'],\n",
        "    high=df['High'],\n",
        "    low=df['Low'],\n",
        "    close=df['Close'])])"
      ]
    },
    {
      "attachments": {},
      "cell_type": "markdown",
      "id": "2ff41f65-b28f-49ea-874d-e1847d293d00",
      "metadata": {},
      "source": [
        "## Export the data"
      ]
    },
    {
      "attachments": {},
      "cell_type": "markdown",
      "id": "9a287b6d-fddd-4796-80ba-cdbeb4278758",
      "metadata": {},
      "source": [
        "### Microsoft data"
      ]
    },
    {
      "attachments": {},
      "cell_type": "markdown",
      "id": "f72a39da-f47e-4e8b-8399-0d5dc91497f5",
      "metadata": {},
      "source": [
        "#### Drop `Adj Close`\n",
        "\n",
        "- To not confuse the `Close` and `Adj Close`"
      ]
    },
    {
      "cell_type": "code",
      "execution_count": 11,
      "id": "a0243b4a-174e-42dc-9d32-d4e726ce7caf",
      "metadata": {},
      "outputs": [],
      "source": [
        "df_MSFT = df_MSFT.drop(columns='Adj Close')"
      ]
    },
    {
      "attachments": {},
      "cell_type": "markdown",
      "id": "70e7534d-30f4-432d-bc96-c9e6a50476a9",
      "metadata": {},
      "source": [
        "#### To Excel\n",
        "\n",
        "- Create a folder called `data`"
      ]
    },
    {
      "cell_type": "code",
      "execution_count": 13,
      "id": "75790a6f-bc11-40c2-8553-ce30e23af441",
      "metadata": {},
      "outputs": [],
      "source": []
    },
    {
      "attachments": {},
      "cell_type": "markdown",
      "id": "efd741d9-a8f4-4239-8fec-e3fcd1653130",
      "metadata": {},
      "source": [
        "#### To CSV\n",
        "\n",
        "- Less size in memory"
      ]
    },
    {
      "cell_type": "code",
      "execution_count": 14,
      "id": "c2e07e01-5da0-40da-a6c4-78a4dba5a0cb",
      "metadata": {},
      "outputs": [],
      "source": []
    },
    {
      "attachments": {},
      "cell_type": "markdown",
      "id": "f9d779ac-c6df-4ee6-b86f-148509371e3c",
      "metadata": {},
      "source": [
        "### Bitcoin data altogether (step by step)"
      ]
    },
    {
      "attachments": {},
      "cell_type": "markdown",
      "id": "c1d2148c-965c-4a46-8584-656d61f6b45c",
      "metadata": {},
      "source": [
        "#### Define ticker"
      ]
    },
    {
      "cell_type": "code",
      "execution_count": 15,
      "id": "a9e9f522-512e-42f8-bbd4-ae443c8b6167",
      "metadata": {},
      "outputs": [
        {
          "data": {
            "text/plain": [
              "'BTC-USD'"
            ]
          },
          "execution_count": 15,
          "metadata": {},
          "output_type": "execute_result"
        }
      ],
      "source": [
        "ticker = 'BTC-USD'\n",
        "ticker"
      ]
    },
    {
      "attachments": {},
      "cell_type": "markdown",
      "id": "816e3d92-4497-41b7-8c89-ff0127d3a316",
      "metadata": {},
      "source": [
        "#### Download OLHVC"
      ]
    },
    {
      "cell_type": "code",
      "execution_count": 16,
      "id": "3e9776c3-5993-4417-b57f-bf922db21272",
      "metadata": {},
      "outputs": [
        {
          "name": "stdout",
          "output_type": "stream",
          "text": [
            "[*********************100%***********************]  1 of 1 completed\n"
          ]
        },
        {
          "data": {
            "text/html": [
              "<div>\n",
              "<style scoped>\n",
              "    .dataframe tbody tr th:only-of-type {\n",
              "        vertical-align: middle;\n",
              "    }\n",
              "\n",
              "    .dataframe tbody tr th {\n",
              "        vertical-align: top;\n",
              "    }\n",
              "\n",
              "    .dataframe thead th {\n",
              "        text-align: right;\n",
              "    }\n",
              "</style>\n",
              "<table border=\"1\" class=\"dataframe\">\n",
              "  <thead>\n",
              "    <tr style=\"text-align: right;\">\n",
              "      <th></th>\n",
              "      <th>Open</th>\n",
              "      <th>High</th>\n",
              "      <th>Low</th>\n",
              "      <th>Close</th>\n",
              "      <th>Adj Close</th>\n",
              "      <th>Volume</th>\n",
              "    </tr>\n",
              "    <tr>\n",
              "      <th>Date</th>\n",
              "      <th></th>\n",
              "      <th></th>\n",
              "      <th></th>\n",
              "      <th></th>\n",
              "      <th></th>\n",
              "      <th></th>\n",
              "    </tr>\n",
              "  </thead>\n",
              "  <tbody>\n",
              "    <tr>\n",
              "      <th>2014-09-17</th>\n",
              "      <td>465.864014</td>\n",
              "      <td>468.174011</td>\n",
              "      <td>452.421997</td>\n",
              "      <td>457.334015</td>\n",
              "      <td>457.334015</td>\n",
              "      <td>21056800</td>\n",
              "    </tr>\n",
              "    <tr>\n",
              "      <th>2014-09-18</th>\n",
              "      <td>456.859985</td>\n",
              "      <td>456.859985</td>\n",
              "      <td>413.104004</td>\n",
              "      <td>424.440002</td>\n",
              "      <td>424.440002</td>\n",
              "      <td>34483200</td>\n",
              "    </tr>\n",
              "    <tr>\n",
              "      <th>...</th>\n",
              "      <td>...</td>\n",
              "      <td>...</td>\n",
              "      <td>...</td>\n",
              "      <td>...</td>\n",
              "      <td>...</td>\n",
              "      <td>...</td>\n",
              "    </tr>\n",
              "    <tr>\n",
              "      <th>2023-05-29</th>\n",
              "      <td>28075.591797</td>\n",
              "      <td>28432.039062</td>\n",
              "      <td>27563.876953</td>\n",
              "      <td>27745.884766</td>\n",
              "      <td>27745.884766</td>\n",
              "      <td>15181308984</td>\n",
              "    </tr>\n",
              "    <tr>\n",
              "      <th>2023-05-30</th>\n",
              "      <td>27751.460938</td>\n",
              "      <td>27884.162109</td>\n",
              "      <td>27637.660156</td>\n",
              "      <td>27862.630859</td>\n",
              "      <td>27862.630859</td>\n",
              "      <td>12420773888</td>\n",
              "    </tr>\n",
              "  </tbody>\n",
              "</table>\n",
              "<p>3178 rows × 6 columns</p>\n",
              "</div>"
            ],
            "text/plain": [
              "                    Open          High           Low         Close  \\\n",
              "Date                                                                 \n",
              "2014-09-17    465.864014    468.174011    452.421997    457.334015   \n",
              "2014-09-18    456.859985    456.859985    413.104004    424.440002   \n",
              "...                  ...           ...           ...           ...   \n",
              "2023-05-29  28075.591797  28432.039062  27563.876953  27745.884766   \n",
              "2023-05-30  27751.460938  27884.162109  27637.660156  27862.630859   \n",
              "\n",
              "               Adj Close       Volume  \n",
              "Date                                   \n",
              "2014-09-17    457.334015     21056800  \n",
              "2014-09-18    424.440002     34483200  \n",
              "...                  ...          ...  \n",
              "2023-05-29  27745.884766  15181308984  \n",
              "2023-05-30  27862.630859  12420773888  \n",
              "\n",
              "[3178 rows x 6 columns]"
            ]
          },
          "execution_count": 16,
          "metadata": {},
          "output_type": "execute_result"
        }
      ],
      "source": [
        "df_ticker = yf.download(ticker, multi_level_index=False, auto_adjust=False)\n",
        "df_ticker"
      ]
    },
    {
      "attachments": {},
      "cell_type": "markdown",
      "id": "754dd8e7-b2b1-4fe3-bd90-c4ae5ca7a70d",
      "metadata": {},
      "source": [
        "#### Create file path"
      ]
    },
    {
      "cell_type": "code",
      "execution_count": 17,
      "id": "cefdc858-2f92-47ce-ae55-18fb91378d54",
      "metadata": {},
      "outputs": [
        {
          "data": {
            "text/plain": [
              "'data/BTC-USD.xlsx'"
            ]
          },
          "execution_count": 17,
          "metadata": {},
          "output_type": "execute_result"
        }
      ],
      "source": [
        "file_path = f'data/{ticker}.xlsx'\n",
        "file_path"
      ]
    },
    {
      "attachments": {},
      "cell_type": "markdown",
      "id": "a5b5638b-3c9c-43f2-9499-587843dbe79c",
      "metadata": {},
      "source": [
        "#### Export to Excel"
      ]
    },
    {
      "cell_type": "code",
      "execution_count": 18,
      "id": "15af432a-11e6-47d1-bb25-37f79ba9a029",
      "metadata": {},
      "outputs": [],
      "source": [
        "df_ticker.to_excel(file_path)"
      ]
    },
    {
      "attachments": {},
      "cell_type": "markdown",
      "id": "6b378335-82fd-43ee-9333-6b5d0c9f8a9f",
      "metadata": {},
      "source": [
        "#### Export to CSV"
      ]
    },
    {
      "cell_type": "code",
      "execution_count": 19,
      "id": "6fa62253-0b42-440f-91ab-6762f7d13ae4",
      "metadata": {},
      "outputs": [],
      "source": [
        "df_ticker.to_csv(f'data/{ticker}.csv')"
      ]
    },
    {
      "attachments": {},
      "cell_type": "markdown",
      "id": "5f8d2e45-4f3e-43fd-a6f0-38f7babad3b4",
      "metadata": {},
      "source": [
        "#### Snippet"
      ]
    },
    {
      "cell_type": "code",
      "execution_count": 22,
      "id": "f4f73b54-a83e-4ffa-b40f-243503716165",
      "metadata": {},
      "outputs": [
        {
          "name": "stdout",
          "output_type": "stream",
          "text": [
            "[*********************100%***********************]  1 of 1 completed\n"
          ]
        }
      ],
      "source": [
        "ticker = 'TSLA'\n",
        "df_ticker = yf.download(ticker, multi_level_index=False, auto_adjust=False)\n",
        "df_ticker.to_excel(f'data/{ticker}.xlsx')\n",
        "df_ticker.to_csv(f'data/{ticker}.csv')"
      ]
    },
    {
      "attachments": {},
      "cell_type": "markdown",
      "id": "b61efee3-37fe-4d3c-8119-1d05c8f262d4",
      "metadata": {},
      "source": [
        "## [ ] Data Preprocessing"
      ]
    },
    {
      "cell_type": "code",
      "execution_count": null,
      "id": "239feeb1",
      "metadata": {},
      "outputs": [
        {
          "data": {
            "text/html": [
              "<div>\n",
              "<style scoped>\n",
              "    .dataframe tbody tr th:only-of-type {\n",
              "        vertical-align: middle;\n",
              "    }\n",
              "\n",
              "    .dataframe tbody tr th {\n",
              "        vertical-align: top;\n",
              "    }\n",
              "\n",
              "    .dataframe thead th {\n",
              "        text-align: right;\n",
              "    }\n",
              "</style>\n",
              "<table border=\"1\" class=\"dataframe\">\n",
              "  <thead>\n",
              "    <tr style=\"text-align: right;\">\n",
              "      <th></th>\n",
              "      <th>Open</th>\n",
              "      <th>High</th>\n",
              "      <th>Low</th>\n",
              "      <th>Close</th>\n",
              "      <th>Volume</th>\n",
              "      <th>change_tomorrow</th>\n",
              "      <th>change_tomorrow_direction</th>\n",
              "    </tr>\n",
              "    <tr>\n",
              "      <th>Date</th>\n",
              "      <th></th>\n",
              "      <th></th>\n",
              "      <th></th>\n",
              "      <th></th>\n",
              "      <th></th>\n",
              "      <th></th>\n",
              "      <th></th>\n",
              "    </tr>\n",
              "  </thead>\n",
              "  <tbody>\n",
              "    <tr>\n",
              "      <th>2016-12-08</th>\n",
              "      <td>56.325228</td>\n",
              "      <td>56.582507</td>\n",
              "      <td>55.902560</td>\n",
              "      <td>56.058762</td>\n",
              "      <td>21220800</td>\n",
              "      <td>-1.549143</td>\n",
              "      <td>DOWN</td>\n",
              "    </tr>\n",
              "    <tr>\n",
              "      <th>2016-12-09</th>\n",
              "      <td>56.214968</td>\n",
              "      <td>56.959234</td>\n",
              "      <td>56.169027</td>\n",
              "      <td>56.940857</td>\n",
              "      <td>27349400</td>\n",
              "      <td>-0.321692</td>\n",
              "      <td>DOWN</td>\n",
              "    </tr>\n",
              "    <tr>\n",
              "      <th>...</th>\n",
              "      <td>...</td>\n",
              "      <td>...</td>\n",
              "      <td>...</td>\n",
              "      <td>...</td>\n",
              "      <td>...</td>\n",
              "      <td>...</td>\n",
              "      <td>...</td>\n",
              "    </tr>\n",
              "    <tr>\n",
              "      <th>2023-03-14</th>\n",
              "      <td>256.750000</td>\n",
              "      <td>261.070007</td>\n",
              "      <td>255.860001</td>\n",
              "      <td>260.790009</td>\n",
              "      <td>33620300</td>\n",
              "      <td>-1.751806</td>\n",
              "      <td>DOWN</td>\n",
              "    </tr>\n",
              "    <tr>\n",
              "      <th>2023-03-15</th>\n",
              "      <td>259.980011</td>\n",
              "      <td>266.480011</td>\n",
              "      <td>259.209991</td>\n",
              "      <td>265.440002</td>\n",
              "      <td>46028000</td>\n",
              "      <td>-3.895731</td>\n",
              "      <td>DOWN</td>\n",
              "    </tr>\n",
              "  </tbody>\n",
              "</table>\n",
              "<p>1576 rows × 7 columns</p>\n",
              "</div>"
            ],
            "text/plain": [
              "                  Open        High         Low       Close    Volume  \\\n",
              "Date                                                                   \n",
              "2016-12-08   56.325228   56.582507   55.902560   56.058762  21220800   \n",
              "2016-12-09   56.214968   56.959234   56.169027   56.940857  27349400   \n",
              "...                ...         ...         ...         ...       ...   \n",
              "2023-03-14  256.750000  261.070007  255.860001  260.790009  33620300   \n",
              "2023-03-15  259.980011  266.480011  259.209991  265.440002  46028000   \n",
              "\n",
              "            change_tomorrow change_tomorrow_direction  \n",
              "Date                                                   \n",
              "2016-12-08        -1.549143                      DOWN  \n",
              "2016-12-09        -0.321692                      DOWN  \n",
              "...                     ...                       ...  \n",
              "2023-03-14        -1.751806                      DOWN  \n",
              "2023-03-15        -3.895731                      DOWN  \n",
              "\n",
              "[1576 rows x 7 columns]"
            ]
          },
          "metadata": {},
          "output_type": "display_data"
        }
      ],
      "source": [
        "???"
      ]
    },
    {
      "attachments": {},
      "cell_type": "markdown",
      "id": "89c3da3e-7cf8-4a13-af6e-449e00657208",
      "metadata": {},
      "source": [
        "### Load the data"
      ]
    },
    {
      "cell_type": "code",
      "execution_count": null,
      "id": "791f30e0",
      "metadata": {},
      "outputs": [],
      "source": [
        "import pandas as pd\n",
        "\n",
        "df_microsoft = pd.read_excel(\n",
        "    'data/Microsoft_Stock_Price_Historical_Daily.xlsx',\n",
        "    parse_dates=['Date'], index_col=0\n",
        ")\n",
        "\n",
        "df_microsoft"
      ]
    },
    {
      "attachments": {},
      "cell_type": "markdown",
      "id": "04cf04bc-5f89-4362-b6e7-9bd8254a86b8",
      "metadata": {},
      "source": [
        "### Filter the data"
      ]
    },
    {
      "attachments": {},
      "cell_type": "markdown",
      "id": "bae566d6-761b-4256-ac8c-5c8de59e6daf",
      "metadata": {},
      "source": [
        "![](src/Microsoft_x_LinkedIn.png)"
      ]
    },
    {
      "cell_type": "code",
      "execution_count": null,
      "id": "dc5cd7e4",
      "metadata": {},
      "outputs": [],
      "source": []
    },
    {
      "attachments": {},
      "cell_type": "markdown",
      "id": "75a182df-6d87-4ead-b31d-b39c1a6e7409",
      "metadata": {},
      "source": [
        "## Create new columns"
      ]
    },
    {
      "attachments": {},
      "cell_type": "markdown",
      "id": "9b2bb568-db35-4eb4-a7cb-6145804b9e4a",
      "metadata": {},
      "source": [
        "### Tomorrow's percentage change"
      ]
    },
    {
      "cell_type": "code",
      "execution_count": null,
      "id": "5dac5df2",
      "metadata": {},
      "outputs": [],
      "source": []
    },
    {
      "attachments": {},
      "cell_type": "markdown",
      "id": "5b295654-d546-4cfe-a6c1-9f960750bf51",
      "metadata": {},
      "source": [
        "### Did the stock go up or down?"
      ]
    },
    {
      "cell_type": "code",
      "execution_count": null,
      "id": "34c99d05",
      "metadata": {},
      "outputs": [],
      "source": []
    },
    {
      "attachments": {},
      "cell_type": "markdown",
      "id": "911f9a25-0dc0-4e2d-a39a-c0c3b33547b8",
      "metadata": {},
      "source": [
        "## Export preprocessed DataFrame into an Excel"
      ]
    },
    {
      "cell_type": "code",
      "execution_count": null,
      "id": "b0c87b0f",
      "metadata": {},
      "outputs": [],
      "source": []
    }
  ],
  "metadata": {
    "kernelspec": {
      "display_name": "Python 3",
      "language": "python",
      "name": "python3"
    },
    "language_info": {
      "codemirror_mode": {
        "name": "ipython",
        "version": 3
      },
      "file_extension": ".py",
      "mimetype": "text/x-python",
      "name": "python",
      "nbconvert_exporter": "python",
      "pygments_lexer": "ipython3",
      "version": "3.10.11"
    }
  },
  "nbformat": 4,
  "nbformat_minor": 5
}