{
  "cells": [
    {
      "attachments": {},
      "cell_type": "markdown",
      "id": "c52ce656-02ee-4d26-a276-a4b5d2404c86",
      "metadata": {},
      "source": [
        "# Challenge: Optimization on Other Datasets"
      ]
    },
    {
      "attachments": {},
      "cell_type": "markdown",
      "id": "2a13e12c-8405-4393-9bbf-c1fe901f4ab8",
      "metadata": {},
      "source": [
        "## Download data from `yfinance`"
      ]
    },
    {
      "cell_type": "code",
      "execution_count": null,
      "id": "c1ac0880-5f22-4a6c-ae95-e2ee4aa85cc7",
      "metadata": {},
      "outputs": [],
      "source": [
        "import yfinance as yf\n",
        "\n",
        "ticker = '???'\n",
        "df = yf.download(ticker, multi_level_index=False, auto_adjust=False)\n",
        "df"
      ]
    },
    {
      "attachments": {},
      "cell_type": "markdown",
      "id": "ff2baa5f-8848-4c76-9c0b-7c9b476ee223",
      "metadata": {},
      "source": [
        "## Preprocess the data"
      ]
    },
    {
      "attachments": {},
      "cell_type": "markdown",
      "id": "3f3979cb-8144-4d9a-b1ae-982a08c8f741",
      "metadata": {},
      "source": [
        "### Filter the date range\n",
        "\n",
        "- Since 1 year ago at least"
      ]
    },
    {
      "cell_type": "code",
      "execution_count": null,
      "id": "ac0de2d4-4e40-464c-aae8-8a152a5e8722",
      "metadata": {},
      "outputs": [],
      "source": [
        "df = df.loc['2020-01-01':].copy()"
      ]
    },
    {
      "attachments": {},
      "cell_type": "markdown",
      "id": "f519e27c-26ef-4d20-9e0f-52b387767351",
      "metadata": {},
      "source": [
        "### Create the target variable\n",
        "\n",
        "#### Percentage change\n",
        "\n",
        "- Percentage change on `Adj Close` for tomorrow"
      ]
    },
    {
      "cell_type": "code",
      "execution_count": null,
      "id": "bf8b17d0-7b90-4ee5-83c7-1ad5be3ff290",
      "metadata": {},
      "outputs": [],
      "source": [
        "df['change_tomorrow'] = df['Adj Close'].pct_change(-1)\n",
        "df.change_tomorrow = df.change_tomorrow * -1\n",
        "df.change_tomorrow = df.change_tomorrow * 100"
      ]
    },
    {
      "attachments": {},
      "cell_type": "markdown",
      "id": "8caab272-5358-45b1-801b-fd156854bdf7",
      "metadata": {},
      "source": [
        "#### Remove rows with any missing data"
      ]
    },
    {
      "cell_type": "code",
      "execution_count": null,
      "id": "68ca98e0-5a5e-4b28-b709-8a900d866c23",
      "metadata": {},
      "outputs": [],
      "source": [
        "df = df.dropna().copy()\n",
        "df"
      ]
    },
    {
      "attachments": {},
      "cell_type": "markdown",
      "id": "238dfed1-bb4d-4514-95cb-53d3631a3b9d",
      "metadata": {},
      "source": [
        "## Compute Machine Learning model\n",
        "\n",
        "Proposal: Random Forest within `ensemble` module of `sklearn` library"
      ]
    },
    {
      "cell_type": "code",
      "execution_count": null,
      "id": "6e7303e8-0f40-4bff-b3c7-4800510b67b5",
      "metadata": {},
      "outputs": [],
      "source": []
    },
    {
      "attachments": {},
      "cell_type": "markdown",
      "id": "17e4a530-72b8-407d-bb2a-0038a01f47e2",
      "metadata": {},
      "source": [
        "## Parametrize & optimize the investment strategy"
      ]
    },
    {
      "attachments": {},
      "cell_type": "markdown",
      "id": "5fcdbf52-2078-4109-9e4a-177c4f0a108d",
      "metadata": {},
      "source": [
        "### Create Strategy class"
      ]
    },
    {
      "cell_type": "code",
      "execution_count": null,
      "id": "29d112d5",
      "metadata": {},
      "outputs": [],
      "source": []
    },
    {
      "attachments": {},
      "cell_type": "markdown",
      "id": "6fd9cd4c-9243-4404-8ceb-6bf2428c863b",
      "metadata": {},
      "source": [
        "### Create `Backtest` class"
      ]
    },
    {
      "cell_type": "code",
      "execution_count": null,
      "id": "df61c901-c29b-4b0a-8dd8-18c313c473de",
      "metadata": {},
      "outputs": [],
      "source": [
        "from backtesting import Backtest"
      ]
    },
    {
      "cell_type": "code",
      "execution_count": null,
      "id": "58ba9a1b-5684-464b-ae71-dfe639169d14",
      "metadata": {},
      "outputs": [],
      "source": [
        "bt = Backtest(\n",
        "    ???, ???, cash=10000,\n",
        "    commission=.002, exclusive_orders=True\n",
        ")"
      ]
    },
    {
      "attachments": {},
      "cell_type": "markdown",
      "id": "1bdb3f49-ac6c-461b-842d-3725cdb75338",
      "metadata": {},
      "source": [
        "### Optimize backtesting with multiple combinations"
      ]
    },
    {
      "cell_type": "code",
      "execution_count": null,
      "id": "843ccf35-f8c6-4b7b-b8dc-aa36c60043ff",
      "metadata": {},
      "outputs": [],
      "source": [
        "import multiprocessing as mp\n",
        "mp.set_start_method('fork')"
      ]
    },
    {
      "cell_type": "code",
      "execution_count": null,
      "id": "a42738aa-9c00-4c27-be81-cce588684d95",
      "metadata": {},
      "outputs": [],
      "source": []
    },
    {
      "attachments": {},
      "cell_type": "markdown",
      "id": "e20e689d-f4c5-43ec-b6c1-9db2f8c59ff0",
      "metadata": {},
      "source": [
        "### Which are the best values for the parameters?"
      ]
    },
    {
      "cell_type": "code",
      "execution_count": null,
      "id": "86ece58d-9808-4a74-960b-9baf595c34bb",
      "metadata": {},
      "outputs": [],
      "source": []
    },
    {
      "attachments": {},
      "cell_type": "markdown",
      "id": "49dc8ef8-2ff3-44a5-93cb-90299df2e778",
      "metadata": {},
      "source": [
        "### How to interpret smart optimization?"
      ]
    },
    {
      "attachments": {},
      "cell_type": "markdown",
      "id": "311409f6-0bb8-4b20-bd36-708762c0459b",
      "metadata": {},
      "source": [
        "#### Number of evaluations"
      ]
    },
    {
      "attachments": {},
      "cell_type": "markdown",
      "id": "cff7ec0d-953c-4ca3-b692-3bd502230222",
      "metadata": {},
      "source": [
        "https://kernc.github.io/backtesting.py/doc/examples/Parameter%20Heatmap%20&%20Optimization.html"
      ]
    },
    {
      "cell_type": "code",
      "execution_count": null,
      "id": "87520764-bdc5-40a4-88e9-18ecb4b7c5cf",
      "metadata": {},
      "outputs": [],
      "source": [
        "from skopt.plots import plot_evaluations\n",
        "\n",
        "_ = plot_evaluations(optimize_result, bins=10)"
      ]
    },
    {
      "attachments": {},
      "cell_type": "markdown",
      "id": "b21d1a57-0b26-4f28-ac9f-f4af932c8a44",
      "metadata": {},
      "source": [
        "#### Density"
      ]
    },
    {
      "cell_type": "code",
      "execution_count": null,
      "id": "aaf34691-5cb8-471b-9669-aa6b05eee8f2",
      "metadata": {},
      "outputs": [],
      "source": [
        "from skopt.plots import plot_objective\n",
        "\n",
        "_ = plot_objective(optimize_result, n_points=10)"
      ]
    },
    {
      "attachments": {},
      "cell_type": "markdown",
      "id": "e92ec39e",
      "metadata": {},
      "source": [
        "## How to solve the overfitting problem?\n",
        "\n",
        "> Backtest the investment strategy on a validation set.\n",
        "\n",
        "Next chapter → [The Overfitting Problem in Backtesting]()"
      ]
    },
    {
      "cell_type": "markdown",
      "id": "4d5aafe0",
      "metadata": {},
      "source": [
        "![](<src/09_Table_The Overfitting.png>)"
      ]
    }
  ],
  "metadata": {
    "kernelspec": {
      "display_name": "Python 3",
      "language": "python",
      "name": "python3"
    },
    "language_info": {
      "codemirror_mode": {
        "name": "ipython",
        "version": 3
      },
      "file_extension": ".py",
      "mimetype": "text/x-python",
      "name": "python",
      "nbconvert_exporter": "python",
      "pygments_lexer": "ipython3",
      "version": "3.10.10"
    }
  },
  "nbformat": 4,
  "nbformat_minor": 5
}