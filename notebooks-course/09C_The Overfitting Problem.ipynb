{
 "cells": [
  {
   "attachments": {},
   "cell_type": "markdown",
   "id": "ab30d554-5b8c-4742-a3f2-4780875c67f8",
   "metadata": {},
   "source": [
    "# Challenge: Overfitting on Other Datasets"
   ]
  },
  {
   "attachments": {},
   "cell_type": "markdown",
   "id": "d0594980-9456-4a1b-88ad-ba2e56232600",
   "metadata": {},
   "source": [
    "## Download data from `yfinance`"
   ]
  },
  {
   "cell_type": "code",
   "execution_count": 1,
   "id": "972674d7-af41-44f1-839e-450246e53d17",
   "metadata": {},
   "outputs": [
    {
     "name": "stdout",
     "output_type": "stream",
     "text": [
      "[*********************100%%**********************]  1 of 1 completed\n"
     ]
    },
    {
     "data": {
      "text/html": [
       "<div>\n",
       "<style scoped>\n",
       "    .dataframe tbody tr th:only-of-type {\n",
       "        vertical-align: middle;\n",
       "    }\n",
       "\n",
       "    .dataframe tbody tr th {\n",
       "        vertical-align: top;\n",
       "    }\n",
       "\n",
       "    .dataframe thead th {\n",
       "        text-align: right;\n",
       "    }\n",
       "</style>\n",
       "<table border=\"1\" class=\"dataframe\">\n",
       "  <thead>\n",
       "    <tr style=\"text-align: right;\">\n",
       "      <th></th>\n",
       "      <th>Open</th>\n",
       "      <th>High</th>\n",
       "      <th>Low</th>\n",
       "      <th>Close</th>\n",
       "      <th>Adj Close</th>\n",
       "      <th>Volume</th>\n",
       "    </tr>\n",
       "    <tr>\n",
       "      <th>Date</th>\n",
       "      <th></th>\n",
       "      <th></th>\n",
       "      <th></th>\n",
       "      <th></th>\n",
       "      <th></th>\n",
       "      <th></th>\n",
       "    </tr>\n",
       "  </thead>\n",
       "  <tbody>\n",
       "    <tr>\n",
       "      <th>1980-03-17</th>\n",
       "      <td>0.325521</td>\n",
       "      <td>0.330729</td>\n",
       "      <td>0.325521</td>\n",
       "      <td>0.325521</td>\n",
       "      <td>0.182651</td>\n",
       "      <td>10924800</td>\n",
       "    </tr>\n",
       "    <tr>\n",
       "      <th>1980-03-18</th>\n",
       "      <td>0.325521</td>\n",
       "      <td>0.328125</td>\n",
       "      <td>0.322917</td>\n",
       "      <td>0.322917</td>\n",
       "      <td>0.181190</td>\n",
       "      <td>17068800</td>\n",
       "    </tr>\n",
       "    <tr>\n",
       "      <th>1980-03-19</th>\n",
       "      <td>0.330729</td>\n",
       "      <td>0.335938</td>\n",
       "      <td>0.330729</td>\n",
       "      <td>0.330729</td>\n",
       "      <td>0.185573</td>\n",
       "      <td>18508800</td>\n",
       "    </tr>\n",
       "    <tr>\n",
       "      <th>1980-03-20</th>\n",
       "      <td>0.330729</td>\n",
       "      <td>0.334635</td>\n",
       "      <td>0.329427</td>\n",
       "      <td>0.329427</td>\n",
       "      <td>0.184843</td>\n",
       "      <td>11174400</td>\n",
       "    </tr>\n",
       "    <tr>\n",
       "      <th>1980-03-21</th>\n",
       "      <td>0.322917</td>\n",
       "      <td>0.322917</td>\n",
       "      <td>0.317708</td>\n",
       "      <td>0.317708</td>\n",
       "      <td>0.178267</td>\n",
       "      <td>12172800</td>\n",
       "    </tr>\n",
       "    <tr>\n",
       "      <th>...</th>\n",
       "      <td>...</td>\n",
       "      <td>...</td>\n",
       "      <td>...</td>\n",
       "      <td>...</td>\n",
       "      <td>...</td>\n",
       "      <td>...</td>\n",
       "    </tr>\n",
       "    <tr>\n",
       "      <th>2024-05-21</th>\n",
       "      <td>31.980000</td>\n",
       "      <td>32.240002</td>\n",
       "      <td>31.620001</td>\n",
       "      <td>31.740000</td>\n",
       "      <td>31.740000</td>\n",
       "      <td>42975400</td>\n",
       "    </tr>\n",
       "    <tr>\n",
       "      <th>2024-05-22</th>\n",
       "      <td>31.910000</td>\n",
       "      <td>32.070000</td>\n",
       "      <td>31.100000</td>\n",
       "      <td>31.420000</td>\n",
       "      <td>31.420000</td>\n",
       "      <td>36706400</td>\n",
       "    </tr>\n",
       "    <tr>\n",
       "      <th>2024-05-23</th>\n",
       "      <td>31.450001</td>\n",
       "      <td>31.570000</td>\n",
       "      <td>29.870001</td>\n",
       "      <td>30.080000</td>\n",
       "      <td>30.080000</td>\n",
       "      <td>62014500</td>\n",
       "    </tr>\n",
       "    <tr>\n",
       "      <th>2024-05-24</th>\n",
       "      <td>30.290001</td>\n",
       "      <td>31.020000</td>\n",
       "      <td>30.129999</td>\n",
       "      <td>30.719999</td>\n",
       "      <td>30.719999</td>\n",
       "      <td>42408200</td>\n",
       "    </tr>\n",
       "    <tr>\n",
       "      <th>2024-05-28</th>\n",
       "      <td>30.940001</td>\n",
       "      <td>31.370001</td>\n",
       "      <td>30.660000</td>\n",
       "      <td>31.059999</td>\n",
       "      <td>31.059999</td>\n",
       "      <td>36778300</td>\n",
       "    </tr>\n",
       "  </tbody>\n",
       "</table>\n",
       "<p>11143 rows × 6 columns</p>\n",
       "</div>"
      ],
      "text/plain": [
       "                 Open       High        Low      Close  Adj Close    Volume\n",
       "Date                                                                       \n",
       "1980-03-17   0.325521   0.330729   0.325521   0.325521   0.182651  10924800\n",
       "1980-03-18   0.325521   0.328125   0.322917   0.322917   0.181190  17068800\n",
       "1980-03-19   0.330729   0.335938   0.330729   0.330729   0.185573  18508800\n",
       "1980-03-20   0.330729   0.334635   0.329427   0.329427   0.184843  11174400\n",
       "1980-03-21   0.322917   0.322917   0.317708   0.317708   0.178267  12172800\n",
       "...               ...        ...        ...        ...        ...       ...\n",
       "2024-05-21  31.980000  32.240002  31.620001  31.740000  31.740000  42975400\n",
       "2024-05-22  31.910000  32.070000  31.100000  31.420000  31.420000  36706400\n",
       "2024-05-23  31.450001  31.570000  29.870001  30.080000  30.080000  62014500\n",
       "2024-05-24  30.290001  31.020000  30.129999  30.719999  30.719999  42408200\n",
       "2024-05-28  30.940001  31.370001  30.660000  31.059999  31.059999  36778300\n",
       "\n",
       "[11143 rows x 6 columns]"
      ]
     },
     "execution_count": 1,
     "metadata": {},
     "output_type": "execute_result"
    }
   ],
   "source": [
    "import yfinance as yf\n",
    "\n",
    "ticker = 'INTC'\n",
    "df = yf.download(ticker)\n",
    "df"
   ]
  },
  {
   "attachments": {},
   "cell_type": "markdown",
   "id": "53bfc2d7-c044-48a7-aa83-234c751be651",
   "metadata": {},
   "source": [
    "## Preprocess the data"
   ]
  },
  {
   "attachments": {},
   "cell_type": "markdown",
   "id": "a21b6503-58f5-4c46-844d-496fc9f523f5",
   "metadata": {},
   "source": [
    "### Filter the date range\n",
    "\n",
    "- Since 1 year ago at least"
   ]
  },
  {
   "cell_type": "code",
   "execution_count": 2,
   "id": "27a99a2a-65ef-4bce-aa6e-761e532ef65b",
   "metadata": {},
   "outputs": [],
   "source": [
    "df = df.loc['2020-01-01':].copy()"
   ]
  },
  {
   "attachments": {},
   "cell_type": "markdown",
   "id": "96f2148e-b519-4694-9033-7ece26520ddc",
   "metadata": {},
   "source": [
    "### Create the target variable\n",
    "\n",
    "#### Percentage change\n",
    "\n",
    "- Percentage change on `Adj Close` for tomorrow"
   ]
  },
  {
   "cell_type": "code",
   "execution_count": 3,
   "id": "76b43f65-bf8b-40e5-b8af-0df5f4fbe9d6",
   "metadata": {},
   "outputs": [],
   "source": [
    "df['change_tomorrow'] = df['Adj Close'].pct_change(-1)\n",
    "df.change_tomorrow = df.change_tomorrow * -1\n",
    "df.change_tomorrow = df.change_tomorrow * 100"
   ]
  },
  {
   "attachments": {},
   "cell_type": "markdown",
   "id": "e90a7218-3fa4-48e3-bf61-20a04eee45a7",
   "metadata": {},
   "source": [
    "#### Remove rows with any missing data"
   ]
  },
  {
   "cell_type": "code",
   "execution_count": 4,
   "id": "cb4a905c-6c69-4731-a4fa-54ef4dbf3e88",
   "metadata": {},
   "outputs": [
    {
     "data": {
      "text/html": [
       "<div>\n",
       "<style scoped>\n",
       "    .dataframe tbody tr th:only-of-type {\n",
       "        vertical-align: middle;\n",
       "    }\n",
       "\n",
       "    .dataframe tbody tr th {\n",
       "        vertical-align: top;\n",
       "    }\n",
       "\n",
       "    .dataframe thead th {\n",
       "        text-align: right;\n",
       "    }\n",
       "</style>\n",
       "<table border=\"1\" class=\"dataframe\">\n",
       "  <thead>\n",
       "    <tr style=\"text-align: right;\">\n",
       "      <th></th>\n",
       "      <th>Open</th>\n",
       "      <th>High</th>\n",
       "      <th>Low</th>\n",
       "      <th>Close</th>\n",
       "      <th>Adj Close</th>\n",
       "      <th>Volume</th>\n",
       "      <th>change_tomorrow</th>\n",
       "    </tr>\n",
       "    <tr>\n",
       "      <th>Date</th>\n",
       "      <th></th>\n",
       "      <th></th>\n",
       "      <th></th>\n",
       "      <th></th>\n",
       "      <th></th>\n",
       "      <th></th>\n",
       "      <th></th>\n",
       "    </tr>\n",
       "  </thead>\n",
       "  <tbody>\n",
       "    <tr>\n",
       "      <th>2020-01-02</th>\n",
       "      <td>60.240002</td>\n",
       "      <td>60.970001</td>\n",
       "      <td>60.220001</td>\n",
       "      <td>60.840000</td>\n",
       "      <td>54.006916</td>\n",
       "      <td>18056000</td>\n",
       "      <td>-1.231292</td>\n",
       "    </tr>\n",
       "    <tr>\n",
       "      <th>2020-01-03</th>\n",
       "      <td>59.810001</td>\n",
       "      <td>60.700001</td>\n",
       "      <td>59.810001</td>\n",
       "      <td>60.099998</td>\n",
       "      <td>53.350021</td>\n",
       "      <td>15293900</td>\n",
       "      <td>-0.283676</td>\n",
       "    </tr>\n",
       "    <tr>\n",
       "      <th>2020-01-06</th>\n",
       "      <td>59.590000</td>\n",
       "      <td>60.200001</td>\n",
       "      <td>59.330002</td>\n",
       "      <td>59.930000</td>\n",
       "      <td>53.199108</td>\n",
       "      <td>17755200</td>\n",
       "      <td>-1.696936</td>\n",
       "    </tr>\n",
       "    <tr>\n",
       "      <th>2020-01-07</th>\n",
       "      <td>59.779999</td>\n",
       "      <td>59.799999</td>\n",
       "      <td>58.889999</td>\n",
       "      <td>58.930000</td>\n",
       "      <td>52.311417</td>\n",
       "      <td>21876100</td>\n",
       "      <td>0.067852</td>\n",
       "    </tr>\n",
       "    <tr>\n",
       "      <th>2020-01-08</th>\n",
       "      <td>58.889999</td>\n",
       "      <td>59.320000</td>\n",
       "      <td>58.520000</td>\n",
       "      <td>58.970001</td>\n",
       "      <td>52.346935</td>\n",
       "      <td>23133500</td>\n",
       "      <td>0.556488</td>\n",
       "    </tr>\n",
       "    <tr>\n",
       "      <th>...</th>\n",
       "      <td>...</td>\n",
       "      <td>...</td>\n",
       "      <td>...</td>\n",
       "      <td>...</td>\n",
       "      <td>...</td>\n",
       "      <td>...</td>\n",
       "      <td>...</td>\n",
       "    </tr>\n",
       "    <tr>\n",
       "      <th>2024-05-20</th>\n",
       "      <td>31.850000</td>\n",
       "      <td>32.419998</td>\n",
       "      <td>31.760000</td>\n",
       "      <td>32.099998</td>\n",
       "      <td>32.099998</td>\n",
       "      <td>31989000</td>\n",
       "      <td>-1.134211</td>\n",
       "    </tr>\n",
       "    <tr>\n",
       "      <th>2024-05-21</th>\n",
       "      <td>31.980000</td>\n",
       "      <td>32.240002</td>\n",
       "      <td>31.620001</td>\n",
       "      <td>31.740000</td>\n",
       "      <td>31.740000</td>\n",
       "      <td>42975400</td>\n",
       "      <td>-1.018459</td>\n",
       "    </tr>\n",
       "    <tr>\n",
       "      <th>2024-05-22</th>\n",
       "      <td>31.910000</td>\n",
       "      <td>32.070000</td>\n",
       "      <td>31.100000</td>\n",
       "      <td>31.420000</td>\n",
       "      <td>31.420000</td>\n",
       "      <td>36706400</td>\n",
       "      <td>-4.454788</td>\n",
       "    </tr>\n",
       "    <tr>\n",
       "      <th>2024-05-23</th>\n",
       "      <td>31.450001</td>\n",
       "      <td>31.570000</td>\n",
       "      <td>29.870001</td>\n",
       "      <td>30.080000</td>\n",
       "      <td>30.080000</td>\n",
       "      <td>62014500</td>\n",
       "      <td>2.083331</td>\n",
       "    </tr>\n",
       "    <tr>\n",
       "      <th>2024-05-24</th>\n",
       "      <td>30.290001</td>\n",
       "      <td>31.020000</td>\n",
       "      <td>30.129999</td>\n",
       "      <td>30.719999</td>\n",
       "      <td>30.719999</td>\n",
       "      <td>42408200</td>\n",
       "      <td>1.094656</td>\n",
       "    </tr>\n",
       "  </tbody>\n",
       "</table>\n",
       "<p>1107 rows × 7 columns</p>\n",
       "</div>"
      ],
      "text/plain": [
       "                 Open       High        Low      Close  Adj Close    Volume  \\\n",
       "Date                                                                          \n",
       "2020-01-02  60.240002  60.970001  60.220001  60.840000  54.006916  18056000   \n",
       "2020-01-03  59.810001  60.700001  59.810001  60.099998  53.350021  15293900   \n",
       "2020-01-06  59.590000  60.200001  59.330002  59.930000  53.199108  17755200   \n",
       "2020-01-07  59.779999  59.799999  58.889999  58.930000  52.311417  21876100   \n",
       "2020-01-08  58.889999  59.320000  58.520000  58.970001  52.346935  23133500   \n",
       "...               ...        ...        ...        ...        ...       ...   \n",
       "2024-05-20  31.850000  32.419998  31.760000  32.099998  32.099998  31989000   \n",
       "2024-05-21  31.980000  32.240002  31.620001  31.740000  31.740000  42975400   \n",
       "2024-05-22  31.910000  32.070000  31.100000  31.420000  31.420000  36706400   \n",
       "2024-05-23  31.450001  31.570000  29.870001  30.080000  30.080000  62014500   \n",
       "2024-05-24  30.290001  31.020000  30.129999  30.719999  30.719999  42408200   \n",
       "\n",
       "            change_tomorrow  \n",
       "Date                         \n",
       "2020-01-02        -1.231292  \n",
       "2020-01-03        -0.283676  \n",
       "2020-01-06        -1.696936  \n",
       "2020-01-07         0.067852  \n",
       "2020-01-08         0.556488  \n",
       "...                     ...  \n",
       "2024-05-20        -1.134211  \n",
       "2024-05-21        -1.018459  \n",
       "2024-05-22        -4.454788  \n",
       "2024-05-23         2.083331  \n",
       "2024-05-24         1.094656  \n",
       "\n",
       "[1107 rows x 7 columns]"
      ]
     },
     "execution_count": 4,
     "metadata": {},
     "output_type": "execute_result"
    }
   ],
   "source": [
    "df = df.dropna().copy()\n",
    "df"
   ]
  },
  {
   "attachments": {},
   "cell_type": "markdown",
   "id": "e29ae486-480c-4a88-9bf3-9ba5e0e53f05",
   "metadata": {},
   "source": [
    "## Machine Learning modelling"
   ]
  },
  {
   "attachments": {},
   "cell_type": "markdown",
   "id": "6c2ffb1d-ffb7-427d-b2d0-6fc3dd3e98c1",
   "metadata": {},
   "source": [
    "### Feature selection\n",
    "\n",
    "1. Target: which variable do you want to predict?\n",
    "2. Explanatory: which variables will you use to calculate the prediction?"
   ]
  },
  {
   "cell_type": "code",
   "execution_count": 5,
   "id": "c36c1df6-10a7-4608-990e-2de157349247",
   "metadata": {},
   "outputs": [],
   "source": [
    "y = df.change_tomorrow\n",
    "X = df.drop(columns='change_tomorrow')"
   ]
  },
  {
   "attachments": {},
   "cell_type": "markdown",
   "id": "45b4e5fa-557b-4f24-99ab-87b0d621c4a1",
   "metadata": {},
   "source": [
    "### Train test split"
   ]
  },
  {
   "cell_type": "code",
   "execution_count": 6,
   "id": "412d4150",
   "metadata": {},
   "outputs": [
    {
     "data": {
      "text/plain": [
       "774"
      ]
     },
     "execution_count": 6,
     "metadata": {},
     "output_type": "execute_result"
    }
   ],
   "source": [
    "n_days_split = int(len(df) * .7)\n",
    "n_days_split"
   ]
  },
  {
   "cell_type": "code",
   "execution_count": 7,
   "id": "561a3473",
   "metadata": {},
   "outputs": [],
   "source": [
    "X_train, y_train = X[:n_days_split], y[:n_days_split]\n",
    "X_test, y_test = X[n_days_split:], y[n_days_split:]"
   ]
  },
  {
   "cell_type": "code",
   "execution_count": 8,
   "id": "f5872da9",
   "metadata": {},
   "outputs": [
    {
     "name": "stdout",
     "output_type": "stream",
     "text": [
      "(774, 6)\n",
      "(774,)\n",
      "\n",
      "(333, 6)\n",
      "(333,)\n"
     ]
    }
   ],
   "source": [
    "print(X_train.shape)\n",
    "print(y_train.shape)\n",
    "\n",
    "print()\n",
    "\n",
    "print(X_test.shape)\n",
    "print(y_test.shape)"
   ]
  },
  {
   "attachments": {},
   "cell_type": "markdown",
   "id": "a7aa2cdd-2f08-44e1-b6f6-60dfbd733a43",
   "metadata": {},
   "source": [
    "### Fit the model on train set"
   ]
  },
  {
   "cell_type": "code",
   "execution_count": 18,
   "id": "e0ccf439-68ef-4fb8-91c6-b65e1f507149",
   "metadata": {},
   "outputs": [],
   "source": [
    "from sklearn.tree import DecisionTreeRegressor\n",
    "\n",
    "dt = DecisionTreeRegressor(random_state = 42, max_depth = 15)"
   ]
  },
  {
   "cell_type": "code",
   "execution_count": 19,
   "metadata": {},
   "outputs": [
    {
     "data": {
      "text/plain": [
       "DecisionTreeRegressor(max_depth=15, random_state=42)"
      ]
     },
     "execution_count": 19,
     "metadata": {},
     "output_type": "execute_result"
    }
   ],
   "source": [
    "dt.fit(X_train, y_train)"
   ]
  },
  {
   "attachments": {},
   "cell_type": "markdown",
   "id": "d05d93d3-0108-4db2-8147-446e4f7acbcd",
   "metadata": {},
   "source": [
    "### Evaluate model"
   ]
  },
  {
   "attachments": {},
   "cell_type": "markdown",
   "id": "40e3e723-01ae-426b-a07f-76e6a0e86085",
   "metadata": {},
   "source": [
    "#### On test set"
   ]
  },
  {
   "cell_type": "code",
   "execution_count": 20,
   "id": "963194dc-7266-44fe-bf13-44f4db7e6cbc",
   "metadata": {},
   "outputs": [],
   "source": [
    "from sklearn.metrics import mean_squared_error\n",
    "\n",
    "forecast_test = dt.predict(X_test)"
   ]
  },
  {
   "cell_type": "code",
   "execution_count": 21,
   "id": "e30cccf3-470f-4d9f-a085-5cc3a6b4cf42",
   "metadata": {},
   "outputs": [
    {
     "name": "stdout",
     "output_type": "stream",
     "text": [
      "10.390616008695735\n",
      "3.2234478448853077\n"
     ]
    }
   ],
   "source": [
    "mse = mean_squared_error(forecast_test, y_test)\n",
    "\n",
    "rmse = mse ** .5\n",
    "\n",
    "print(mse)\n",
    "print(rmse)"
   ]
  },
  {
   "attachments": {},
   "cell_type": "markdown",
   "id": "dd598a11-d599-4ed8-811a-e1970a89ec21",
   "metadata": {},
   "source": [
    "#### On train set"
   ]
  },
  {
   "cell_type": "code",
   "execution_count": 22,
   "id": "0e46086e-056f-4f1d-b81a-c2870a774991",
   "metadata": {},
   "outputs": [],
   "source": [
    "forecast_train = dt.predict(X_train)"
   ]
  },
  {
   "attachments": {},
   "cell_type": "markdown",
   "id": "32f4c9ba-ab10-4d00-8b45-bfda4b2298b8",
   "metadata": {},
   "source": [
    "## Backtesting"
   ]
  },
  {
   "cell_type": "code",
   "execution_count": 23,
   "id": "a6aa60da-4c9a-4485-aae7-91324eed16e2",
   "metadata": {},
   "outputs": [],
   "source": [
    "from backtesting import Backtest, Strategy"
   ]
  },
  {
   "attachments": {},
   "cell_type": "markdown",
   "id": "367a9244-7176-43d2-b784-7e7db33c43df",
   "metadata": {},
   "source": [
    "### Create the `Strategy`"
   ]
  },
  {
   "cell_type": "code",
   "execution_count": 24,
   "id": "05dec003-6544-4832-bec1-8195455191fd",
   "metadata": {},
   "outputs": [],
   "source": [
    "class Regression(Strategy):\n",
    "    limit_buy = 1\n",
    "    limit_sell = -5\n",
    "    \n",
    "    def init(self):\n",
    "        self.model = DecisionTreeRegressor(max_depth=15, random_state=42)\n",
    "        self.already_bought = False\n",
    "        \n",
    "        self.model.fit(X_train, y_train)\n",
    "\n",
    "    def next(self):\n",
    "        explanatory_today = self.data.df.iloc[[-1], :]\n",
    "        forecast_tomorrow = self.model.predict(explanatory_today)[0]\n",
    "        \n",
    "        if forecast_tomorrow > self.limit_buy and self.already_bought == False:\n",
    "            self.buy()\n",
    "            self.already_bought = True\n",
    "        elif forecast_tomorrow < self.limit_sell and self.already_bought == True:\n",
    "            self.sell()\n",
    "            self.already_bought = False\n",
    "        else:\n",
    "            pass"
   ]
  },
  {
   "attachments": {},
   "cell_type": "markdown",
   "id": "10330a05-12bf-4c83-bf1b-3727fed50102",
   "metadata": {},
   "source": [
    "### Run the backtest on `test` data"
   ]
  },
  {
   "cell_type": "code",
   "execution_count": 25,
   "id": "d0e892ec-9924-461a-ad18-09f0a1512aac",
   "metadata": {},
   "outputs": [],
   "source": [
    "bt = Backtest(X_test, Regression,\n",
    "              cash=10000, commission=.002, exclusive_orders=True)"
   ]
  },
  {
   "cell_type": "code",
   "execution_count": 26,
   "id": "8f131c9c-3984-4d73-9e85-800d418287fc",
   "metadata": {},
   "outputs": [
    {
     "data": {
      "text/html": [
       "<div>\n",
       "<style scoped>\n",
       "    .dataframe tbody tr th:only-of-type {\n",
       "        vertical-align: middle;\n",
       "    }\n",
       "\n",
       "    .dataframe tbody tr th {\n",
       "        vertical-align: top;\n",
       "    }\n",
       "\n",
       "    .dataframe thead th {\n",
       "        text-align: right;\n",
       "    }\n",
       "</style>\n",
       "<table border=\"1\" class=\"dataframe\">\n",
       "  <thead>\n",
       "    <tr style=\"text-align: right;\">\n",
       "      <th></th>\n",
       "      <th>Out of Sample (Test)</th>\n",
       "    </tr>\n",
       "  </thead>\n",
       "  <tbody>\n",
       "    <tr>\n",
       "      <th>Start</th>\n",
       "      <td>2023-01-30 00:00:00</td>\n",
       "    </tr>\n",
       "    <tr>\n",
       "      <th>End</th>\n",
       "      <td>2024-05-24 00:00:00</td>\n",
       "    </tr>\n",
       "    <tr>\n",
       "      <th>Duration</th>\n",
       "      <td>480 days 00:00:00</td>\n",
       "    </tr>\n",
       "    <tr>\n",
       "      <th>Exposure Time [%]</th>\n",
       "      <td>97.597598</td>\n",
       "    </tr>\n",
       "    <tr>\n",
       "      <th>Equity Final [$]</th>\n",
       "      <td>8579.548462</td>\n",
       "    </tr>\n",
       "    <tr>\n",
       "      <th>Equity Peak [$]</th>\n",
       "      <td>12823.277094</td>\n",
       "    </tr>\n",
       "    <tr>\n",
       "      <th>Return [%]</th>\n",
       "      <td>-14.204515</td>\n",
       "    </tr>\n",
       "    <tr>\n",
       "      <th>Buy &amp; Hold Return [%]</th>\n",
       "      <td>9.910549</td>\n",
       "    </tr>\n",
       "  </tbody>\n",
       "</table>\n",
       "</div>"
      ],
      "text/plain": [
       "                      Out of Sample (Test)\n",
       "Start                  2023-01-30 00:00:00\n",
       "End                    2024-05-24 00:00:00\n",
       "Duration                 480 days 00:00:00\n",
       "Exposure Time [%]                97.597598\n",
       "Equity Final [$]               8579.548462\n",
       "Equity Peak [$]               12823.277094\n",
       "Return [%]                      -14.204515\n",
       "Buy & Hold Return [%]             9.910549"
      ]
     },
     "execution_count": 26,
     "metadata": {},
     "output_type": "execute_result"
    }
   ],
   "source": [
    "results = bt.run(limit_buy=1, limit_sell=-5)\n",
    "\n",
    "df_results_test = results.to_frame(name='Values').loc[:'Buy & Hold Return [%]']\\\n",
    "    .rename({'Values':'Out of Sample (Test)'}, axis=1)\n",
    "df_results_test\n",
    "#results"
   ]
  },
  {
   "attachments": {},
   "cell_type": "markdown",
   "id": "b766904b-9ac0-4b99-aede-f1c5bcd0ac47",
   "metadata": {},
   "source": [
    "### Run the backtest on `train` data"
   ]
  },
  {
   "cell_type": "code",
   "execution_count": 132,
   "id": "d12e8e0f-b56a-48e4-90d6-e16e61f6e4c6",
   "metadata": {},
   "outputs": [
    {
     "data": {
      "text/html": [
       "<div>\n",
       "<style scoped>\n",
       "    .dataframe tbody tr th:only-of-type {\n",
       "        vertical-align: middle;\n",
       "    }\n",
       "\n",
       "    .dataframe tbody tr th {\n",
       "        vertical-align: top;\n",
       "    }\n",
       "\n",
       "    .dataframe thead th {\n",
       "        text-align: right;\n",
       "    }\n",
       "</style>\n",
       "<table border=\"1\" class=\"dataframe\">\n",
       "  <thead>\n",
       "    <tr style=\"text-align: right;\">\n",
       "      <th></th>\n",
       "      <th>In Sample (Train)</th>\n",
       "    </tr>\n",
       "  </thead>\n",
       "  <tbody>\n",
       "    <tr>\n",
       "      <th>Start</th>\n",
       "      <td>2020-01-02 00:00:00</td>\n",
       "    </tr>\n",
       "    <tr>\n",
       "      <th>End</th>\n",
       "      <td>2022-12-01 00:00:00</td>\n",
       "    </tr>\n",
       "    <tr>\n",
       "      <th>Duration</th>\n",
       "      <td>1064 days 00:00:00</td>\n",
       "    </tr>\n",
       "    <tr>\n",
       "      <th>Exposure Time [%]</th>\n",
       "      <td>98.233696</td>\n",
       "    </tr>\n",
       "    <tr>\n",
       "      <th>Equity Final [$]</th>\n",
       "      <td>13262.87671</td>\n",
       "    </tr>\n",
       "    <tr>\n",
       "      <th>Equity Peak [$]</th>\n",
       "      <td>20607.133113</td>\n",
       "    </tr>\n",
       "    <tr>\n",
       "      <th>Return [%]</th>\n",
       "      <td>32.628767</td>\n",
       "    </tr>\n",
       "    <tr>\n",
       "      <th>Buy &amp; Hold Return [%]</th>\n",
       "      <td>-50.969757</td>\n",
       "    </tr>\n",
       "  </tbody>\n",
       "</table>\n",
       "</div>"
      ],
      "text/plain": [
       "                         In Sample (Train)\n",
       "Start                  2020-01-02 00:00:00\n",
       "End                    2022-12-01 00:00:00\n",
       "Duration                1064 days 00:00:00\n",
       "Exposure Time [%]                98.233696\n",
       "Equity Final [$]               13262.87671\n",
       "Equity Peak [$]               20607.133113\n",
       "Return [%]                       32.628767\n",
       "Buy & Hold Return [%]           -50.969757"
      ]
     },
     "execution_count": 132,
     "metadata": {},
     "output_type": "execute_result"
    }
   ],
   "source": [
    "bt = Backtest(X_train, Regression,\n",
    "              cash=10000, commission=.002, exclusive_orders=True)\n",
    "\n",
    "results = bt.run(limit_buy=1, limit_sell=-5)\n",
    "\n",
    "df_results_train = results.to_frame(name='Values').loc[:'Buy & Hold Return [%]']\\\n",
    "    .rename({'Values':'In Sample (Train)'}, axis=1)\n",
    "df_results_train"
   ]
  },
  {
   "attachments": {},
   "cell_type": "markdown",
   "id": "ae5295ab-18f4-42dc-a88c-0d78a5d235bf",
   "metadata": {},
   "source": [
    "### Compare both backtests\n",
    "\n",
    "- HINT: Concatenate the previous `DataFrames`"
   ]
  },
  {
   "cell_type": "code",
   "execution_count": 133,
   "id": "617d9aad-0ad9-46ca-93bb-fe26b8316602",
   "metadata": {},
   "outputs": [
    {
     "data": {
      "text/html": [
       "<div>\n",
       "<style scoped>\n",
       "    .dataframe tbody tr th:only-of-type {\n",
       "        vertical-align: middle;\n",
       "    }\n",
       "\n",
       "    .dataframe tbody tr th {\n",
       "        vertical-align: top;\n",
       "    }\n",
       "\n",
       "    .dataframe thead th {\n",
       "        text-align: right;\n",
       "    }\n",
       "</style>\n",
       "<table border=\"1\" class=\"dataframe\">\n",
       "  <thead>\n",
       "    <tr style=\"text-align: right;\">\n",
       "      <th></th>\n",
       "      <th>In Sample (Train)</th>\n",
       "      <th>Out of Sample (Test)</th>\n",
       "    </tr>\n",
       "  </thead>\n",
       "  <tbody>\n",
       "    <tr>\n",
       "      <th>Start</th>\n",
       "      <td>2020-01-02 00:00:00</td>\n",
       "      <td>2022-12-02 00:00:00</td>\n",
       "    </tr>\n",
       "    <tr>\n",
       "      <th>End</th>\n",
       "      <td>2022-12-01 00:00:00</td>\n",
       "      <td>2024-03-07 00:00:00</td>\n",
       "    </tr>\n",
       "    <tr>\n",
       "      <th>Duration</th>\n",
       "      <td>1064 days 00:00:00</td>\n",
       "      <td>461 days 00:00:00</td>\n",
       "    </tr>\n",
       "    <tr>\n",
       "      <th>Exposure Time [%]</th>\n",
       "      <td>98.233696</td>\n",
       "      <td>97.151899</td>\n",
       "    </tr>\n",
       "    <tr>\n",
       "      <th>Equity Final [$]</th>\n",
       "      <td>13262.87671</td>\n",
       "      <td>14762.897614</td>\n",
       "    </tr>\n",
       "    <tr>\n",
       "      <th>Equity Peak [$]</th>\n",
       "      <td>20607.133113</td>\n",
       "      <td>14782.338059</td>\n",
       "    </tr>\n",
       "    <tr>\n",
       "      <th>Return [%]</th>\n",
       "      <td>32.628767</td>\n",
       "      <td>47.628976</td>\n",
       "    </tr>\n",
       "    <tr>\n",
       "      <th>Buy &amp; Hold Return [%]</th>\n",
       "      <td>-50.969757</td>\n",
       "      <td>56.919421</td>\n",
       "    </tr>\n",
       "  </tbody>\n",
       "</table>\n",
       "</div>"
      ],
      "text/plain": [
       "                         In Sample (Train) Out of Sample (Test)\n",
       "Start                  2020-01-02 00:00:00  2022-12-02 00:00:00\n",
       "End                    2022-12-01 00:00:00  2024-03-07 00:00:00\n",
       "Duration                1064 days 00:00:00    461 days 00:00:00\n",
       "Exposure Time [%]                98.233696            97.151899\n",
       "Equity Final [$]               13262.87671         14762.897614\n",
       "Equity Peak [$]               20607.133113         14782.338059\n",
       "Return [%]                       32.628767            47.628976\n",
       "Buy & Hold Return [%]           -50.969757            56.919421"
      ]
     },
     "execution_count": 133,
     "metadata": {},
     "output_type": "execute_result"
    }
   ],
   "source": [
    "import pandas as pd\n",
    "pd.concat([df_results_train, df_results_test], axis=1)"
   ]
  },
  {
   "attachments": {},
   "cell_type": "markdown",
   "id": "a6c3bb3c",
   "metadata": {},
   "source": [
    "#### Plot both backtest reports"
   ]
  },
  {
   "cell_type": "code",
   "execution_count": 134,
   "id": "ac284691",
   "metadata": {},
   "outputs": [],
   "source": [
    "#bt.plot(filename='backtest_report_9C.html')"
   ]
  },
  {
   "attachments": {},
   "cell_type": "markdown",
   "id": "047811dc",
   "metadata": {},
   "source": [
    "## How to solve the overfitting problem?\n",
    "\n",
    "> Walk Forward Validation as a realistic approach to backtesting.\n",
    "\n",
    "Next tutorial → [Walk Forward Validation]()"
   ]
  },
  {
   "attachments": {},
   "cell_type": "markdown",
   "id": "7dbd7bd3",
   "metadata": {},
   "source": [
    "![](<src/10_Table_Validation Methods.png>)"
   ]
  }
 ],
 "metadata": {
  "kernelspec": {
   "display_name": "Python 3",
   "language": "python",
   "name": "python3"
  },
  "language_info": {
   "codemirror_mode": {
    "name": "ipython",
    "version": 3
   },
   "file_extension": ".py",
   "mimetype": "text/x-python",
   "name": "python",
   "nbconvert_exporter": "python",
   "pygments_lexer": "ipython3",
   "version": "3.10.12"
  }
 },
 "nbformat": 4,
 "nbformat_minor": 5
}
