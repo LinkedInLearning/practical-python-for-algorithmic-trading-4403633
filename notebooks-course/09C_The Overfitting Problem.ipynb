{
  "cells": [
    {
      "attachments": {},
      "cell_type": "markdown",
      "id": "ab30d554-5b8c-4742-a3f2-4780875c67f8",
      "metadata": {},
      "source": [
        "# Challenge: Overfitting on Other Datasets"
      ]
    },
    {
      "attachments": {},
      "cell_type": "markdown",
      "id": "d0594980-9456-4a1b-88ad-ba2e56232600",
      "metadata": {},
      "source": [
        "## Download data from `yfinance`"
      ]
    },
    {
      "cell_type": "code",
      "execution_count": null,
      "id": "972674d7-af41-44f1-839e-450246e53d17",
      "metadata": {},
      "outputs": [],
      "source": [
        "import yfinance as yf\n",
        "\n",
        "ticker = '???'\n",
        "df = yf.download(ticker, multi_level_index=False, auto_adjust=False)\n",
        "df"
      ]
    },
    {
      "attachments": {},
      "cell_type": "markdown",
      "id": "53bfc2d7-c044-48a7-aa83-234c751be651",
      "metadata": {},
      "source": [
        "## Preprocess the data"
      ]
    },
    {
      "attachments": {},
      "cell_type": "markdown",
      "id": "a21b6503-58f5-4c46-844d-496fc9f523f5",
      "metadata": {},
      "source": [
        "### Filter the date range\n",
        "\n",
        "- Since 1 year ago at least"
      ]
    },
    {
      "cell_type": "code",
      "execution_count": null,
      "id": "27a99a2a-65ef-4bce-aa6e-761e532ef65b",
      "metadata": {},
      "outputs": [],
      "source": [
        "df = df.loc['2020-01-01':].copy()"
      ]
    },
    {
      "attachments": {},
      "cell_type": "markdown",
      "id": "96f2148e-b519-4694-9033-7ece26520ddc",
      "metadata": {},
      "source": [
        "### Create the target variable\n",
        "\n",
        "#### Percentage change\n",
        "\n",
        "- Percentage change on `Adj Close` for tomorrow"
      ]
    },
    {
      "cell_type": "code",
      "execution_count": null,
      "id": "76b43f65-bf8b-40e5-b8af-0df5f4fbe9d6",
      "metadata": {},
      "outputs": [],
      "source": [
        "df['change_tomorrow'] = df['Adj Close'].pct_change(-1)\n",
        "df.change_tomorrow = df.change_tomorrow * -1\n",
        "df.change_tomorrow = df.change_tomorrow * 100"
      ]
    },
    {
      "attachments": {},
      "cell_type": "markdown",
      "id": "e90a7218-3fa4-48e3-bf61-20a04eee45a7",
      "metadata": {},
      "source": [
        "#### Remove rows with any missing data"
      ]
    },
    {
      "cell_type": "code",
      "execution_count": null,
      "id": "cb4a905c-6c69-4731-a4fa-54ef4dbf3e88",
      "metadata": {},
      "outputs": [],
      "source": [
        "df = df.dropna().copy()\n",
        "df"
      ]
    },
    {
      "attachments": {},
      "cell_type": "markdown",
      "id": "e29ae486-480c-4a88-9bf3-9ba5e0e53f05",
      "metadata": {},
      "source": [
        "## Machine Learning modelling"
      ]
    },
    {
      "attachments": {},
      "cell_type": "markdown",
      "id": "6c2ffb1d-ffb7-427d-b2d0-6fc3dd3e98c1",
      "metadata": {},
      "source": [
        "### Feature selection\n",
        "\n",
        "1. Target: which variable do you want to predict?\n",
        "2. Explanatory: which variables will you use to calculate the prediction?"
      ]
    },
    {
      "cell_type": "code",
      "execution_count": null,
      "id": "c36c1df6-10a7-4608-990e-2de157349247",
      "metadata": {},
      "outputs": [],
      "source": [
        "y = df.change_tomorrow\n",
        "X = df.drop(columns='change_tomorrow')"
      ]
    },
    {
      "attachments": {},
      "cell_type": "markdown",
      "id": "45b4e5fa-557b-4f24-99ab-87b0d621c4a1",
      "metadata": {},
      "source": [
        "### Train test split"
      ]
    },
    {
      "cell_type": "code",
      "execution_count": null,
      "id": "412d4150",
      "metadata": {},
      "outputs": [],
      "source": []
    },
    {
      "attachments": {},
      "cell_type": "markdown",
      "id": "a7aa2cdd-2f08-44e1-b6f6-60dfbd733a43",
      "metadata": {},
      "source": [
        "### Fit the model on train set"
      ]
    },
    {
      "cell_type": "code",
      "execution_count": null,
      "id": "e0ccf439-68ef-4fb8-91c6-b65e1f507149",
      "metadata": {},
      "outputs": [],
      "source": []
    },
    {
      "attachments": {},
      "cell_type": "markdown",
      "id": "d05d93d3-0108-4db2-8147-446e4f7acbcd",
      "metadata": {},
      "source": [
        "### Evaluate model"
      ]
    },
    {
      "attachments": {},
      "cell_type": "markdown",
      "id": "40e3e723-01ae-426b-a07f-76e6a0e86085",
      "metadata": {},
      "source": [
        "#### On test set"
      ]
    },
    {
      "cell_type": "code",
      "execution_count": null,
      "id": "963194dc-7266-44fe-bf13-44f4db7e6cbc",
      "metadata": {},
      "outputs": [],
      "source": [
        "from sklearn.metrics import ???"
      ]
    },
    {
      "cell_type": "code",
      "execution_count": null,
      "id": "e30cccf3-470f-4d9f-a085-5cc3a6b4cf42",
      "metadata": {},
      "outputs": [],
      "source": []
    },
    {
      "attachments": {},
      "cell_type": "markdown",
      "id": "dd598a11-d599-4ed8-811a-e1970a89ec21",
      "metadata": {},
      "source": [
        "#### On train set"
      ]
    },
    {
      "cell_type": "code",
      "execution_count": null,
      "id": "0e46086e-056f-4f1d-b81a-c2870a774991",
      "metadata": {},
      "outputs": [],
      "source": []
    },
    {
      "attachments": {},
      "cell_type": "markdown",
      "id": "32f4c9ba-ab10-4d00-8b45-bfda4b2298b8",
      "metadata": {},
      "source": [
        "## Backtesting"
      ]
    },
    {
      "cell_type": "code",
      "execution_count": null,
      "id": "a6aa60da-4c9a-4485-aae7-91324eed16e2",
      "metadata": {},
      "outputs": [],
      "source": [
        "from backtesting import Backtest, Strategy"
      ]
    },
    {
      "attachments": {},
      "cell_type": "markdown",
      "id": "367a9244-7176-43d2-b784-7e7db33c43df",
      "metadata": {},
      "source": [
        "### Create the `Strategy`"
      ]
    },
    {
      "cell_type": "code",
      "execution_count": null,
      "id": "05dec003-6544-4832-bec1-8195455191fd",
      "metadata": {},
      "outputs": [],
      "source": [
        "class Regression(Strategy):\n",
        "    limit_buy = 1\n",
        "    limit_sell = -5\n",
        "    \n",
        "    def init(self):\n",
        "        self.model = DecisionTreeRegressor(max_depth=15, random_state=42)\n",
        "        self.already_bought = False\n",
        "        \n",
        "        ???\n",
        "\n",
        "    def next(self):\n",
        "        explanatory_today = self.data.df.iloc[[-1], :]\n",
        "        forecast_tomorrow = self.model.predict(explanatory_today)[0]\n",
        "        \n",
        "        if forecast_tomorrow > self.limit_buy and self.already_bought == False:\n",
        "            self.buy()\n",
        "            self.already_bought = True\n",
        "        elif forecast_tomorrow < self.limit_sell and self.already_bought == True:\n",
        "            self.sell()\n",
        "            self.already_bought = False\n",
        "        else:\n",
        "            pass"
      ]
    },
    {
      "attachments": {},
      "cell_type": "markdown",
      "id": "10330a05-12bf-4c83-bf1b-3727fed50102",
      "metadata": {},
      "source": [
        "### Run the backtest on `test` data"
      ]
    },
    {
      "cell_type": "code",
      "execution_count": null,
      "id": "d0e892ec-9924-461a-ad18-09f0a1512aac",
      "metadata": {},
      "outputs": [],
      "source": [
        "bt = Backtest(???, Regression,\n",
        "              cash=10000, commission=.002, exclusive_orders=True)"
      ]
    },
    {
      "cell_type": "code",
      "execution_count": null,
      "id": "8f131c9c-3984-4d73-9e85-800d418287fc",
      "metadata": {},
      "outputs": [],
      "source": [
        "results = bt.run(limit_buy=1, limit_sell=-5)\n",
        "\n",
        "df_results_test = results.to_frame(name='Values').loc[:'Return [%]']\\\n",
        "    .rename({'Values':'Out of Sample (Test)'}, axis=1)\n",
        "df_results_test"
      ]
    },
    {
      "attachments": {},
      "cell_type": "markdown",
      "id": "b766904b-9ac0-4b99-aede-f1c5bcd0ac47",
      "metadata": {},
      "source": [
        "### Run the backtest on `train` data"
      ]
    },
    {
      "cell_type": "code",
      "execution_count": null,
      "id": "d12e8e0f-b56a-48e4-90d6-e16e61f6e4c6",
      "metadata": {},
      "outputs": [],
      "source": [
        "bt = Backtest(???, Regression,\n",
        "              cash=10000, commission=.002, exclusive_orders=True)\n",
        "\n",
        "results = bt.run(limit_buy=1, limit_sell=-5)\n",
        "\n",
        "df_results_train = results.to_frame(name='Values').loc[:'Return [%]']\\\n",
        "    .rename({'Values':'In Sample (Train)'}, axis=1)\n",
        "df_results_train"
      ]
    },
    {
      "attachments": {},
      "cell_type": "markdown",
      "id": "ae5295ab-18f4-42dc-a88c-0d78a5d235bf",
      "metadata": {},
      "source": [
        "### Compare both backtests\n",
        "\n",
        "- HINT: Concatenate the previous `DataFrames`"
      ]
    },
    {
      "cell_type": "code",
      "execution_count": null,
      "id": "617d9aad-0ad9-46ca-93bb-fe26b8316602",
      "metadata": {},
      "outputs": [],
      "source": []
    },
    {
      "attachments": {},
      "cell_type": "markdown",
      "id": "a6c3bb3c",
      "metadata": {},
      "source": [
        "#### Plot both backtest reports"
      ]
    },
    {
      "cell_type": "code",
      "execution_count": null,
      "id": "ac284691",
      "metadata": {},
      "outputs": [],
      "source": []
    },
    {
      "attachments": {},
      "cell_type": "markdown",
      "id": "047811dc",
      "metadata": {},
      "source": [
        "## How to solve the overfitting problem?\n",
        "\n",
        "> Walk Forward Validation as a realistic approach to backtesting.\n",
        "\n",
        "Next tutorial → [Walk Forward Validation]()"
      ]
    },
    {
      "attachments": {},
      "cell_type": "markdown",
      "id": "7dbd7bd3",
      "metadata": {},
      "source": [
        "![](<src/10_Table_Validation Methods.png>)"
      ]
    }
  ],
  "metadata": {
    "kernelspec": {
      "display_name": "Python 3",
      "language": "python",
      "name": "python3"
    },
    "language_info": {
      "codemirror_mode": {
        "name": "ipython",
        "version": 3
      },
      "file_extension": ".py",
      "mimetype": "text/x-python",
      "name": "python",
      "nbconvert_exporter": "python",
      "pygments_lexer": "ipython3",
      "version": "3.10.10"
    }
  },
  "nbformat": 4,
  "nbformat_minor": 5
}