{
  "cells": [
    {
      "attachments": {},
      "cell_type": "markdown",
      "id": "c52ce656-02ee-4d26-a276-a4b5d2404c86",
      "metadata": {},
      "source": [
        "# Challenge: Optimization on Other Datasets"
      ]
    },
    {
      "attachments": {},
      "cell_type": "markdown",
      "id": "2a13e12c-8405-4393-9bbf-c1fe901f4ab8",
      "metadata": {},
      "source": [
        "## Download data from `yfinance`"
      ]
    },
    {
      "cell_type": "code",
      "execution_count": 1,
      "id": "c1ac0880-5f22-4a6c-ae95-e2ee4aa85cc7",
      "metadata": {},
      "outputs": [
        {
          "name": "stdout",
          "output_type": "stream",
          "text": [
            "[*********************100%***********************]  1 of 1 completed\n"
          ]
        },
        {
          "data": {
            "text/html": [
              "<div>\n",
              "<style scoped>\n",
              "    .dataframe tbody tr th:only-of-type {\n",
              "        vertical-align: middle;\n",
              "    }\n",
              "\n",
              "    .dataframe tbody tr th {\n",
              "        vertical-align: top;\n",
              "    }\n",
              "\n",
              "    .dataframe thead th {\n",
              "        text-align: right;\n",
              "    }\n",
              "</style>\n",
              "<table border=\"1\" class=\"dataframe\">\n",
              "  <thead>\n",
              "    <tr style=\"text-align: right;\">\n",
              "      <th></th>\n",
              "      <th>Open</th>\n",
              "      <th>High</th>\n",
              "      <th>Low</th>\n",
              "      <th>Close</th>\n",
              "      <th>Adj Close</th>\n",
              "      <th>Volume</th>\n",
              "    </tr>\n",
              "    <tr>\n",
              "      <th>Date</th>\n",
              "      <th></th>\n",
              "      <th></th>\n",
              "      <th></th>\n",
              "      <th></th>\n",
              "      <th></th>\n",
              "      <th></th>\n",
              "    </tr>\n",
              "  </thead>\n",
              "  <tbody>\n",
              "    <tr>\n",
              "      <th>2019-04-18</th>\n",
              "      <td>65.000000</td>\n",
              "      <td>66.000000</td>\n",
              "      <td>60.320999</td>\n",
              "      <td>62.000000</td>\n",
              "      <td>62.000000</td>\n",
              "      <td>25764700</td>\n",
              "    </tr>\n",
              "    <tr>\n",
              "      <th>2019-04-22</th>\n",
              "      <td>61.000000</td>\n",
              "      <td>68.900002</td>\n",
              "      <td>59.939999</td>\n",
              "      <td>65.699997</td>\n",
              "      <td>65.699997</td>\n",
              "      <td>9949700</td>\n",
              "    </tr>\n",
              "    <tr>\n",
              "      <th>...</th>\n",
              "      <td>...</td>\n",
              "      <td>...</td>\n",
              "      <td>...</td>\n",
              "      <td>...</td>\n",
              "      <td>...</td>\n",
              "      <td>...</td>\n",
              "    </tr>\n",
              "    <tr>\n",
              "      <th>2023-05-11</th>\n",
              "      <td>64.730003</td>\n",
              "      <td>65.050003</td>\n",
              "      <td>63.720001</td>\n",
              "      <td>64.449997</td>\n",
              "      <td>64.449997</td>\n",
              "      <td>2344200</td>\n",
              "    </tr>\n",
              "    <tr>\n",
              "      <th>2023-05-12</th>\n",
              "      <td>64.410004</td>\n",
              "      <td>64.410004</td>\n",
              "      <td>63.290001</td>\n",
              "      <td>63.689999</td>\n",
              "      <td>63.689999</td>\n",
              "      <td>2652900</td>\n",
              "    </tr>\n",
              "  </tbody>\n",
              "</table>\n",
              "<p>1025 rows × 6 columns</p>\n",
              "</div>"
            ],
            "text/plain": [
              "                 Open       High        Low      Close  Adj Close    Volume\n",
              "Date                                                                       \n",
              "2019-04-18  65.000000  66.000000  60.320999  62.000000  62.000000  25764700\n",
              "2019-04-22  61.000000  68.900002  59.939999  65.699997  65.699997   9949700\n",
              "...               ...        ...        ...        ...        ...       ...\n",
              "2023-05-11  64.730003  65.050003  63.720001  64.449997  64.449997   2344200\n",
              "2023-05-12  64.410004  64.410004  63.290001  63.689999  63.689999   2652900\n",
              "\n",
              "[1025 rows x 6 columns]"
            ]
          },
          "execution_count": 1,
          "metadata": {},
          "output_type": "execute_result"
        }
      ],
      "source": [
        "import yfinance as yf\n",
        "\n",
        "ticker = 'ZM'\n",
        "df = yf.download(ticker, multi_level_index=False, auto_adjust=False)\n",
        "df"
      ]
    },
    {
      "attachments": {},
      "cell_type": "markdown",
      "id": "ff2baa5f-8848-4c76-9c0b-7c9b476ee223",
      "metadata": {},
      "source": [
        "## Preprocess the data"
      ]
    },
    {
      "attachments": {},
      "cell_type": "markdown",
      "id": "3f3979cb-8144-4d9a-b1ae-982a08c8f741",
      "metadata": {},
      "source": [
        "### Filter the date range\n",
        "\n",
        "- Since 1 year ago at least"
      ]
    },
    {
      "cell_type": "code",
      "execution_count": 2,
      "id": "ac0de2d4-4e40-464c-aae8-8a152a5e8722",
      "metadata": {},
      "outputs": [
        {
          "data": {
            "text/html": [
              "<div>\n",
              "<style scoped>\n",
              "    .dataframe tbody tr th:only-of-type {\n",
              "        vertical-align: middle;\n",
              "    }\n",
              "\n",
              "    .dataframe tbody tr th {\n",
              "        vertical-align: top;\n",
              "    }\n",
              "\n",
              "    .dataframe thead th {\n",
              "        text-align: right;\n",
              "    }\n",
              "</style>\n",
              "<table border=\"1\" class=\"dataframe\">\n",
              "  <thead>\n",
              "    <tr style=\"text-align: right;\">\n",
              "      <th></th>\n",
              "      <th>Open</th>\n",
              "      <th>High</th>\n",
              "      <th>Low</th>\n",
              "      <th>Close</th>\n",
              "      <th>Adj Close</th>\n",
              "      <th>Volume</th>\n",
              "    </tr>\n",
              "    <tr>\n",
              "      <th>Date</th>\n",
              "      <th></th>\n",
              "      <th></th>\n",
              "      <th></th>\n",
              "      <th></th>\n",
              "      <th></th>\n",
              "      <th></th>\n",
              "    </tr>\n",
              "  </thead>\n",
              "  <tbody>\n",
              "    <tr>\n",
              "      <th>2020-01-02</th>\n",
              "      <td>68.800003</td>\n",
              "      <td>69.235001</td>\n",
              "      <td>68.019997</td>\n",
              "      <td>68.720001</td>\n",
              "      <td>68.720001</td>\n",
              "      <td>1315500</td>\n",
              "    </tr>\n",
              "    <tr>\n",
              "      <th>2020-01-03</th>\n",
              "      <td>67.620003</td>\n",
              "      <td>68.680000</td>\n",
              "      <td>67.099998</td>\n",
              "      <td>67.279999</td>\n",
              "      <td>67.279999</td>\n",
              "      <td>1127900</td>\n",
              "    </tr>\n",
              "    <tr>\n",
              "      <th>...</th>\n",
              "      <td>...</td>\n",
              "      <td>...</td>\n",
              "      <td>...</td>\n",
              "      <td>...</td>\n",
              "      <td>...</td>\n",
              "      <td>...</td>\n",
              "    </tr>\n",
              "    <tr>\n",
              "      <th>2023-05-11</th>\n",
              "      <td>64.730003</td>\n",
              "      <td>65.050003</td>\n",
              "      <td>63.720001</td>\n",
              "      <td>64.449997</td>\n",
              "      <td>64.449997</td>\n",
              "      <td>2344200</td>\n",
              "    </tr>\n",
              "    <tr>\n",
              "      <th>2023-05-12</th>\n",
              "      <td>64.410004</td>\n",
              "      <td>64.410004</td>\n",
              "      <td>63.290001</td>\n",
              "      <td>63.689999</td>\n",
              "      <td>63.689999</td>\n",
              "      <td>2652900</td>\n",
              "    </tr>\n",
              "  </tbody>\n",
              "</table>\n",
              "<p>847 rows × 6 columns</p>\n",
              "</div>"
            ],
            "text/plain": [
              "                 Open       High        Low      Close  Adj Close   Volume\n",
              "Date                                                                      \n",
              "2020-01-02  68.800003  69.235001  68.019997  68.720001  68.720001  1315500\n",
              "2020-01-03  67.620003  68.680000  67.099998  67.279999  67.279999  1127900\n",
              "...               ...        ...        ...        ...        ...      ...\n",
              "2023-05-11  64.730003  65.050003  63.720001  64.449997  64.449997  2344200\n",
              "2023-05-12  64.410004  64.410004  63.290001  63.689999  63.689999  2652900\n",
              "\n",
              "[847 rows x 6 columns]"
            ]
          },
          "execution_count": 2,
          "metadata": {},
          "output_type": "execute_result"
        }
      ],
      "source": [
        "df = df.loc['2020-01-01':].copy()\n",
        "df"
      ]
    },
    {
      "attachments": {},
      "cell_type": "markdown",
      "id": "f519e27c-26ef-4d20-9e0f-52b387767351",
      "metadata": {},
      "source": [
        "### Create the target variable\n",
        "\n",
        "#### Percentage change\n",
        "\n",
        "- Percentage change on `Adj Close` for tomorrow"
      ]
    },
    {
      "cell_type": "code",
      "execution_count": 3,
      "id": "bf8b17d0-7b90-4ee5-83c7-1ad5be3ff290",
      "metadata": {},
      "outputs": [
        {
          "data": {
            "text/html": [
              "<div>\n",
              "<style scoped>\n",
              "    .dataframe tbody tr th:only-of-type {\n",
              "        vertical-align: middle;\n",
              "    }\n",
              "\n",
              "    .dataframe tbody tr th {\n",
              "        vertical-align: top;\n",
              "    }\n",
              "\n",
              "    .dataframe thead th {\n",
              "        text-align: right;\n",
              "    }\n",
              "</style>\n",
              "<table border=\"1\" class=\"dataframe\">\n",
              "  <thead>\n",
              "    <tr style=\"text-align: right;\">\n",
              "      <th></th>\n",
              "      <th>Open</th>\n",
              "      <th>High</th>\n",
              "      <th>Low</th>\n",
              "      <th>Close</th>\n",
              "      <th>Adj Close</th>\n",
              "      <th>Volume</th>\n",
              "      <th>change_tomorrow</th>\n",
              "    </tr>\n",
              "    <tr>\n",
              "      <th>Date</th>\n",
              "      <th></th>\n",
              "      <th></th>\n",
              "      <th></th>\n",
              "      <th></th>\n",
              "      <th></th>\n",
              "      <th></th>\n",
              "      <th></th>\n",
              "    </tr>\n",
              "  </thead>\n",
              "  <tbody>\n",
              "    <tr>\n",
              "      <th>2020-01-02</th>\n",
              "      <td>68.800003</td>\n",
              "      <td>69.235001</td>\n",
              "      <td>68.019997</td>\n",
              "      <td>68.720001</td>\n",
              "      <td>68.720001</td>\n",
              "      <td>1315500</td>\n",
              "      <td>-2.140313</td>\n",
              "    </tr>\n",
              "    <tr>\n",
              "      <th>2020-01-03</th>\n",
              "      <td>67.620003</td>\n",
              "      <td>68.680000</td>\n",
              "      <td>67.099998</td>\n",
              "      <td>67.279999</td>\n",
              "      <td>67.279999</td>\n",
              "      <td>1127900</td>\n",
              "      <td>4.323096</td>\n",
              "    </tr>\n",
              "    <tr>\n",
              "      <th>...</th>\n",
              "      <td>...</td>\n",
              "      <td>...</td>\n",
              "      <td>...</td>\n",
              "      <td>...</td>\n",
              "      <td>...</td>\n",
              "      <td>...</td>\n",
              "      <td>...</td>\n",
              "    </tr>\n",
              "    <tr>\n",
              "      <th>2023-05-11</th>\n",
              "      <td>64.730003</td>\n",
              "      <td>65.050003</td>\n",
              "      <td>63.720001</td>\n",
              "      <td>64.449997</td>\n",
              "      <td>64.449997</td>\n",
              "      <td>2344200</td>\n",
              "      <td>-1.193277</td>\n",
              "    </tr>\n",
              "    <tr>\n",
              "      <th>2023-05-12</th>\n",
              "      <td>64.410004</td>\n",
              "      <td>64.410004</td>\n",
              "      <td>63.290001</td>\n",
              "      <td>63.689999</td>\n",
              "      <td>63.689999</td>\n",
              "      <td>2652900</td>\n",
              "      <td>NaN</td>\n",
              "    </tr>\n",
              "  </tbody>\n",
              "</table>\n",
              "<p>847 rows × 7 columns</p>\n",
              "</div>"
            ],
            "text/plain": [
              "                 Open       High        Low      Close  Adj Close   Volume  \\\n",
              "Date                                                                         \n",
              "2020-01-02  68.800003  69.235001  68.019997  68.720001  68.720001  1315500   \n",
              "2020-01-03  67.620003  68.680000  67.099998  67.279999  67.279999  1127900   \n",
              "...               ...        ...        ...        ...        ...      ...   \n",
              "2023-05-11  64.730003  65.050003  63.720001  64.449997  64.449997  2344200   \n",
              "2023-05-12  64.410004  64.410004  63.290001  63.689999  63.689999  2652900   \n",
              "\n",
              "            change_tomorrow  \n",
              "Date                         \n",
              "2020-01-02        -2.140313  \n",
              "2020-01-03         4.323096  \n",
              "...                     ...  \n",
              "2023-05-11        -1.193277  \n",
              "2023-05-12              NaN  \n",
              "\n",
              "[847 rows x 7 columns]"
            ]
          },
          "execution_count": 3,
          "metadata": {},
          "output_type": "execute_result"
        }
      ],
      "source": [
        "df['change_tomorrow'] = df['Adj Close'].pct_change(-1)\n",
        "df.change_tomorrow = df.change_tomorrow * -1\n",
        "df.change_tomorrow = df.change_tomorrow * 100\n",
        "df"
      ]
    },
    {
      "attachments": {},
      "cell_type": "markdown",
      "id": "8caab272-5358-45b1-801b-fd156854bdf7",
      "metadata": {},
      "source": [
        "#### Remove rows with any missing data"
      ]
    },
    {
      "cell_type": "code",
      "execution_count": 4,
      "id": "68ca98e0-5a5e-4b28-b709-8a900d866c23",
      "metadata": {},
      "outputs": [
        {
          "data": {
            "text/html": [
              "<div>\n",
              "<style scoped>\n",
              "    .dataframe tbody tr th:only-of-type {\n",
              "        vertical-align: middle;\n",
              "    }\n",
              "\n",
              "    .dataframe tbody tr th {\n",
              "        vertical-align: top;\n",
              "    }\n",
              "\n",
              "    .dataframe thead th {\n",
              "        text-align: right;\n",
              "    }\n",
              "</style>\n",
              "<table border=\"1\" class=\"dataframe\">\n",
              "  <thead>\n",
              "    <tr style=\"text-align: right;\">\n",
              "      <th></th>\n",
              "      <th>Open</th>\n",
              "      <th>High</th>\n",
              "      <th>Low</th>\n",
              "      <th>Close</th>\n",
              "      <th>Adj Close</th>\n",
              "      <th>Volume</th>\n",
              "      <th>change_tomorrow</th>\n",
              "    </tr>\n",
              "    <tr>\n",
              "      <th>Date</th>\n",
              "      <th></th>\n",
              "      <th></th>\n",
              "      <th></th>\n",
              "      <th></th>\n",
              "      <th></th>\n",
              "      <th></th>\n",
              "      <th></th>\n",
              "    </tr>\n",
              "  </thead>\n",
              "  <tbody>\n",
              "    <tr>\n",
              "      <th>2020-01-02</th>\n",
              "      <td>68.800003</td>\n",
              "      <td>69.235001</td>\n",
              "      <td>68.019997</td>\n",
              "      <td>68.720001</td>\n",
              "      <td>68.720001</td>\n",
              "      <td>1315500</td>\n",
              "      <td>-2.140313</td>\n",
              "    </tr>\n",
              "    <tr>\n",
              "      <th>2020-01-03</th>\n",
              "      <td>67.620003</td>\n",
              "      <td>68.680000</td>\n",
              "      <td>67.099998</td>\n",
              "      <td>67.279999</td>\n",
              "      <td>67.279999</td>\n",
              "      <td>1127900</td>\n",
              "      <td>4.323096</td>\n",
              "    </tr>\n",
              "    <tr>\n",
              "      <th>...</th>\n",
              "      <td>...</td>\n",
              "      <td>...</td>\n",
              "      <td>...</td>\n",
              "      <td>...</td>\n",
              "      <td>...</td>\n",
              "      <td>...</td>\n",
              "      <td>...</td>\n",
              "    </tr>\n",
              "    <tr>\n",
              "      <th>2023-05-10</th>\n",
              "      <td>64.139999</td>\n",
              "      <td>65.669998</td>\n",
              "      <td>64.050003</td>\n",
              "      <td>64.430000</td>\n",
              "      <td>64.430000</td>\n",
              "      <td>3533400</td>\n",
              "      <td>0.031027</td>\n",
              "    </tr>\n",
              "    <tr>\n",
              "      <th>2023-05-11</th>\n",
              "      <td>64.730003</td>\n",
              "      <td>65.050003</td>\n",
              "      <td>63.720001</td>\n",
              "      <td>64.449997</td>\n",
              "      <td>64.449997</td>\n",
              "      <td>2344200</td>\n",
              "      <td>-1.193277</td>\n",
              "    </tr>\n",
              "  </tbody>\n",
              "</table>\n",
              "<p>846 rows × 7 columns</p>\n",
              "</div>"
            ],
            "text/plain": [
              "                 Open       High        Low      Close  Adj Close   Volume  \\\n",
              "Date                                                                         \n",
              "2020-01-02  68.800003  69.235001  68.019997  68.720001  68.720001  1315500   \n",
              "2020-01-03  67.620003  68.680000  67.099998  67.279999  67.279999  1127900   \n",
              "...               ...        ...        ...        ...        ...      ...   \n",
              "2023-05-10  64.139999  65.669998  64.050003  64.430000  64.430000  3533400   \n",
              "2023-05-11  64.730003  65.050003  63.720001  64.449997  64.449997  2344200   \n",
              "\n",
              "            change_tomorrow  \n",
              "Date                         \n",
              "2020-01-02        -2.140313  \n",
              "2020-01-03         4.323096  \n",
              "...                     ...  \n",
              "2023-05-10         0.031027  \n",
              "2023-05-11        -1.193277  \n",
              "\n",
              "[846 rows x 7 columns]"
            ]
          },
          "execution_count": 4,
          "metadata": {},
          "output_type": "execute_result"
        }
      ],
      "source": [
        "df = df.dropna().copy()\n",
        "df"
      ]
    },
    {
      "attachments": {},
      "cell_type": "markdown",
      "id": "238dfed1-bb4d-4514-95cb-53d3631a3b9d",
      "metadata": {},
      "source": [
        "## Compute Machine Learning model\n",
        "\n",
        "Proposal: Random Forest within `ensemble` module of `sklearn` library"
      ]
    },
    {
      "cell_type": "code",
      "execution_count": 5,
      "id": "55bf9181-b94b-40f3-869f-18a9ca30b746",
      "metadata": {},
      "outputs": [],
      "source": [
        "from sklearn.ensemble import RandomForestRegressor"
      ]
    },
    {
      "cell_type": "code",
      "execution_count": 6,
      "id": "2206bd26-9753-4e9f-b3a8-1a8198021b21",
      "metadata": {},
      "outputs": [],
      "source": [
        "model = RandomForestRegressor(max_depth=20, random_state=42)"
      ]
    },
    {
      "cell_type": "code",
      "execution_count": 7,
      "id": "18a4a93a-51ef-48de-90ef-14faad4941de",
      "metadata": {},
      "outputs": [],
      "source": [
        "y = df.change_tomorrow\n",
        "X = df.drop(columns='change_tomorrow')"
      ]
    },
    {
      "cell_type": "code",
      "execution_count": 8,
      "id": "da18220d-5023-4b71-b916-e0123387fe21",
      "metadata": {},
      "outputs": [
        {
          "data": {
            "text/html": [
              "<style>#sk-container-id-1 {color: black;background-color: white;}#sk-container-id-1 pre{padding: 0;}#sk-container-id-1 div.sk-toggleable {background-color: white;}#sk-container-id-1 label.sk-toggleable__label {cursor: pointer;display: block;width: 100%;margin-bottom: 0;padding: 0.3em;box-sizing: border-box;text-align: center;}#sk-container-id-1 label.sk-toggleable__label-arrow:before {content: \"▸\";float: left;margin-right: 0.25em;color: #696969;}#sk-container-id-1 label.sk-toggleable__label-arrow:hover:before {color: black;}#sk-container-id-1 div.sk-estimator:hover label.sk-toggleable__label-arrow:before {color: black;}#sk-container-id-1 div.sk-toggleable__content {max-height: 0;max-width: 0;overflow: hidden;text-align: left;background-color: #f0f8ff;}#sk-container-id-1 div.sk-toggleable__content pre {margin: 0.2em;color: black;border-radius: 0.25em;background-color: #f0f8ff;}#sk-container-id-1 input.sk-toggleable__control:checked~div.sk-toggleable__content {max-height: 200px;max-width: 100%;overflow: auto;}#sk-container-id-1 input.sk-toggleable__control:checked~label.sk-toggleable__label-arrow:before {content: \"▾\";}#sk-container-id-1 div.sk-estimator input.sk-toggleable__control:checked~label.sk-toggleable__label {background-color: #d4ebff;}#sk-container-id-1 div.sk-label input.sk-toggleable__control:checked~label.sk-toggleable__label {background-color: #d4ebff;}#sk-container-id-1 input.sk-hidden--visually {border: 0;clip: rect(1px 1px 1px 1px);clip: rect(1px, 1px, 1px, 1px);height: 1px;margin: -1px;overflow: hidden;padding: 0;position: absolute;width: 1px;}#sk-container-id-1 div.sk-estimator {font-family: monospace;background-color: #f0f8ff;border: 1px dotted black;border-radius: 0.25em;box-sizing: border-box;margin-bottom: 0.5em;}#sk-container-id-1 div.sk-estimator:hover {background-color: #d4ebff;}#sk-container-id-1 div.sk-parallel-item::after {content: \"\";width: 100%;border-bottom: 1px solid gray;flex-grow: 1;}#sk-container-id-1 div.sk-label:hover label.sk-toggleable__label {background-color: #d4ebff;}#sk-container-id-1 div.sk-serial::before {content: \"\";position: absolute;border-left: 1px solid gray;box-sizing: border-box;top: 0;bottom: 0;left: 50%;z-index: 0;}#sk-container-id-1 div.sk-serial {display: flex;flex-direction: column;align-items: center;background-color: white;padding-right: 0.2em;padding-left: 0.2em;position: relative;}#sk-container-id-1 div.sk-item {position: relative;z-index: 1;}#sk-container-id-1 div.sk-parallel {display: flex;align-items: stretch;justify-content: center;background-color: white;position: relative;}#sk-container-id-1 div.sk-item::before, #sk-container-id-1 div.sk-parallel-item::before {content: \"\";position: absolute;border-left: 1px solid gray;box-sizing: border-box;top: 0;bottom: 0;left: 50%;z-index: -1;}#sk-container-id-1 div.sk-parallel-item {display: flex;flex-direction: column;z-index: 1;position: relative;background-color: white;}#sk-container-id-1 div.sk-parallel-item:first-child::after {align-self: flex-end;width: 50%;}#sk-container-id-1 div.sk-parallel-item:last-child::after {align-self: flex-start;width: 50%;}#sk-container-id-1 div.sk-parallel-item:only-child::after {width: 0;}#sk-container-id-1 div.sk-dashed-wrapped {border: 1px dashed gray;margin: 0 0.4em 0.5em 0.4em;box-sizing: border-box;padding-bottom: 0.4em;background-color: white;}#sk-container-id-1 div.sk-label label {font-family: monospace;font-weight: bold;display: inline-block;line-height: 1.2em;}#sk-container-id-1 div.sk-label-container {text-align: center;}#sk-container-id-1 div.sk-container {/* jupyter's `normalize.less` sets `[hidden] { display: none; }` but bootstrap.min.css set `[hidden] { display: none !important; }` so we also need the `!important` here to be able to override the default hidden behavior on the sphinx rendered scikit-learn.org. See: https://github.com/scikit-learn/scikit-learn/issues/21755 */display: inline-block !important;position: relative;}#sk-container-id-1 div.sk-text-repr-fallback {display: none;}</style><div id=\"sk-container-id-1\" class=\"sk-top-container\"><div class=\"sk-text-repr-fallback\"><pre>RandomForestRegressor(max_depth=20, random_state=42)</pre><b>In a Jupyter environment, please rerun this cell to show the HTML representation or trust the notebook. <br />On GitHub, the HTML representation is unable to render, please try loading this page with nbviewer.org.</b></div><div class=\"sk-container\" hidden><div class=\"sk-item\"><div class=\"sk-estimator sk-toggleable\"><input class=\"sk-toggleable__control sk-hidden--visually\" id=\"sk-estimator-id-1\" type=\"checkbox\" checked><label for=\"sk-estimator-id-1\" class=\"sk-toggleable__label sk-toggleable__label-arrow\">RandomForestRegressor</label><div class=\"sk-toggleable__content\"><pre>RandomForestRegressor(max_depth=20, random_state=42)</pre></div></div></div></div></div>"
            ],
            "text/plain": [
              "RandomForestRegressor(max_depth=20, random_state=42)"
            ]
          },
          "execution_count": 8,
          "metadata": {},
          "output_type": "execute_result"
        }
      ],
      "source": [
        "model.fit(X, y)"
      ]
    },
    {
      "cell_type": "code",
      "execution_count": 9,
      "id": "3088690d-8e8b-449d-84f6-b7557155fa1d",
      "metadata": {},
      "outputs": [
        {
          "data": {
            "text/plain": [
              "0.812164540151536"
            ]
          },
          "execution_count": 9,
          "metadata": {},
          "output_type": "execute_result"
        }
      ],
      "source": [
        "model.score(X, y)"
      ]
    },
    {
      "attachments": {},
      "cell_type": "markdown",
      "id": "17e4a530-72b8-407d-bb2a-0038a01f47e2",
      "metadata": {},
      "source": [
        "## Parametrize & optimize the investment strategy"
      ]
    },
    {
      "attachments": {},
      "cell_type": "markdown",
      "id": "5fcdbf52-2078-4109-9e4a-177c4f0a108d",
      "metadata": {},
      "source": [
        "### Create Strategy class"
      ]
    },
    {
      "cell_type": "code",
      "execution_count": 10,
      "id": "c8527892-d850-4c91-9849-9be2a9d4755d",
      "metadata": {},
      "outputs": [],
      "source": [
        "from backtesting import Strategy"
      ]
    },
    {
      "cell_type": "code",
      "execution_count": 11,
      "id": "523b0c3a-7c57-47fd-b90c-ff80897e487e",
      "metadata": {},
      "outputs": [],
      "source": [
        "class Regression(Strategy):\n",
        "    limit_buy = 1\n",
        "    limit_sell = -5\n",
        "    \n",
        "    def init(self):\n",
        "        self.model = model\n",
        "        self.already_bought = False\n",
        "\n",
        "    def next(self):\n",
        "        explanatory_today = self.data.df.iloc[[-1], :]\n",
        "        forecast_tomorrow = self.model.predict(explanatory_today)[0]\n",
        "        \n",
        "        if forecast_tomorrow > self.limit_buy and self.already_bought == False:\n",
        "            self.buy()\n",
        "            self.already_bought = True\n",
        "        elif forecast_tomorrow < self.limit_sell and self.already_bought == True:\n",
        "            self.sell()\n",
        "            self.already_bought = False\n",
        "        else:\n",
        "            pass"
      ]
    },
    {
      "attachments": {},
      "cell_type": "markdown",
      "id": "6fd9cd4c-9243-4404-8ceb-6bf2428c863b",
      "metadata": {},
      "source": [
        "### Create `Backtest` class"
      ]
    },
    {
      "cell_type": "code",
      "execution_count": 12,
      "id": "df61c901-c29b-4b0a-8dd8-18c313c473de",
      "metadata": {},
      "outputs": [],
      "source": [
        "from backtesting import Backtest"
      ]
    },
    {
      "cell_type": "code",
      "execution_count": 13,
      "id": "58ba9a1b-5684-464b-ae71-dfe639169d14",
      "metadata": {},
      "outputs": [],
      "source": [
        "bt = Backtest(\n",
        "    X, Regression, cash=10000,\n",
        "    commission=.002, exclusive_orders=True\n",
        ")"
      ]
    },
    {
      "attachments": {},
      "cell_type": "markdown",
      "id": "1bdb3f49-ac6c-461b-842d-3725cdb75338",
      "metadata": {},
      "source": [
        "### Optimize backtesting with multiple combinations"
      ]
    },
    {
      "cell_type": "raw",
      "id": "7af6d805-4c50-4e17-8427-9cac20472a47",
      "metadata": {},
      "source": [
        "import multiprocessing as mp\n",
        "mp.set_start_method('fork')"
      ]
    },
    {
      "cell_type": "code",
      "execution_count": 14,
      "id": "69513c5a-c691-452e-a0d1-3ce41f71c86b",
      "metadata": {},
      "outputs": [],
      "source": [
        "stats_skopt, heatmap, optimize_result = bt.optimize(\n",
        "    limit_buy=[0, 10],\n",
        "    limit_sell=[-10, 0],\n",
        "    maximize='Return [%]',\n",
        "    method='skopt',\n",
        "    max_tries=500,\n",
        "    random_state=0,\n",
        "    return_heatmap=True,\n",
        "    return_optimization=True)"
      ]
    },
    {
      "attachments": {},
      "cell_type": "markdown",
      "id": "e20e689d-f4c5-43ec-b6c1-9db2f8c59ff0",
      "metadata": {},
      "source": [
        "### Which are the best values for the parameters?"
      ]
    },
    {
      "cell_type": "code",
      "execution_count": 15,
      "id": "a230d818-384f-4322-b2f0-554228af7ea1",
      "metadata": {},
      "outputs": [],
      "source": [
        "import numpy as np"
      ]
    },
    {
      "cell_type": "code",
      "execution_count": 16,
      "id": "f69682dd-c52d-4574-985f-ae81d6c4890f",
      "metadata": {},
      "outputs": [
        {
          "data": {
            "text/html": [
              "<style type=\"text/css\">\n",
              "#T_c3ceb_row0_col0 {\n",
              "  background-color: #023858;\n",
              "  color: #f1f1f1;\n",
              "}\n",
              "#T_c3ceb_row0_col1, #T_c3ceb_row0_col3, #T_c3ceb_row0_col4, #T_c3ceb_row0_col5, #T_c3ceb_row0_col6, #T_c3ceb_row0_col7, #T_c3ceb_row0_col8, #T_c3ceb_row0_col10, #T_c3ceb_row1_col0, #T_c3ceb_row1_col1, #T_c3ceb_row1_col3, #T_c3ceb_row1_col4, #T_c3ceb_row1_col6, #T_c3ceb_row1_col8, #T_c3ceb_row1_col9, #T_c3ceb_row1_col10, #T_c3ceb_row2_col0, #T_c3ceb_row2_col1, #T_c3ceb_row2_col3, #T_c3ceb_row2_col5, #T_c3ceb_row2_col7, #T_c3ceb_row2_col8, #T_c3ceb_row2_col9, #T_c3ceb_row2_col10, #T_c3ceb_row3_col0, #T_c3ceb_row3_col2, #T_c3ceb_row3_col4, #T_c3ceb_row3_col5, #T_c3ceb_row3_col6, #T_c3ceb_row3_col7, #T_c3ceb_row3_col9, #T_c3ceb_row3_col10, #T_c3ceb_row4_col0, #T_c3ceb_row4_col1, #T_c3ceb_row4_col4, #T_c3ceb_row4_col5, #T_c3ceb_row4_col6, #T_c3ceb_row4_col7, #T_c3ceb_row4_col8, #T_c3ceb_row4_col9, #T_c3ceb_row5_col2, #T_c3ceb_row5_col3, #T_c3ceb_row5_col4, #T_c3ceb_row5_col6, #T_c3ceb_row5_col7, #T_c3ceb_row5_col8, #T_c3ceb_row5_col9, #T_c3ceb_row5_col10, #T_c3ceb_row6_col0, #T_c3ceb_row6_col1, #T_c3ceb_row6_col2, #T_c3ceb_row6_col3, #T_c3ceb_row6_col4, #T_c3ceb_row6_col5, #T_c3ceb_row6_col6, #T_c3ceb_row6_col7, #T_c3ceb_row6_col8, #T_c3ceb_row6_col10, #T_c3ceb_row7_col1, #T_c3ceb_row7_col2, #T_c3ceb_row7_col3, #T_c3ceb_row7_col4, #T_c3ceb_row7_col5, #T_c3ceb_row7_col6, #T_c3ceb_row7_col8, #T_c3ceb_row7_col10, #T_c3ceb_row8_col0, #T_c3ceb_row8_col1, #T_c3ceb_row8_col2, #T_c3ceb_row8_col4, #T_c3ceb_row8_col7, #T_c3ceb_row8_col8, #T_c3ceb_row8_col9, #T_c3ceb_row8_col10, #T_c3ceb_row9_col0, #T_c3ceb_row9_col1, #T_c3ceb_row9_col2, #T_c3ceb_row9_col4, #T_c3ceb_row9_col5, #T_c3ceb_row9_col6, #T_c3ceb_row9_col9, #T_c3ceb_row9_col10, #T_c3ceb_row10_col0, #T_c3ceb_row10_col1, #T_c3ceb_row10_col2, #T_c3ceb_row10_col3, #T_c3ceb_row10_col4, #T_c3ceb_row10_col5, #T_c3ceb_row10_col7, #T_c3ceb_row10_col8, #T_c3ceb_row10_col9, #T_c3ceb_row10_col10 {\n",
              "  background-color: #000000;\n",
              "  color: #f1f1f1;\n",
              "  background-color: transparent;\n",
              "  color: transparent;\n",
              "}\n",
              "#T_c3ceb_row0_col2, #T_c3ceb_row1_col2 {\n",
              "  background-color: #fef6fb;\n",
              "  color: #000000;\n",
              "}\n",
              "#T_c3ceb_row0_col9, #T_c3ceb_row1_col5, #T_c3ceb_row1_col7, #T_c3ceb_row2_col2, #T_c3ceb_row2_col4, #T_c3ceb_row2_col6, #T_c3ceb_row3_col1, #T_c3ceb_row3_col3, #T_c3ceb_row3_col8, #T_c3ceb_row4_col2, #T_c3ceb_row4_col3, #T_c3ceb_row4_col10, #T_c3ceb_row5_col0, #T_c3ceb_row5_col1, #T_c3ceb_row5_col5, #T_c3ceb_row6_col9, #T_c3ceb_row7_col0, #T_c3ceb_row7_col7, #T_c3ceb_row7_col9, #T_c3ceb_row8_col3, #T_c3ceb_row8_col5, #T_c3ceb_row8_col6, #T_c3ceb_row9_col3, #T_c3ceb_row9_col7, #T_c3ceb_row9_col8, #T_c3ceb_row10_col6 {\n",
              "  background-color: #fff7fb;\n",
              "  color: #000000;\n",
              "}\n",
              "</style>\n",
              "<table id=\"T_c3ceb\">\n",
              "  <thead>\n",
              "    <tr>\n",
              "      <th class=\"index_name level0\" >limit_sell</th>\n",
              "      <th id=\"T_c3ceb_level0_col0\" class=\"col_heading level0 col0\" >0</th>\n",
              "      <th id=\"T_c3ceb_level0_col1\" class=\"col_heading level0 col1\" >-1</th>\n",
              "      <th id=\"T_c3ceb_level0_col2\" class=\"col_heading level0 col2\" >-2</th>\n",
              "      <th id=\"T_c3ceb_level0_col3\" class=\"col_heading level0 col3\" >-3</th>\n",
              "      <th id=\"T_c3ceb_level0_col4\" class=\"col_heading level0 col4\" >-4</th>\n",
              "      <th id=\"T_c3ceb_level0_col5\" class=\"col_heading level0 col5\" >-5</th>\n",
              "      <th id=\"T_c3ceb_level0_col6\" class=\"col_heading level0 col6\" >-6</th>\n",
              "      <th id=\"T_c3ceb_level0_col7\" class=\"col_heading level0 col7\" >-7</th>\n",
              "      <th id=\"T_c3ceb_level0_col8\" class=\"col_heading level0 col8\" >-8</th>\n",
              "      <th id=\"T_c3ceb_level0_col9\" class=\"col_heading level0 col9\" >-9</th>\n",
              "      <th id=\"T_c3ceb_level0_col10\" class=\"col_heading level0 col10\" >-10</th>\n",
              "    </tr>\n",
              "    <tr>\n",
              "      <th class=\"index_name level0\" >limit_buy</th>\n",
              "      <th class=\"blank col0\" >&nbsp;</th>\n",
              "      <th class=\"blank col1\" >&nbsp;</th>\n",
              "      <th class=\"blank col2\" >&nbsp;</th>\n",
              "      <th class=\"blank col3\" >&nbsp;</th>\n",
              "      <th class=\"blank col4\" >&nbsp;</th>\n",
              "      <th class=\"blank col5\" >&nbsp;</th>\n",
              "      <th class=\"blank col6\" >&nbsp;</th>\n",
              "      <th class=\"blank col7\" >&nbsp;</th>\n",
              "      <th class=\"blank col8\" >&nbsp;</th>\n",
              "      <th class=\"blank col9\" >&nbsp;</th>\n",
              "      <th class=\"blank col10\" >&nbsp;</th>\n",
              "    </tr>\n",
              "  </thead>\n",
              "  <tbody>\n",
              "    <tr>\n",
              "      <th id=\"T_c3ceb_level0_row0\" class=\"row_heading level0 row0\" >0</th>\n",
              "      <td id=\"T_c3ceb_row0_col0\" class=\"data row0 col0\" >2853978772</td>\n",
              "      <td id=\"T_c3ceb_row0_col1\" class=\"data row0 col1\" >nan</td>\n",
              "      <td id=\"T_c3ceb_row0_col2\" class=\"data row0 col2\" >19741604</td>\n",
              "      <td id=\"T_c3ceb_row0_col3\" class=\"data row0 col3\" >nan</td>\n",
              "      <td id=\"T_c3ceb_row0_col4\" class=\"data row0 col4\" >nan</td>\n",
              "      <td id=\"T_c3ceb_row0_col5\" class=\"data row0 col5\" >nan</td>\n",
              "      <td id=\"T_c3ceb_row0_col6\" class=\"data row0 col6\" >nan</td>\n",
              "      <td id=\"T_c3ceb_row0_col7\" class=\"data row0 col7\" >nan</td>\n",
              "      <td id=\"T_c3ceb_row0_col8\" class=\"data row0 col8\" >nan</td>\n",
              "      <td id=\"T_c3ceb_row0_col9\" class=\"data row0 col9\" >93</td>\n",
              "      <td id=\"T_c3ceb_row0_col10\" class=\"data row0 col10\" >nan</td>\n",
              "    </tr>\n",
              "    <tr>\n",
              "      <th id=\"T_c3ceb_level0_row1\" class=\"row_heading level0 row1\" >1</th>\n",
              "      <td id=\"T_c3ceb_row1_col0\" class=\"data row1 col0\" >nan</td>\n",
              "      <td id=\"T_c3ceb_row1_col1\" class=\"data row1 col1\" >nan</td>\n",
              "      <td id=\"T_c3ceb_row1_col2\" class=\"data row1 col2\" >15477884</td>\n",
              "      <td id=\"T_c3ceb_row1_col3\" class=\"data row1 col3\" >nan</td>\n",
              "      <td id=\"T_c3ceb_row1_col4\" class=\"data row1 col4\" >nan</td>\n",
              "      <td id=\"T_c3ceb_row1_col5\" class=\"data row1 col5\" >1762</td>\n",
              "      <td id=\"T_c3ceb_row1_col6\" class=\"data row1 col6\" >nan</td>\n",
              "      <td id=\"T_c3ceb_row1_col7\" class=\"data row1 col7\" >127</td>\n",
              "      <td id=\"T_c3ceb_row1_col8\" class=\"data row1 col8\" >nan</td>\n",
              "      <td id=\"T_c3ceb_row1_col9\" class=\"data row1 col9\" >nan</td>\n",
              "      <td id=\"T_c3ceb_row1_col10\" class=\"data row1 col10\" >nan</td>\n",
              "    </tr>\n",
              "    <tr>\n",
              "      <th id=\"T_c3ceb_level0_row2\" class=\"row_heading level0 row2\" >2</th>\n",
              "      <td id=\"T_c3ceb_row2_col0\" class=\"data row2 col0\" >nan</td>\n",
              "      <td id=\"T_c3ceb_row2_col1\" class=\"data row2 col1\" >nan</td>\n",
              "      <td id=\"T_c3ceb_row2_col2\" class=\"data row2 col2\" >5015417</td>\n",
              "      <td id=\"T_c3ceb_row2_col3\" class=\"data row2 col3\" >nan</td>\n",
              "      <td id=\"T_c3ceb_row2_col4\" class=\"data row2 col4\" >48633</td>\n",
              "      <td id=\"T_c3ceb_row2_col5\" class=\"data row2 col5\" >nan</td>\n",
              "      <td id=\"T_c3ceb_row2_col6\" class=\"data row2 col6\" >964</td>\n",
              "      <td id=\"T_c3ceb_row2_col7\" class=\"data row2 col7\" >nan</td>\n",
              "      <td id=\"T_c3ceb_row2_col8\" class=\"data row2 col8\" >nan</td>\n",
              "      <td id=\"T_c3ceb_row2_col9\" class=\"data row2 col9\" >nan</td>\n",
              "      <td id=\"T_c3ceb_row2_col10\" class=\"data row2 col10\" >nan</td>\n",
              "    </tr>\n",
              "    <tr>\n",
              "      <th id=\"T_c3ceb_level0_row3\" class=\"row_heading level0 row3\" >3</th>\n",
              "      <td id=\"T_c3ceb_row3_col0\" class=\"data row3 col0\" >nan</td>\n",
              "      <td id=\"T_c3ceb_row3_col1\" class=\"data row3 col1\" >87712</td>\n",
              "      <td id=\"T_c3ceb_row3_col2\" class=\"data row3 col2\" >nan</td>\n",
              "      <td id=\"T_c3ceb_row3_col3\" class=\"data row3 col3\" >125997</td>\n",
              "      <td id=\"T_c3ceb_row3_col4\" class=\"data row3 col4\" >nan</td>\n",
              "      <td id=\"T_c3ceb_row3_col5\" class=\"data row3 col5\" >nan</td>\n",
              "      <td id=\"T_c3ceb_row3_col6\" class=\"data row3 col6\" >nan</td>\n",
              "      <td id=\"T_c3ceb_row3_col7\" class=\"data row3 col7\" >nan</td>\n",
              "      <td id=\"T_c3ceb_row3_col8\" class=\"data row3 col8\" >518</td>\n",
              "      <td id=\"T_c3ceb_row3_col9\" class=\"data row3 col9\" >nan</td>\n",
              "      <td id=\"T_c3ceb_row3_col10\" class=\"data row3 col10\" >nan</td>\n",
              "    </tr>\n",
              "    <tr>\n",
              "      <th id=\"T_c3ceb_level0_row4\" class=\"row_heading level0 row4\" >4</th>\n",
              "      <td id=\"T_c3ceb_row4_col0\" class=\"data row4 col0\" >nan</td>\n",
              "      <td id=\"T_c3ceb_row4_col1\" class=\"data row4 col1\" >nan</td>\n",
              "      <td id=\"T_c3ceb_row4_col2\" class=\"data row4 col2\" >32349</td>\n",
              "      <td id=\"T_c3ceb_row4_col3\" class=\"data row4 col3\" >13263</td>\n",
              "      <td id=\"T_c3ceb_row4_col4\" class=\"data row4 col4\" >nan</td>\n",
              "      <td id=\"T_c3ceb_row4_col5\" class=\"data row4 col5\" >nan</td>\n",
              "      <td id=\"T_c3ceb_row4_col6\" class=\"data row4 col6\" >nan</td>\n",
              "      <td id=\"T_c3ceb_row4_col7\" class=\"data row4 col7\" >nan</td>\n",
              "      <td id=\"T_c3ceb_row4_col8\" class=\"data row4 col8\" >nan</td>\n",
              "      <td id=\"T_c3ceb_row4_col9\" class=\"data row4 col9\" >nan</td>\n",
              "      <td id=\"T_c3ceb_row4_col10\" class=\"data row4 col10\" >145</td>\n",
              "    </tr>\n",
              "    <tr>\n",
              "      <th id=\"T_c3ceb_level0_row5\" class=\"row_heading level0 row5\" >5</th>\n",
              "      <td id=\"T_c3ceb_row5_col0\" class=\"data row5 col0\" >222</td>\n",
              "      <td id=\"T_c3ceb_row5_col1\" class=\"data row5 col1\" >169</td>\n",
              "      <td id=\"T_c3ceb_row5_col2\" class=\"data row5 col2\" >nan</td>\n",
              "      <td id=\"T_c3ceb_row5_col3\" class=\"data row5 col3\" >nan</td>\n",
              "      <td id=\"T_c3ceb_row5_col4\" class=\"data row5 col4\" >nan</td>\n",
              "      <td id=\"T_c3ceb_row5_col5\" class=\"data row5 col5\" >81</td>\n",
              "      <td id=\"T_c3ceb_row5_col6\" class=\"data row5 col6\" >nan</td>\n",
              "      <td id=\"T_c3ceb_row5_col7\" class=\"data row5 col7\" >nan</td>\n",
              "      <td id=\"T_c3ceb_row5_col8\" class=\"data row5 col8\" >nan</td>\n",
              "      <td id=\"T_c3ceb_row5_col9\" class=\"data row5 col9\" >nan</td>\n",
              "      <td id=\"T_c3ceb_row5_col10\" class=\"data row5 col10\" >nan</td>\n",
              "    </tr>\n",
              "    <tr>\n",
              "      <th id=\"T_c3ceb_level0_row6\" class=\"row_heading level0 row6\" >6</th>\n",
              "      <td id=\"T_c3ceb_row6_col0\" class=\"data row6 col0\" >nan</td>\n",
              "      <td id=\"T_c3ceb_row6_col1\" class=\"data row6 col1\" >nan</td>\n",
              "      <td id=\"T_c3ceb_row6_col2\" class=\"data row6 col2\" >nan</td>\n",
              "      <td id=\"T_c3ceb_row6_col3\" class=\"data row6 col3\" >nan</td>\n",
              "      <td id=\"T_c3ceb_row6_col4\" class=\"data row6 col4\" >nan</td>\n",
              "      <td id=\"T_c3ceb_row6_col5\" class=\"data row6 col5\" >nan</td>\n",
              "      <td id=\"T_c3ceb_row6_col6\" class=\"data row6 col6\" >nan</td>\n",
              "      <td id=\"T_c3ceb_row6_col7\" class=\"data row6 col7\" >nan</td>\n",
              "      <td id=\"T_c3ceb_row6_col8\" class=\"data row6 col8\" >nan</td>\n",
              "      <td id=\"T_c3ceb_row6_col9\" class=\"data row6 col9\" >1106</td>\n",
              "      <td id=\"T_c3ceb_row6_col10\" class=\"data row6 col10\" >nan</td>\n",
              "    </tr>\n",
              "    <tr>\n",
              "      <th id=\"T_c3ceb_level0_row7\" class=\"row_heading level0 row7\" >7</th>\n",
              "      <td id=\"T_c3ceb_row7_col0\" class=\"data row7 col0\" >-99</td>\n",
              "      <td id=\"T_c3ceb_row7_col1\" class=\"data row7 col1\" >nan</td>\n",
              "      <td id=\"T_c3ceb_row7_col2\" class=\"data row7 col2\" >nan</td>\n",
              "      <td id=\"T_c3ceb_row7_col3\" class=\"data row7 col3\" >nan</td>\n",
              "      <td id=\"T_c3ceb_row7_col4\" class=\"data row7 col4\" >nan</td>\n",
              "      <td id=\"T_c3ceb_row7_col5\" class=\"data row7 col5\" >nan</td>\n",
              "      <td id=\"T_c3ceb_row7_col6\" class=\"data row7 col6\" >nan</td>\n",
              "      <td id=\"T_c3ceb_row7_col7\" class=\"data row7 col7\" >538</td>\n",
              "      <td id=\"T_c3ceb_row7_col8\" class=\"data row7 col8\" >nan</td>\n",
              "      <td id=\"T_c3ceb_row7_col9\" class=\"data row7 col9\" >918</td>\n",
              "      <td id=\"T_c3ceb_row7_col10\" class=\"data row7 col10\" >nan</td>\n",
              "    </tr>\n",
              "    <tr>\n",
              "      <th id=\"T_c3ceb_level0_row8\" class=\"row_heading level0 row8\" >8</th>\n",
              "      <td id=\"T_c3ceb_row8_col0\" class=\"data row8 col0\" >nan</td>\n",
              "      <td id=\"T_c3ceb_row8_col1\" class=\"data row8 col1\" >nan</td>\n",
              "      <td id=\"T_c3ceb_row8_col2\" class=\"data row8 col2\" >nan</td>\n",
              "      <td id=\"T_c3ceb_row8_col3\" class=\"data row8 col3\" >-100</td>\n",
              "      <td id=\"T_c3ceb_row8_col4\" class=\"data row8 col4\" >nan</td>\n",
              "      <td id=\"T_c3ceb_row8_col5\" class=\"data row8 col5\" >-100</td>\n",
              "      <td id=\"T_c3ceb_row8_col6\" class=\"data row8 col6\" >538</td>\n",
              "      <td id=\"T_c3ceb_row8_col7\" class=\"data row8 col7\" >nan</td>\n",
              "      <td id=\"T_c3ceb_row8_col8\" class=\"data row8 col8\" >nan</td>\n",
              "      <td id=\"T_c3ceb_row8_col9\" class=\"data row8 col9\" >nan</td>\n",
              "      <td id=\"T_c3ceb_row8_col10\" class=\"data row8 col10\" >nan</td>\n",
              "    </tr>\n",
              "    <tr>\n",
              "      <th id=\"T_c3ceb_level0_row9\" class=\"row_heading level0 row9\" >9</th>\n",
              "      <td id=\"T_c3ceb_row9_col0\" class=\"data row9 col0\" >nan</td>\n",
              "      <td id=\"T_c3ceb_row9_col1\" class=\"data row9 col1\" >nan</td>\n",
              "      <td id=\"T_c3ceb_row9_col2\" class=\"data row9 col2\" >nan</td>\n",
              "      <td id=\"T_c3ceb_row9_col3\" class=\"data row9 col3\" >-100</td>\n",
              "      <td id=\"T_c3ceb_row9_col4\" class=\"data row9 col4\" >nan</td>\n",
              "      <td id=\"T_c3ceb_row9_col5\" class=\"data row9 col5\" >nan</td>\n",
              "      <td id=\"T_c3ceb_row9_col6\" class=\"data row9 col6\" >nan</td>\n",
              "      <td id=\"T_c3ceb_row9_col7\" class=\"data row9 col7\" >-100</td>\n",
              "      <td id=\"T_c3ceb_row9_col8\" class=\"data row9 col8\" >-100</td>\n",
              "      <td id=\"T_c3ceb_row9_col9\" class=\"data row9 col9\" >nan</td>\n",
              "      <td id=\"T_c3ceb_row9_col10\" class=\"data row9 col10\" >nan</td>\n",
              "    </tr>\n",
              "    <tr>\n",
              "      <th id=\"T_c3ceb_level0_row10\" class=\"row_heading level0 row10\" >10</th>\n",
              "      <td id=\"T_c3ceb_row10_col0\" class=\"data row10 col0\" >nan</td>\n",
              "      <td id=\"T_c3ceb_row10_col1\" class=\"data row10 col1\" >nan</td>\n",
              "      <td id=\"T_c3ceb_row10_col2\" class=\"data row10 col2\" >nan</td>\n",
              "      <td id=\"T_c3ceb_row10_col3\" class=\"data row10 col3\" >nan</td>\n",
              "      <td id=\"T_c3ceb_row10_col4\" class=\"data row10 col4\" >nan</td>\n",
              "      <td id=\"T_c3ceb_row10_col5\" class=\"data row10 col5\" >nan</td>\n",
              "      <td id=\"T_c3ceb_row10_col6\" class=\"data row10 col6\" >-100</td>\n",
              "      <td id=\"T_c3ceb_row10_col7\" class=\"data row10 col7\" >nan</td>\n",
              "      <td id=\"T_c3ceb_row10_col8\" class=\"data row10 col8\" >nan</td>\n",
              "      <td id=\"T_c3ceb_row10_col9\" class=\"data row10 col9\" >nan</td>\n",
              "      <td id=\"T_c3ceb_row10_col10\" class=\"data row10 col10\" >nan</td>\n",
              "    </tr>\n",
              "  </tbody>\n",
              "</table>\n"
            ],
            "text/plain": [
              "<pandas.io.formats.style.Styler at 0x7fbc66bc5390>"
            ]
          },
          "execution_count": 16,
          "metadata": {},
          "output_type": "execute_result"
        }
      ],
      "source": [
        "dff = heatmap.reset_index()\n",
        "dff = dff.pivot(index='limit_buy', columns='limit_sell', values='Return [%]')\n",
        "\n",
        "dff.sort_index(axis=1, ascending=False)\\\n",
        "    .style.format(precision=0)\\\n",
        "    .background_gradient(vmin=np.nanmin(dff), vmax=np.nanmax(dff))\\\n",
        "    .highlight_null(props='background-color: transparent; color: transparent')"
      ]
    },
    {
      "attachments": {},
      "cell_type": "markdown",
      "id": "49dc8ef8-2ff3-44a5-93cb-90299df2e778",
      "metadata": {},
      "source": [
        "### How to interpret smart optimization?"
      ]
    },
    {
      "attachments": {},
      "cell_type": "markdown",
      "id": "311409f6-0bb8-4b20-bd36-708762c0459b",
      "metadata": {},
      "source": [
        "#### Number of evaluations"
      ]
    },
    {
      "attachments": {},
      "cell_type": "markdown",
      "id": "cff7ec0d-953c-4ca3-b692-3bd502230222",
      "metadata": {},
      "source": [
        "https://kernc.github.io/backtesting.py/doc/examples/Parameter%20Heatmap%20&%20Optimization.html"
      ]
    },
    {
      "cell_type": "code",
      "execution_count": 17,
      "id": "87520764-bdc5-40a4-88e9-18ecb4b7c5cf",
      "metadata": {},
      "outputs": [
        {
          "data": {
            "image/png": "[encoded data removed]",
            "text/plain": [
              "<Figure size 400x400 with 4 Axes>"
            ]
          },
          "metadata": {},
          "output_type": "display_data"
        }
      ],
      "source": [
        "from skopt.plots import plot_evaluations\n",
        "\n",
        "_ = plot_evaluations(optimize_result, bins=10)"
      ]
    },
    {
      "attachments": {},
      "cell_type": "markdown",
      "id": "b21d1a57-0b26-4f28-ac9f-f4af932c8a44",
      "metadata": {},
      "source": [
        "#### Density"
      ]
    },
    {
      "cell_type": "code",
      "execution_count": 18,
      "id": "aaf34691-5cb8-471b-9669-aa6b05eee8f2",
      "metadata": {},
      "outputs": [
        {
          "data": {
            "image/png": "[encoded data removed]",
            "text/plain": [
              "<Figure size 400x400 with 4 Axes>"
            ]
          },
          "metadata": {},
          "output_type": "display_data"
        }
      ],
      "source": [
        "from skopt.plots import plot_objective\n",
        "\n",
        "_ = plot_objective(optimize_result, n_points=10)"
      ]
    },
    {
      "attachments": {},
      "cell_type": "markdown",
      "id": "0753212a",
      "metadata": {},
      "source": [
        "## Continue with the tutorials on the following chapter\n",
        "\n",
        "> Backtest the investment strategy on a validation set.\n",
        "\n",
        "Next chapter → [The Overfitting Problem in Backtesting]()"
      ]
    },
    {
      "attachments": {},
      "cell_type": "markdown",
      "id": "1bf7c729",
      "metadata": {},
      "source": [
        "![](<src/09_Table_The Overfitting.png>)"
      ]
    }
  ],
  "metadata": {
    "kernelspec": {
      "display_name": "Python 3",
      "language": "python",
      "name": "python3"
    },
    "language_info": {
      "codemirror_mode": {
        "name": "ipython",
        "version": 3
      },
      "file_extension": ".py",
      "mimetype": "text/x-python",
      "name": "python",
      "nbconvert_exporter": "python",
      "pygments_lexer": "ipython3",
      "version": "3.10.10"
    }
  },
  "nbformat": 4,
  "nbformat_minor": 5
}