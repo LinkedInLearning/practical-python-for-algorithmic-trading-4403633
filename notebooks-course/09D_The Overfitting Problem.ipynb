{
  "cells": [
    {
      "attachments": {},
      "cell_type": "markdown",
      "id": "ab30d554-5b8c-4742-a3f2-4780875c67f8",
      "metadata": {},
      "source": [
        "# Challenge: Overfitting on Other Datasets"
      ]
    },
    {
      "attachments": {},
      "cell_type": "markdown",
      "id": "d0594980-9456-4a1b-88ad-ba2e56232600",
      "metadata": {},
      "source": [
        "## Download data from `yfinance`"
      ]
    },
    {
      "cell_type": "code",
      "execution_count": 1,
      "id": "972674d7-af41-44f1-839e-450246e53d17",
      "metadata": {},
      "outputs": [
        {
          "name": "stdout",
          "output_type": "stream",
          "text": [
            "[*********************100%***********************]  1 of 1 completed\n"
          ]
        },
        {
          "data": {
            "text/html": [
              "<div>\n",
              "<style scoped>\n",
              "    .dataframe tbody tr th:only-of-type {\n",
              "        vertical-align: middle;\n",
              "    }\n",
              "\n",
              "    .dataframe tbody tr th {\n",
              "        vertical-align: top;\n",
              "    }\n",
              "\n",
              "    .dataframe thead th {\n",
              "        text-align: right;\n",
              "    }\n",
              "</style>\n",
              "<table border=\"1\" class=\"dataframe\">\n",
              "  <thead>\n",
              "    <tr style=\"text-align: right;\">\n",
              "      <th></th>\n",
              "      <th>Open</th>\n",
              "      <th>High</th>\n",
              "      <th>Low</th>\n",
              "      <th>Close</th>\n",
              "      <th>Adj Close</th>\n",
              "      <th>Volume</th>\n",
              "    </tr>\n",
              "    <tr>\n",
              "      <th>Date</th>\n",
              "      <th></th>\n",
              "      <th></th>\n",
              "      <th></th>\n",
              "      <th></th>\n",
              "      <th></th>\n",
              "      <th></th>\n",
              "    </tr>\n",
              "  </thead>\n",
              "  <tbody>\n",
              "    <tr>\n",
              "      <th>2012-05-18</th>\n",
              "      <td>42.049999</td>\n",
              "      <td>45.000000</td>\n",
              "      <td>38.000000</td>\n",
              "      <td>38.230000</td>\n",
              "      <td>38.230000</td>\n",
              "      <td>573576400</td>\n",
              "    </tr>\n",
              "    <tr>\n",
              "      <th>2012-05-21</th>\n",
              "      <td>36.529999</td>\n",
              "      <td>36.660000</td>\n",
              "      <td>33.000000</td>\n",
              "      <td>34.029999</td>\n",
              "      <td>34.029999</td>\n",
              "      <td>168192700</td>\n",
              "    </tr>\n",
              "    <tr>\n",
              "      <th>...</th>\n",
              "      <td>...</td>\n",
              "      <td>...</td>\n",
              "      <td>...</td>\n",
              "      <td>...</td>\n",
              "      <td>...</td>\n",
              "      <td>...</td>\n",
              "    </tr>\n",
              "    <tr>\n",
              "      <th>2023-05-11</th>\n",
              "      <td>233.050003</td>\n",
              "      <td>238.210007</td>\n",
              "      <td>232.300003</td>\n",
              "      <td>235.789993</td>\n",
              "      <td>235.789993</td>\n",
              "      <td>20449000</td>\n",
              "    </tr>\n",
              "    <tr>\n",
              "      <th>2023-05-12</th>\n",
              "      <td>236.740005</td>\n",
              "      <td>236.960007</td>\n",
              "      <td>231.449997</td>\n",
              "      <td>233.809998</td>\n",
              "      <td>233.809998</td>\n",
              "      <td>16155300</td>\n",
              "    </tr>\n",
              "  </tbody>\n",
              "</table>\n",
              "<p>2764 rows × 6 columns</p>\n",
              "</div>"
            ],
            "text/plain": [
              "                  Open        High         Low       Close   Adj Close  \\\n",
              "Date                                                                     \n",
              "2012-05-18   42.049999   45.000000   38.000000   38.230000   38.230000   \n",
              "2012-05-21   36.529999   36.660000   33.000000   34.029999   34.029999   \n",
              "...                ...         ...         ...         ...         ...   \n",
              "2023-05-11  233.050003  238.210007  232.300003  235.789993  235.789993   \n",
              "2023-05-12  236.740005  236.960007  231.449997  233.809998  233.809998   \n",
              "\n",
              "               Volume  \n",
              "Date                   \n",
              "2012-05-18  573576400  \n",
              "2012-05-21  168192700  \n",
              "...               ...  \n",
              "2023-05-11   20449000  \n",
              "2023-05-12   16155300  \n",
              "\n",
              "[2764 rows x 6 columns]"
            ]
          },
          "execution_count": 1,
          "metadata": {},
          "output_type": "execute_result"
        }
      ],
      "source": [
        "import yfinance as yf\n",
        "\n",
        "ticker = 'META'\n",
        "df = yf.download(ticker, multi_level_index=False, auto_adjust=False)\n",
        "df"
      ]
    },
    {
      "attachments": {},
      "cell_type": "markdown",
      "id": "53bfc2d7-c044-48a7-aa83-234c751be651",
      "metadata": {},
      "source": [
        "## Preprocess the data"
      ]
    },
    {
      "attachments": {},
      "cell_type": "markdown",
      "id": "a21b6503-58f5-4c46-844d-496fc9f523f5",
      "metadata": {},
      "source": [
        "### Filter the date range\n",
        "\n",
        "- Since 1 year ago at least"
      ]
    },
    {
      "cell_type": "code",
      "execution_count": 2,
      "id": "27a99a2a-65ef-4bce-aa6e-761e532ef65b",
      "metadata": {},
      "outputs": [],
      "source": [
        "df = df.loc['2020-01-01':].copy()"
      ]
    },
    {
      "attachments": {},
      "cell_type": "markdown",
      "id": "96f2148e-b519-4694-9033-7ece26520ddc",
      "metadata": {},
      "source": [
        "### Create the target variable\n",
        "\n",
        "#### Percentage change\n",
        "\n",
        "- Percentage change on `Adj Close` for tomorrow"
      ]
    },
    {
      "cell_type": "code",
      "execution_count": 3,
      "id": "76b43f65-bf8b-40e5-b8af-0df5f4fbe9d6",
      "metadata": {},
      "outputs": [],
      "source": [
        "df['change_tomorrow'] = df['Adj Close'].pct_change(-1)\n",
        "df.change_tomorrow = df.change_tomorrow * -1\n",
        "df.change_tomorrow = df.change_tomorrow * 100"
      ]
    },
    {
      "attachments": {},
      "cell_type": "markdown",
      "id": "e90a7218-3fa4-48e3-bf61-20a04eee45a7",
      "metadata": {},
      "source": [
        "#### Remove rows with any missing data"
      ]
    },
    {
      "cell_type": "code",
      "execution_count": 4,
      "id": "cb4a905c-6c69-4731-a4fa-54ef4dbf3e88",
      "metadata": {},
      "outputs": [
        {
          "data": {
            "text/html": [
              "<div>\n",
              "<style scoped>\n",
              "    .dataframe tbody tr th:only-of-type {\n",
              "        vertical-align: middle;\n",
              "    }\n",
              "\n",
              "    .dataframe tbody tr th {\n",
              "        vertical-align: top;\n",
              "    }\n",
              "\n",
              "    .dataframe thead th {\n",
              "        text-align: right;\n",
              "    }\n",
              "</style>\n",
              "<table border=\"1\" class=\"dataframe\">\n",
              "  <thead>\n",
              "    <tr style=\"text-align: right;\">\n",
              "      <th></th>\n",
              "      <th>Open</th>\n",
              "      <th>High</th>\n",
              "      <th>Low</th>\n",
              "      <th>Close</th>\n",
              "      <th>Adj Close</th>\n",
              "      <th>Volume</th>\n",
              "      <th>change_tomorrow</th>\n",
              "    </tr>\n",
              "    <tr>\n",
              "      <th>Date</th>\n",
              "      <th></th>\n",
              "      <th></th>\n",
              "      <th></th>\n",
              "      <th></th>\n",
              "      <th></th>\n",
              "      <th></th>\n",
              "      <th></th>\n",
              "    </tr>\n",
              "  </thead>\n",
              "  <tbody>\n",
              "    <tr>\n",
              "      <th>2020-01-02</th>\n",
              "      <td>206.750000</td>\n",
              "      <td>209.789993</td>\n",
              "      <td>206.270004</td>\n",
              "      <td>209.779999</td>\n",
              "      <td>209.779999</td>\n",
              "      <td>12077100</td>\n",
              "      <td>-0.531941</td>\n",
              "    </tr>\n",
              "    <tr>\n",
              "      <th>2020-01-03</th>\n",
              "      <td>207.210007</td>\n",
              "      <td>210.399994</td>\n",
              "      <td>206.949997</td>\n",
              "      <td>208.669998</td>\n",
              "      <td>208.669998</td>\n",
              "      <td>11188400</td>\n",
              "      <td>1.848546</td>\n",
              "    </tr>\n",
              "    <tr>\n",
              "      <th>...</th>\n",
              "      <td>...</td>\n",
              "      <td>...</td>\n",
              "      <td>...</td>\n",
              "      <td>...</td>\n",
              "      <td>...</td>\n",
              "      <td>...</td>\n",
              "      <td>...</td>\n",
              "    </tr>\n",
              "    <tr>\n",
              "      <th>2023-05-10</th>\n",
              "      <td>236.169998</td>\n",
              "      <td>236.750000</td>\n",
              "      <td>230.720001</td>\n",
              "      <td>233.080002</td>\n",
              "      <td>233.080002</td>\n",
              "      <td>19119000</td>\n",
              "      <td>1.149324</td>\n",
              "    </tr>\n",
              "    <tr>\n",
              "      <th>2023-05-11</th>\n",
              "      <td>233.050003</td>\n",
              "      <td>238.210007</td>\n",
              "      <td>232.300003</td>\n",
              "      <td>235.789993</td>\n",
              "      <td>235.789993</td>\n",
              "      <td>20449000</td>\n",
              "      <td>-0.846840</td>\n",
              "    </tr>\n",
              "  </tbody>\n",
              "</table>\n",
              "<p>846 rows × 7 columns</p>\n",
              "</div>"
            ],
            "text/plain": [
              "                  Open        High         Low       Close   Adj Close  \\\n",
              "Date                                                                     \n",
              "2020-01-02  206.750000  209.789993  206.270004  209.779999  209.779999   \n",
              "2020-01-03  207.210007  210.399994  206.949997  208.669998  208.669998   \n",
              "...                ...         ...         ...         ...         ...   \n",
              "2023-05-10  236.169998  236.750000  230.720001  233.080002  233.080002   \n",
              "2023-05-11  233.050003  238.210007  232.300003  235.789993  235.789993   \n",
              "\n",
              "              Volume  change_tomorrow  \n",
              "Date                                   \n",
              "2020-01-02  12077100        -0.531941  \n",
              "2020-01-03  11188400         1.848546  \n",
              "...              ...              ...  \n",
              "2023-05-10  19119000         1.149324  \n",
              "2023-05-11  20449000        -0.846840  \n",
              "\n",
              "[846 rows x 7 columns]"
            ]
          },
          "execution_count": 4,
          "metadata": {},
          "output_type": "execute_result"
        }
      ],
      "source": [
        "df = df.dropna().copy()\n",
        "df"
      ]
    },
    {
      "attachments": {},
      "cell_type": "markdown",
      "id": "e29ae486-480c-4a88-9bf3-9ba5e0e53f05",
      "metadata": {},
      "source": [
        "## Machine Learning modelling"
      ]
    },
    {
      "attachments": {},
      "cell_type": "markdown",
      "id": "6c2ffb1d-ffb7-427d-b2d0-6fc3dd3e98c1",
      "metadata": {},
      "source": [
        "### Feature selection\n",
        "\n",
        "1. Target: which variable do you want to predict?\n",
        "2. Explanatory: which variables will you use to calculate the prediction?"
      ]
    },
    {
      "cell_type": "code",
      "execution_count": 5,
      "id": "c36c1df6-10a7-4608-990e-2de157349247",
      "metadata": {},
      "outputs": [],
      "source": [
        "y = df.change_tomorrow\n",
        "X = df.drop(columns='change_tomorrow')"
      ]
    },
    {
      "attachments": {},
      "cell_type": "markdown",
      "id": "45b4e5fa-557b-4f24-99ab-87b0d621c4a1",
      "metadata": {},
      "source": [
        "### Train test split"
      ]
    },
    {
      "cell_type": "code",
      "execution_count": 6,
      "id": "06274d83-f3ec-4fcb-8b69-f6a387394dde",
      "metadata": {},
      "outputs": [
        {
          "data": {
            "text/plain": [
              "846"
            ]
          },
          "execution_count": 6,
          "metadata": {},
          "output_type": "execute_result"
        }
      ],
      "source": [
        "n_days = len(df.index)\n",
        "n_days"
      ]
    },
    {
      "cell_type": "code",
      "execution_count": 7,
      "id": "f6cec23c-636a-44f1-8a52-290a2ff522d9",
      "metadata": {},
      "outputs": [
        {
          "data": {
            "text/plain": [
              "592"
            ]
          },
          "execution_count": 7,
          "metadata": {},
          "output_type": "execute_result"
        }
      ],
      "source": [
        "n_days_split = int(n_days*0.7)\n",
        "n_days_split"
      ]
    },
    {
      "cell_type": "code",
      "execution_count": 8,
      "id": "1a8502e3-8f0f-4666-af2b-4218775bb9dd",
      "metadata": {},
      "outputs": [],
      "source": [
        "X_train, y_train = X.iloc[:n_days_split], y.iloc[:n_days_split]\n",
        "X_test, y_test = X.iloc[n_days_split:], y.iloc[n_days_split:]"
      ]
    },
    {
      "attachments": {},
      "cell_type": "markdown",
      "id": "a7aa2cdd-2f08-44e1-b6f6-60dfbd733a43",
      "metadata": {},
      "source": [
        "### Fit the model on train set"
      ]
    },
    {
      "cell_type": "code",
      "execution_count": 9,
      "id": "a1b316c9-5214-47f0-83a5-bdf6bdcb1952",
      "metadata": {},
      "outputs": [],
      "source": [
        "from sklearn.tree import DecisionTreeRegressor"
      ]
    },
    {
      "cell_type": "code",
      "execution_count": 10,
      "id": "fd4860f0-844e-4d32-ad56-cedd80b49699",
      "metadata": {},
      "outputs": [],
      "source": [
        "model_dt_split = DecisionTreeRegressor(max_depth=15, random_state=42)"
      ]
    },
    {
      "cell_type": "code",
      "execution_count": 11,
      "id": "b9775b9b-d5a3-433c-a80a-55279ee262cc",
      "metadata": {},
      "outputs": [
        {
          "data": {
            "text/html": [
              "<style>#sk-container-id-1 {color: black;background-color: white;}#sk-container-id-1 pre{padding: 0;}#sk-container-id-1 div.sk-toggleable {background-color: white;}#sk-container-id-1 label.sk-toggleable__label {cursor: pointer;display: block;width: 100%;margin-bottom: 0;padding: 0.3em;box-sizing: border-box;text-align: center;}#sk-container-id-1 label.sk-toggleable__label-arrow:before {content: \"▸\";float: left;margin-right: 0.25em;color: #696969;}#sk-container-id-1 label.sk-toggleable__label-arrow:hover:before {color: black;}#sk-container-id-1 div.sk-estimator:hover label.sk-toggleable__label-arrow:before {color: black;}#sk-container-id-1 div.sk-toggleable__content {max-height: 0;max-width: 0;overflow: hidden;text-align: left;background-color: #f0f8ff;}#sk-container-id-1 div.sk-toggleable__content pre {margin: 0.2em;color: black;border-radius: 0.25em;background-color: #f0f8ff;}#sk-container-id-1 input.sk-toggleable__control:checked~div.sk-toggleable__content {max-height: 200px;max-width: 100%;overflow: auto;}#sk-container-id-1 input.sk-toggleable__control:checked~label.sk-toggleable__label-arrow:before {content: \"▾\";}#sk-container-id-1 div.sk-estimator input.sk-toggleable__control:checked~label.sk-toggleable__label {background-color: #d4ebff;}#sk-container-id-1 div.sk-label input.sk-toggleable__control:checked~label.sk-toggleable__label {background-color: #d4ebff;}#sk-container-id-1 input.sk-hidden--visually {border: 0;clip: rect(1px 1px 1px 1px);clip: rect(1px, 1px, 1px, 1px);height: 1px;margin: -1px;overflow: hidden;padding: 0;position: absolute;width: 1px;}#sk-container-id-1 div.sk-estimator {font-family: monospace;background-color: #f0f8ff;border: 1px dotted black;border-radius: 0.25em;box-sizing: border-box;margin-bottom: 0.5em;}#sk-container-id-1 div.sk-estimator:hover {background-color: #d4ebff;}#sk-container-id-1 div.sk-parallel-item::after {content: \"\";width: 100%;border-bottom: 1px solid gray;flex-grow: 1;}#sk-container-id-1 div.sk-label:hover label.sk-toggleable__label {background-color: #d4ebff;}#sk-container-id-1 div.sk-serial::before {content: \"\";position: absolute;border-left: 1px solid gray;box-sizing: border-box;top: 0;bottom: 0;left: 50%;z-index: 0;}#sk-container-id-1 div.sk-serial {display: flex;flex-direction: column;align-items: center;background-color: white;padding-right: 0.2em;padding-left: 0.2em;position: relative;}#sk-container-id-1 div.sk-item {position: relative;z-index: 1;}#sk-container-id-1 div.sk-parallel {display: flex;align-items: stretch;justify-content: center;background-color: white;position: relative;}#sk-container-id-1 div.sk-item::before, #sk-container-id-1 div.sk-parallel-item::before {content: \"\";position: absolute;border-left: 1px solid gray;box-sizing: border-box;top: 0;bottom: 0;left: 50%;z-index: -1;}#sk-container-id-1 div.sk-parallel-item {display: flex;flex-direction: column;z-index: 1;position: relative;background-color: white;}#sk-container-id-1 div.sk-parallel-item:first-child::after {align-self: flex-end;width: 50%;}#sk-container-id-1 div.sk-parallel-item:last-child::after {align-self: flex-start;width: 50%;}#sk-container-id-1 div.sk-parallel-item:only-child::after {width: 0;}#sk-container-id-1 div.sk-dashed-wrapped {border: 1px dashed gray;margin: 0 0.4em 0.5em 0.4em;box-sizing: border-box;padding-bottom: 0.4em;background-color: white;}#sk-container-id-1 div.sk-label label {font-family: monospace;font-weight: bold;display: inline-block;line-height: 1.2em;}#sk-container-id-1 div.sk-label-container {text-align: center;}#sk-container-id-1 div.sk-container {/* jupyter's `normalize.less` sets `[hidden] { display: none; }` but bootstrap.min.css set `[hidden] { display: none !important; }` so we also need the `!important` here to be able to override the default hidden behavior on the sphinx rendered scikit-learn.org. See: https://github.com/scikit-learn/scikit-learn/issues/21755 */display: inline-block !important;position: relative;}#sk-container-id-1 div.sk-text-repr-fallback {display: none;}</style><div id=\"sk-container-id-1\" class=\"sk-top-container\"><div class=\"sk-text-repr-fallback\"><pre>DecisionTreeRegressor(max_depth=15, random_state=42)</pre><b>In a Jupyter environment, please rerun this cell to show the HTML representation or trust the notebook. <br />On GitHub, the HTML representation is unable to render, please try loading this page with nbviewer.org.</b></div><div class=\"sk-container\" hidden><div class=\"sk-item\"><div class=\"sk-estimator sk-toggleable\"><input class=\"sk-toggleable__control sk-hidden--visually\" id=\"sk-estimator-id-1\" type=\"checkbox\" checked><label for=\"sk-estimator-id-1\" class=\"sk-toggleable__label sk-toggleable__label-arrow\">DecisionTreeRegressor</label><div class=\"sk-toggleable__content\"><pre>DecisionTreeRegressor(max_depth=15, random_state=42)</pre></div></div></div></div></div>"
            ],
            "text/plain": [
              "DecisionTreeRegressor(max_depth=15, random_state=42)"
            ]
          },
          "execution_count": 11,
          "metadata": {},
          "output_type": "execute_result"
        }
      ],
      "source": [
        "model_dt_split.fit(X=X_train, y=y_train)"
      ]
    },
    {
      "attachments": {},
      "cell_type": "markdown",
      "id": "d05d93d3-0108-4db2-8147-446e4f7acbcd",
      "metadata": {},
      "source": [
        "### Evaluate model"
      ]
    },
    {
      "attachments": {},
      "cell_type": "markdown",
      "id": "40e3e723-01ae-426b-a07f-76e6a0e86085",
      "metadata": {},
      "source": [
        "#### On test set"
      ]
    },
    {
      "cell_type": "code",
      "execution_count": 12,
      "id": "963194dc-7266-44fe-bf13-44f4db7e6cbc",
      "metadata": {},
      "outputs": [
        {
          "data": {
            "text/plain": [
              "30.190822994915397"
            ]
          },
          "execution_count": 12,
          "metadata": {},
          "output_type": "execute_result"
        }
      ],
      "source": [
        "from sklearn.metrics import mean_squared_error\n",
        "\n",
        "y_pred_test = model_dt_split.predict(X=X_test)\n",
        "mean_squared_error(y_true=y_test, y_pred=y_pred_test)"
      ]
    },
    {
      "attachments": {},
      "cell_type": "markdown",
      "id": "dd598a11-d599-4ed8-811a-e1970a89ec21",
      "metadata": {},
      "source": [
        "#### On train set"
      ]
    },
    {
      "cell_type": "code",
      "execution_count": 13,
      "id": "f04d37df-ab8c-410c-8ea1-790b5a27f986",
      "metadata": {},
      "outputs": [
        {
          "data": {
            "text/plain": [
              "2.9786228619427435"
            ]
          },
          "execution_count": 13,
          "metadata": {},
          "output_type": "execute_result"
        }
      ],
      "source": [
        "y_pred_train = model_dt_split.predict(X=X_train)\n",
        "mean_squared_error(y_true=y_train, y_pred=y_pred_train)"
      ]
    },
    {
      "attachments": {},
      "cell_type": "markdown",
      "id": "32f4c9ba-ab10-4d00-8b45-bfda4b2298b8",
      "metadata": {},
      "source": [
        "## Backtesting"
      ]
    },
    {
      "cell_type": "code",
      "execution_count": 14,
      "id": "a6aa60da-4c9a-4485-aae7-91324eed16e2",
      "metadata": {},
      "outputs": [],
      "source": [
        "from backtesting import Backtest, Strategy"
      ]
    },
    {
      "attachments": {},
      "cell_type": "markdown",
      "id": "367a9244-7176-43d2-b784-7e7db33c43df",
      "metadata": {},
      "source": [
        "### Create the `Strategy`"
      ]
    },
    {
      "cell_type": "code",
      "execution_count": 15,
      "id": "05dec003-6544-4832-bec1-8195455191fd",
      "metadata": {},
      "outputs": [],
      "source": [
        "class Regression(Strategy):\n",
        "    limit_buy = 1\n",
        "    limit_sell = -5\n",
        "    \n",
        "    def init(self):\n",
        "        self.model = DecisionTreeRegressor(max_depth=15, random_state=42)\n",
        "        self.already_bought = False\n",
        "        \n",
        "        self.model.fit(X=X_train, y=y_train)\n",
        "\n",
        "    def next(self):\n",
        "        explanatory_today = self.data.df.iloc[[-1], :]\n",
        "        forecast_tomorrow = self.model.predict(explanatory_today)[0]\n",
        "        \n",
        "        if forecast_tomorrow > self.limit_buy and self.already_bought == False:\n",
        "            self.buy()\n",
        "            self.already_bought = True\n",
        "        elif forecast_tomorrow < self.limit_sell and self.already_bought == True:\n",
        "            self.sell()\n",
        "            self.already_bought = False\n",
        "        else:\n",
        "            pass"
      ]
    },
    {
      "attachments": {},
      "cell_type": "markdown",
      "id": "10330a05-12bf-4c83-bf1b-3727fed50102",
      "metadata": {},
      "source": [
        "### Run the backtest on `test` data"
      ]
    },
    {
      "cell_type": "code",
      "execution_count": 21,
      "id": "d0e892ec-9924-461a-ad18-09f0a1512aac",
      "metadata": {},
      "outputs": [],
      "source": [
        "bt_test = Backtest(X_test, Regression,\n",
        "              cash=10000, commission=.002, exclusive_orders=True)"
      ]
    },
    {
      "cell_type": "code",
      "execution_count": 22,
      "id": "8f131c9c-3984-4d73-9e85-800d418287fc",
      "metadata": {},
      "outputs": [
        {
          "data": {
            "text/html": [
              "<div>\n",
              "<style scoped>\n",
              "    .dataframe tbody tr th:only-of-type {\n",
              "        vertical-align: middle;\n",
              "    }\n",
              "\n",
              "    .dataframe tbody tr th {\n",
              "        vertical-align: top;\n",
              "    }\n",
              "\n",
              "    .dataframe thead th {\n",
              "        text-align: right;\n",
              "    }\n",
              "</style>\n",
              "<table border=\"1\" class=\"dataframe\">\n",
              "  <thead>\n",
              "    <tr style=\"text-align: right;\">\n",
              "      <th></th>\n",
              "      <th>Out of Sample (Test)</th>\n",
              "    </tr>\n",
              "  </thead>\n",
              "  <tbody>\n",
              "    <tr>\n",
              "      <th>Start</th>\n",
              "      <td>2022-05-09 00:00:00</td>\n",
              "    </tr>\n",
              "    <tr>\n",
              "      <th>End</th>\n",
              "      <td>2023-05-11 00:00:00</td>\n",
              "    </tr>\n",
              "    <tr>\n",
              "      <th>Duration</th>\n",
              "      <td>367 days 00:00:00</td>\n",
              "    </tr>\n",
              "    <tr>\n",
              "      <th>Exposure Time [%]</th>\n",
              "      <td>98.425197</td>\n",
              "    </tr>\n",
              "    <tr>\n",
              "      <th>Equity Final [$]</th>\n",
              "      <td>11777.599015</td>\n",
              "    </tr>\n",
              "    <tr>\n",
              "      <th>Equity Peak [$]</th>\n",
              "      <td>15048.499192</td>\n",
              "    </tr>\n",
              "    <tr>\n",
              "      <th>Return [%]</th>\n",
              "      <td>17.77599</td>\n",
              "    </tr>\n",
              "  </tbody>\n",
              "</table>\n",
              "</div>"
            ],
            "text/plain": [
              "                  Out of Sample (Test)\n",
              "Start              2022-05-09 00:00:00\n",
              "End                2023-05-11 00:00:00\n",
              "Duration             367 days 00:00:00\n",
              "Exposure Time [%]            98.425197\n",
              "Equity Final [$]          11777.599015\n",
              "Equity Peak [$]           15048.499192\n",
              "Return [%]                    17.77599"
            ]
          },
          "execution_count": 22,
          "metadata": {},
          "output_type": "execute_result"
        }
      ],
      "source": [
        "results = bt_test.run(limit_buy=1, limit_sell=-5)\n",
        "\n",
        "df_results_test = results.to_frame(name='Values').loc[:'Return [%]']\\\n",
        "    .rename({'Values':'Out of Sample (Test)'}, axis=1)\n",
        "df_results_test"
      ]
    },
    {
      "attachments": {},
      "cell_type": "markdown",
      "id": "b766904b-9ac0-4b99-aede-f1c5bcd0ac47",
      "metadata": {},
      "source": [
        "### Run the backtest on `train` data"
      ]
    },
    {
      "cell_type": "code",
      "execution_count": 23,
      "id": "d12e8e0f-b56a-48e4-90d6-e16e61f6e4c6",
      "metadata": {},
      "outputs": [
        {
          "data": {
            "text/html": [
              "<div>\n",
              "<style scoped>\n",
              "    .dataframe tbody tr th:only-of-type {\n",
              "        vertical-align: middle;\n",
              "    }\n",
              "\n",
              "    .dataframe tbody tr th {\n",
              "        vertical-align: top;\n",
              "    }\n",
              "\n",
              "    .dataframe thead th {\n",
              "        text-align: right;\n",
              "    }\n",
              "</style>\n",
              "<table border=\"1\" class=\"dataframe\">\n",
              "  <thead>\n",
              "    <tr style=\"text-align: right;\">\n",
              "      <th></th>\n",
              "      <th>In Sample (Train)</th>\n",
              "    </tr>\n",
              "  </thead>\n",
              "  <tbody>\n",
              "    <tr>\n",
              "      <th>Start</th>\n",
              "      <td>2020-01-02 00:00:00</td>\n",
              "    </tr>\n",
              "    <tr>\n",
              "      <th>End</th>\n",
              "      <td>2022-05-06 00:00:00</td>\n",
              "    </tr>\n",
              "    <tr>\n",
              "      <th>Duration</th>\n",
              "      <td>855 days 00:00:00</td>\n",
              "    </tr>\n",
              "    <tr>\n",
              "      <th>Exposure Time [%]</th>\n",
              "      <td>93.412162</td>\n",
              "    </tr>\n",
              "    <tr>\n",
              "      <th>Equity Final [$]</th>\n",
              "      <td>18421.327962</td>\n",
              "    </tr>\n",
              "    <tr>\n",
              "      <th>Equity Peak [$]</th>\n",
              "      <td>18976.204845</td>\n",
              "    </tr>\n",
              "    <tr>\n",
              "      <th>Return [%]</th>\n",
              "      <td>84.21328</td>\n",
              "    </tr>\n",
              "  </tbody>\n",
              "</table>\n",
              "</div>"
            ],
            "text/plain": [
              "                     In Sample (Train)\n",
              "Start              2020-01-02 00:00:00\n",
              "End                2022-05-06 00:00:00\n",
              "Duration             855 days 00:00:00\n",
              "Exposure Time [%]            93.412162\n",
              "Equity Final [$]          18421.327962\n",
              "Equity Peak [$]           18976.204845\n",
              "Return [%]                    84.21328"
            ]
          },
          "execution_count": 23,
          "metadata": {},
          "output_type": "execute_result"
        }
      ],
      "source": [
        "bt_train = Backtest(X_train, Regression,\n",
        "              cash=10000, commission=.002, exclusive_orders=True)\n",
        "\n",
        "results = bt_train.run(limit_buy=1, limit_sell=-5)\n",
        "\n",
        "df_results_train = results.to_frame(name='Values').loc[:'Return [%]']\\\n",
        "    .rename({'Values':'In Sample (Train)'}, axis=1)\n",
        "df_results_train"
      ]
    },
    {
      "attachments": {},
      "cell_type": "markdown",
      "id": "1020ea32",
      "metadata": {},
      "source": [
        "### Compare both backtests\n",
        "\n",
        "#### In the same DataFrame\n",
        "\n",
        "- HINT: Concatenate the previous `DataFrames`"
      ]
    },
    {
      "cell_type": "code",
      "execution_count": 24,
      "id": "755ef654-bae5-49b3-9cac-67a8127b8d9d",
      "metadata": {},
      "outputs": [],
      "source": [
        "import pandas as pd"
      ]
    },
    {
      "cell_type": "code",
      "execution_count": 25,
      "id": "585e5dce-1742-4b4c-a266-99487ef5e214",
      "metadata": {},
      "outputs": [
        {
          "data": {
            "text/html": [
              "<div>\n",
              "<style scoped>\n",
              "    .dataframe tbody tr th:only-of-type {\n",
              "        vertical-align: middle;\n",
              "    }\n",
              "\n",
              "    .dataframe tbody tr th {\n",
              "        vertical-align: top;\n",
              "    }\n",
              "\n",
              "    .dataframe thead th {\n",
              "        text-align: right;\n",
              "    }\n",
              "</style>\n",
              "<table border=\"1\" class=\"dataframe\">\n",
              "  <thead>\n",
              "    <tr style=\"text-align: right;\">\n",
              "      <th></th>\n",
              "      <th>In Sample (Train)</th>\n",
              "      <th>Out of Sample (Test)</th>\n",
              "    </tr>\n",
              "  </thead>\n",
              "  <tbody>\n",
              "    <tr>\n",
              "      <th>Start</th>\n",
              "      <td>2020-01-02 00:00:00</td>\n",
              "      <td>2022-05-09 00:00:00</td>\n",
              "    </tr>\n",
              "    <tr>\n",
              "      <th>End</th>\n",
              "      <td>2022-05-06 00:00:00</td>\n",
              "      <td>2023-05-11 00:00:00</td>\n",
              "    </tr>\n",
              "    <tr>\n",
              "      <th>Duration</th>\n",
              "      <td>855 days 00:00:00</td>\n",
              "      <td>367 days 00:00:00</td>\n",
              "    </tr>\n",
              "    <tr>\n",
              "      <th>Exposure Time [%]</th>\n",
              "      <td>93.412162</td>\n",
              "      <td>98.425197</td>\n",
              "    </tr>\n",
              "    <tr>\n",
              "      <th>Equity Final [$]</th>\n",
              "      <td>18421.327962</td>\n",
              "      <td>11777.599015</td>\n",
              "    </tr>\n",
              "    <tr>\n",
              "      <th>Equity Peak [$]</th>\n",
              "      <td>18976.204845</td>\n",
              "      <td>15048.499192</td>\n",
              "    </tr>\n",
              "    <tr>\n",
              "      <th>Return [%]</th>\n",
              "      <td>84.21328</td>\n",
              "      <td>17.77599</td>\n",
              "    </tr>\n",
              "  </tbody>\n",
              "</table>\n",
              "</div>"
            ],
            "text/plain": [
              "                     In Sample (Train) Out of Sample (Test)\n",
              "Start              2020-01-02 00:00:00  2022-05-09 00:00:00\n",
              "End                2022-05-06 00:00:00  2023-05-11 00:00:00\n",
              "Duration             855 days 00:00:00    367 days 00:00:00\n",
              "Exposure Time [%]            93.412162            98.425197\n",
              "Equity Final [$]          18421.327962         11777.599015\n",
              "Equity Peak [$]           18976.204845         15048.499192\n",
              "Return [%]                    84.21328             17.77599"
            ]
          },
          "execution_count": 25,
          "metadata": {},
          "output_type": "execute_result"
        }
      ],
      "source": [
        "df_results = pd.concat([df_results_train, df_results_test], axis=1)\n",
        "df_results"
      ]
    },
    {
      "attachments": {},
      "cell_type": "markdown",
      "id": "b51050b4",
      "metadata": {},
      "source": [
        "#### Plot both backtest reports"
      ]
    },
    {
      "cell_type": "code",
      "execution_count": 27,
      "id": "9b2bd10e",
      "metadata": {},
      "outputs": [
        {
          "data": {
            "text/html": [
              "<div style=\"display: table;\"><div style=\"display: table-row;\"><div style=\"display: table-cell;\"><b title=\"bokeh.models.layouts.Row\">Row</b>(</div><div style=\"display: table-cell;\">id&nbsp;=&nbsp;'3443', <span id=\"4057\" style=\"cursor: pointer;\">&hellip;)</span></div></div><div class=\"4056\" style=\"display: none;\"><div style=\"display: table-cell;\"></div><div style=\"display: table-cell;\">align&nbsp;=&nbsp;'start',</div></div><div class=\"4056\" style=\"display: none;\"><div style=\"display: table-cell;\"></div><div style=\"display: table-cell;\">aspect_ratio&nbsp;=&nbsp;None,</div></div><div class=\"4056\" style=\"display: none;\"><div style=\"display: table-cell;\"></div><div style=\"display: table-cell;\">background&nbsp;=&nbsp;None,</div></div><div class=\"4056\" style=\"display: none;\"><div style=\"display: table-cell;\"></div><div style=\"display: table-cell;\">children&nbsp;=&nbsp;[GridBox(id='3440', ...), ToolbarBox(id='3442', ...)],</div></div><div class=\"4056\" style=\"display: none;\"><div style=\"display: table-cell;\"></div><div style=\"display: table-cell;\">cols&nbsp;=&nbsp;'auto',</div></div><div class=\"4056\" style=\"display: none;\"><div style=\"display: table-cell;\"></div><div style=\"display: table-cell;\">css_classes&nbsp;=&nbsp;[],</div></div><div class=\"4056\" style=\"display: none;\"><div style=\"display: table-cell;\"></div><div style=\"display: table-cell;\">disabled&nbsp;=&nbsp;False,</div></div><div class=\"4056\" style=\"display: none;\"><div style=\"display: table-cell;\"></div><div style=\"display: table-cell;\">height&nbsp;=&nbsp;None,</div></div><div class=\"4056\" style=\"display: none;\"><div style=\"display: table-cell;\"></div><div style=\"display: table-cell;\">height_policy&nbsp;=&nbsp;'auto',</div></div><div class=\"4056\" style=\"display: none;\"><div style=\"display: table-cell;\"></div><div style=\"display: table-cell;\">js_event_callbacks&nbsp;=&nbsp;{},</div></div><div class=\"4056\" style=\"display: none;\"><div style=\"display: table-cell;\"></div><div style=\"display: table-cell;\">js_property_callbacks&nbsp;=&nbsp;{},</div></div><div class=\"4056\" style=\"display: none;\"><div style=\"display: table-cell;\"></div><div style=\"display: table-cell;\">margin&nbsp;=&nbsp;(0, 0, 0, 0),</div></div><div class=\"4056\" style=\"display: none;\"><div style=\"display: table-cell;\"></div><div style=\"display: table-cell;\">max_height&nbsp;=&nbsp;None,</div></div><div class=\"4056\" style=\"display: none;\"><div style=\"display: table-cell;\"></div><div style=\"display: table-cell;\">max_width&nbsp;=&nbsp;None,</div></div><div class=\"4056\" style=\"display: none;\"><div style=\"display: table-cell;\"></div><div style=\"display: table-cell;\">min_height&nbsp;=&nbsp;None,</div></div><div class=\"4056\" style=\"display: none;\"><div style=\"display: table-cell;\"></div><div style=\"display: table-cell;\">min_width&nbsp;=&nbsp;None,</div></div><div class=\"4056\" style=\"display: none;\"><div style=\"display: table-cell;\"></div><div style=\"display: table-cell;\">name&nbsp;=&nbsp;None,</div></div><div class=\"4056\" style=\"display: none;\"><div style=\"display: table-cell;\"></div><div style=\"display: table-cell;\">sizing_mode&nbsp;=&nbsp;'stretch_width',</div></div><div class=\"4056\" style=\"display: none;\"><div style=\"display: table-cell;\"></div><div style=\"display: table-cell;\">spacing&nbsp;=&nbsp;0,</div></div><div class=\"4056\" style=\"display: none;\"><div style=\"display: table-cell;\"></div><div style=\"display: table-cell;\">subscribed_events&nbsp;=&nbsp;[],</div></div><div class=\"4056\" style=\"display: none;\"><div style=\"display: table-cell;\"></div><div style=\"display: table-cell;\">syncable&nbsp;=&nbsp;True,</div></div><div class=\"4056\" style=\"display: none;\"><div style=\"display: table-cell;\"></div><div style=\"display: table-cell;\">tags&nbsp;=&nbsp;[],</div></div><div class=\"4056\" style=\"display: none;\"><div style=\"display: table-cell;\"></div><div style=\"display: table-cell;\">visible&nbsp;=&nbsp;True,</div></div><div class=\"4056\" style=\"display: none;\"><div style=\"display: table-cell;\"></div><div style=\"display: table-cell;\">width&nbsp;=&nbsp;None,</div></div><div class=\"4056\" style=\"display: none;\"><div style=\"display: table-cell;\"></div><div style=\"display: table-cell;\">width_policy&nbsp;=&nbsp;'auto')</div></div></div>\n",
              "<script>\n",
              "(function() {\n",
              "  let expanded = false;\n",
              "  const ellipsis = document.getElementById(\"4057\");\n",
              "  ellipsis.addEventListener(\"click\", function() {\n",
              "    const rows = document.getElementsByClassName(\"4056\");\n",
              "    for (let i = 0; i < rows.length; i++) {\n",
              "      const el = rows[i];\n",
              "      el.style.display = expanded ? \"none\" : \"table-row\";\n",
              "    }\n",
              "    ellipsis.innerHTML = expanded ? \"&hellip;)\" : \"&lsaquo;&lsaquo;&lsaquo;\";\n",
              "    expanded = !expanded;\n",
              "  });\n",
              "})();\n",
              "</script>\n"
            ],
            "text/plain": [
              "Row(id='3443', ...)"
            ]
          },
          "execution_count": 27,
          "metadata": {},
          "output_type": "execute_result"
        }
      ],
      "source": [
        "bt_test.plot(filename='reports_backtesting/regression_test_set.html')\n",
        "bt_train.plot(filename='reports_backtesting/regression_train_set.html')"
      ]
    },
    {
      "attachments": {},
      "cell_type": "markdown",
      "id": "d2ee855b",
      "metadata": {},
      "source": [
        "## How to solve the overfitting problem?\n",
        "\n",
        "> Walk Forward Validation as a realistic approach to backtesting.\n",
        "\n",
        "Next tutorial → [Walk Forward Validation]()"
      ]
    },
    {
      "attachments": {},
      "cell_type": "markdown",
      "id": "059dfbfd",
      "metadata": {},
      "source": [
        "![](<src/10_Table_Validation Methods.png>)"
      ]
    }
  ],
  "metadata": {
    "kernelspec": {
      "display_name": "Python 3",
      "language": "python",
      "name": "python3"
    },
    "language_info": {
      "codemirror_mode": {
        "name": "ipython",
        "version": 3
      },
      "file_extension": ".py",
      "mimetype": "text/x-python",
      "name": "python",
      "nbconvert_exporter": "python",
      "pygments_lexer": "ipython3",
      "version": "3.10.10"
    }
  },
  "nbformat": 4,
  "nbformat_minor": 5
}